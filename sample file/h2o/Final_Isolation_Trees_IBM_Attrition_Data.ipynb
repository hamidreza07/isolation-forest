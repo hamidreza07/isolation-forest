{
  "cells": [
    {
      "cell_type": "markdown",
      "metadata": {
        "id": "OK521MiQ7kU9"
      },
      "source": [
        "# **Using Isolation Trees to Identify Anomalies in HR Data**\n",
        "Adam McKinnon and I decided to explore the use of isolation trees to identify anomalies in HR data. We used the IBM Attrition dataset available on the Kaggle website to demonstrate how this work can be done. \n",
        "\n",
        "This project is done all in Python, using the [H2O library](https://docs.h2o.ai/h2o/latest-stable/h2o-docs/data-science/if.html#). \n",
        "\n",
        "## **Table of Contents**\n",
        "\n",
        "* [Introduction & Business Problem](#introduction)\n",
        "* [Data & Libraries](#data)\n",
        "* [Methodology](#methodology)\n",
        "* [Analysis](#analysis)\n",
        "* [Results](#results)\n",
        "* [Conclusion](#conclusion)\n",
        "\n",
        "(This project was a collaboration between myself and Adam McKinnon.)"
      ]
    },
    {
      "cell_type": "markdown",
      "metadata": {
        "id": "5z2yJdHl9UDI"
      },
      "source": [
        "### **Introduction & Business Problem** <a name=\"introduction\"></a>"
      ]
    },
    {
      "cell_type": "markdown",
      "metadata": {
        "id": "APsfuPwr9Yi9"
      },
      "source": [
        "**Business Problem**\n",
        "\n",
        "The topic of data quality is like that of I.T. services generally… you only ever hear about it when there’s a problem! There appears a universal and implicit assumption among stakeholders receiving the findings of people analytics initiatives that your data is “good”. Failure to observe this assumption of high-quality data can significantly (and rapidly) undermine the credibility of findings, irrespective of how small the data quality deviation! \n",
        "\n",
        "From an analytical perspective, the quality of your insights can be potentially limited by flawed data. As the saying goes “garbage in, garbage out”. Coupled with stakeholder expectations, it becomes increasingly important that analytics practitioners invest time and energy in the assessment and curation of high-quality data to maximise the influence of analytics on decision making in their organisations. \n",
        "\n",
        "At the same time, monitoring data quality can be immensely time consuming, simplistic in execution (i.e., simple evaluation criteria such as age ranges), highly repetitive, and utterly devoid of ANY professional enjoyment! To overcome these shortcomings, we have developed an automated, sophisticated, multi-dimensional and scalable approach to data quality evaluation using unsupervised machine learning—Isolation Forests. \n",
        "\n",
        "**The Process**\n",
        "\n",
        "We will use Isolation Forests, an unsupervised machine learning approach, to scan employee data for potentially anomalous records.  \n"
      ]
    },
    {
      "cell_type": "markdown",
      "metadata": {
        "id": "CBOt0Ybh9ZDL"
      },
      "source": [
        "### **Data & Libraries** <a name=\"data\"></a>"
      ]
    },
    {
      "cell_type": "markdown",
      "metadata": {
        "id": "wSonXYKj9cBC"
      },
      "source": [
        "For this project, we used the IBM HR Attrition dataset ([available on the Kaggle website](https:/https://www.kaggle.com/datasets/pavansubhasht/ibm-hr-analytics-attrition-dataset)). This particular set of data has 35 variables, including a mixture of quantitative and qualitative. \n",
        "\n",
        "There are a few options when it comes to packages that support use of the isolation forrest algorithm (our model of choice for this project - more on that later). We decided to use the H2O package because it limits the amount of data transformation that needs to be done. Alternative packages require you to one-hot-encode the data, whereas the H2O package works with a mixture of quantiative and qualitative data. \n",
        "\n",
        "After installing the H2O and Pandas libraries, we ingested the HR data and did some minor cleanup of column names. \n",
        "\n"
      ]
    },
    {
      "cell_type": "markdown",
      "metadata": {
        "id": "13YJ4k2Z-IgV"
      },
      "source": [
        "####Install h20 and import libraries"
      ]
    },
    {
      "cell_type": "code",
      "execution_count": null,
      "metadata": {
        "colab": {
          "base_uri": "https://localhost:8080/"
        },
        "id": "F-4N0K2B-aix",
        "outputId": "f9b938a3-50ec-4b75-a7ef-218759586168"
      },
      "outputs": [
        {
          "name": "stdout",
          "output_type": "stream",
          "text": [
            "Looking in indexes: https://pypi.org/simple, https://us-python.pkg.dev/colab-wheels/public/simple/\n",
            "Looking in links: http://h2o-release.s3.amazonaws.com/h2o/latest_stable_Py.html\n",
            "\u001b[33mWARNING: The repository located at h2o-release.s3.amazonaws.com is not a trusted or secure host and is being ignored. If this repository is available via HTTPS we recommend you use HTTPS instead, otherwise you may silence this warning and allow it anyway with '--trusted-host h2o-release.s3.amazonaws.com'.\u001b[0m\n",
            "Collecting h2o\n",
            "  Downloading h2o-3.36.1.3.tar.gz (177.0 MB)\n",
            "\u001b[K     |████████████████████████████████| 177.0 MB 36 kB/s \n",
            "\u001b[?25hRequirement already satisfied: requests in /usr/local/lib/python3.7/dist-packages (from h2o) (2.23.0)\n",
            "Requirement already satisfied: tabulate in /usr/local/lib/python3.7/dist-packages (from h2o) (0.8.10)\n",
            "Requirement already satisfied: future in /usr/local/lib/python3.7/dist-packages (from h2o) (0.16.0)\n",
            "Requirement already satisfied: idna<3,>=2.5 in /usr/local/lib/python3.7/dist-packages (from requests->h2o) (2.10)\n",
            "Requirement already satisfied: certifi>=2017.4.17 in /usr/local/lib/python3.7/dist-packages (from requests->h2o) (2022.6.15)\n",
            "Requirement already satisfied: chardet<4,>=3.0.2 in /usr/local/lib/python3.7/dist-packages (from requests->h2o) (3.0.4)\n",
            "Requirement already satisfied: urllib3!=1.25.0,!=1.25.1,<1.26,>=1.21.1 in /usr/local/lib/python3.7/dist-packages (from requests->h2o) (1.24.3)\n",
            "Building wheels for collected packages: h2o\n",
            "  Building wheel for h2o (setup.py) ... \u001b[?25l\u001b[?25hdone\n",
            "  Created wheel for h2o: filename=h2o-3.36.1.3-py2.py3-none-any.whl size=177103819 sha256=e847b22d540d149335e1c991b4531d4b8b4325990116f72fc8257b80bdffdcb7\n",
            "  Stored in directory: /root/.cache/pip/wheels/64/86/0f/d54be71f64b85d238edb037069bc866f2156cc563bf02be527\n",
            "Successfully built h2o\n",
            "Installing collected packages: h2o\n",
            "Successfully installed h2o-3.36.1.3\n"
          ]
        }
      ],
      "source": [
        "!pip install -f http://h2o-release.s3.amazonaws.com/h2o/latest_stable_Py.html h2o"
      ]
    },
    {
      "cell_type": "code",
      "execution_count": 1,
      "metadata": {
        "colab": {
          "base_uri": "https://localhost:8080/"
        },
        "id": "QhOxC8459Tru",
        "outputId": "2cfa358e-08e9-4e40-f173-e4d0db860c1e"
      },
      "outputs": [
        {
          "name": "stdout",
          "output_type": "stream",
          "text": [
            "Checking whether there is an H2O instance running at http://localhost:54321 ..... not found.\n",
            "Attempting to start a local H2O server...\n",
            "; Java HotSpot(TM) 64-Bit Server VM (build 25.341-b10, mixed mode)\n",
            "  Starting server from C:\\Python310\\Lib\\site-packages\\h2o\\backend\\bin\\h2o.jar\n",
            "  Ice root: C:\\Users\\asus\\AppData\\Local\\Temp\\tmp2lq3tzjl\n",
            "  JVM stdout: C:\\Users\\asus\\AppData\\Local\\Temp\\tmp2lq3tzjl\\h2o_asus_started_from_python.out\n",
            "  JVM stderr: C:\\Users\\asus\\AppData\\Local\\Temp\\tmp2lq3tzjl\\h2o_asus_started_from_python.err\n",
            "  Server is running at http://127.0.0.1:54321\n",
            "Connecting to H2O server at http://127.0.0.1:54321 ... successful.\n"
          ]
        },
        {
          "data": {
            "text/html": [
              "\n",
              "<style>\n",
              "\n",
              "#h2o-table-1.h2o-container {\n",
              "  overflow-x: auto;\n",
              "}\n",
              "#h2o-table-1 .h2o-table {\n",
              "  /* width: 100%; */\n",
              "  margin-top: 1em;\n",
              "  margin-bottom: 1em;\n",
              "}\n",
              "#h2o-table-1 .h2o-table caption {\n",
              "  white-space: nowrap;\n",
              "  caption-side: top;\n",
              "  text-align: left;\n",
              "  /* margin-left: 1em; */\n",
              "  margin: 0;\n",
              "  font-size: larger;\n",
              "}\n",
              "#h2o-table-1 .h2o-table thead {\n",
              "  white-space: nowrap; \n",
              "  position: sticky;\n",
              "  top: 0;\n",
              "  box-shadow: 0 -1px inset;\n",
              "}\n",
              "#h2o-table-1 .h2o-table tbody {\n",
              "  overflow: auto;\n",
              "}\n",
              "#h2o-table-1 .h2o-table th,\n",
              "#h2o-table-1 .h2o-table td {\n",
              "  text-align: right;\n",
              "  /* border: 1px solid; */\n",
              "}\n",
              "#h2o-table-1 .h2o-table tr:nth-child(even) {\n",
              "  /* background: #F5F5F5 */\n",
              "}\n",
              "\n",
              "</style>      \n",
              "<div id=\"h2o-table-1\" class=\"h2o-container\">\n",
              "  <table class=\"h2o-table\">\n",
              "    <caption></caption>\n",
              "    <thead></thead>\n",
              "    <tbody><tr><td>H2O_cluster_uptime:</td>\n",
              "<td>03 secs</td></tr>\n",
              "<tr><td>H2O_cluster_timezone:</td>\n",
              "<td>Asia/Tehran</td></tr>\n",
              "<tr><td>H2O_data_parsing_timezone:</td>\n",
              "<td>UTC</td></tr>\n",
              "<tr><td>H2O_cluster_version:</td>\n",
              "<td>3.38.0.1</td></tr>\n",
              "<tr><td>H2O_cluster_version_age:</td>\n",
              "<td>19 days </td></tr>\n",
              "<tr><td>H2O_cluster_name:</td>\n",
              "<td>H2O_from_python_asus_pttiqx</td></tr>\n",
              "<tr><td>H2O_cluster_total_nodes:</td>\n",
              "<td>1</td></tr>\n",
              "<tr><td>H2O_cluster_free_memory:</td>\n",
              "<td>3.490 Gb</td></tr>\n",
              "<tr><td>H2O_cluster_total_cores:</td>\n",
              "<td>8</td></tr>\n",
              "<tr><td>H2O_cluster_allowed_cores:</td>\n",
              "<td>8</td></tr>\n",
              "<tr><td>H2O_cluster_status:</td>\n",
              "<td>locked, healthy</td></tr>\n",
              "<tr><td>H2O_connection_url:</td>\n",
              "<td>http://127.0.0.1:54321</td></tr>\n",
              "<tr><td>H2O_connection_proxy:</td>\n",
              "<td>{\"http\": null, \"https\": null}</td></tr>\n",
              "<tr><td>H2O_internal_security:</td>\n",
              "<td>False</td></tr>\n",
              "<tr><td>Python_version:</td>\n",
              "<td>3.10.6 final</td></tr></tbody>\n",
              "  </table>\n",
              "</div>\n"
            ],
            "text/plain": [
              "--------------------------  -----------------------------\n",
              "H2O_cluster_uptime:         03 secs\n",
              "H2O_cluster_timezone:       Asia/Tehran\n",
              "H2O_data_parsing_timezone:  UTC\n",
              "H2O_cluster_version:        3.38.0.1\n",
              "H2O_cluster_version_age:    19 days\n",
              "H2O_cluster_name:           H2O_from_python_asus_pttiqx\n",
              "H2O_cluster_total_nodes:    1\n",
              "H2O_cluster_free_memory:    3.490 Gb\n",
              "H2O_cluster_total_cores:    8\n",
              "H2O_cluster_allowed_cores:  8\n",
              "H2O_cluster_status:         locked, healthy\n",
              "H2O_connection_url:         http://127.0.0.1:54321\n",
              "H2O_connection_proxy:       {\"http\": null, \"https\": null}\n",
              "H2O_internal_security:      False\n",
              "Python_version:             3.10.6 final\n",
              "--------------------------  -----------------------------"
            ]
          },
          "metadata": {},
          "output_type": "display_data"
        }
      ],
      "source": [
        "import pandas as pd\n",
        "import h2o\n",
        "h2o.init()\n",
        "\n",
        "from h2o.estimators import H2OIsolationForestEstimator\n",
        "from h2o.estimators import H2ORandomForestEstimator"
      ]
    },
    {
      "cell_type": "markdown",
      "metadata": {
        "id": "12x8hjX8-xk4"
      },
      "source": [
        "####Download data"
      ]
    },
    {
      "cell_type": "code",
      "execution_count": 2,
      "metadata": {
        "colab": {
          "base_uri": "https://localhost:8080/"
        },
        "id": "k52aM0AA7eRa",
        "outputId": "f81de869-97e7-4a55-d4fb-85cb312c3719"
      },
      "outputs": [
        {
          "name": "stdout",
          "output_type": "stream",
          "text": [
            "Parse progress: |████████████████████████████████████████████████████████████████| (done) 100%\n"
          ]
        },
        {
          "data": {
            "text/plain": [
              "['ÃƒÆ’Ã‚Â¯Ãƒâ€šÃ‚Â»Ãƒâ€šÃ‚Â¿Age',\n",
              " 'Attrition',\n",
              " 'BusinessTravel',\n",
              " 'DailyRate',\n",
              " 'Department',\n",
              " 'DistanceFromHome',\n",
              " 'Education',\n",
              " 'EducationField',\n",
              " 'EmployeeCount',\n",
              " 'EmployeeNumber',\n",
              " 'EnvironmentSatisfaction',\n",
              " 'Gender',\n",
              " 'HourlyRate',\n",
              " 'JobInvolvement',\n",
              " 'JobLevel',\n",
              " 'JobRole',\n",
              " 'JobSatisfaction',\n",
              " 'MaritalStatus',\n",
              " 'MonthlyIncome',\n",
              " 'MonthlyRate',\n",
              " 'NumCompaniesWorked',\n",
              " 'Over18',\n",
              " 'OverTime',\n",
              " 'PercentSalaryHike',\n",
              " 'PerformanceRating',\n",
              " 'RelationshipSatisfaction',\n",
              " 'StandardHours',\n",
              " 'StockOptionLevel',\n",
              " 'TotalWorkingYears',\n",
              " 'TrainingTimesLastYear',\n",
              " 'WorkLifeBalance',\n",
              " 'YearsAtCompany',\n",
              " 'YearsInCurrentRole',\n",
              " 'YearsSinceLastPromotion',\n",
              " 'YearsWithCurrManager']"
            ]
          },
          "execution_count": 2,
          "metadata": {},
          "output_type": "execute_result"
        }
      ],
      "source": [
        "#load IBM attrition data using h20\n",
        "employee_data = h2o.import_file('WA_Fn-UseC_-HR-Employee-Attrition.csv')\n",
        "\n",
        "#preview the column names to select those to be included in the analysis\n",
        "employee_data.columns"
      ]
    },
    {
      "cell_type": "code",
      "execution_count": 3,
      "metadata": {
        "colab": {
          "base_uri": "https://localhost:8080/"
        },
        "id": "-fOIO7la-2Ao",
        "outputId": "2d0f86dc-e887-4963-ca28-726573b79229"
      },
      "outputs": [
        {
          "name": "stdout",
          "output_type": "stream",
          "text": [
            "(1471, 35)\n"
          ]
        },
        {
          "data": {
            "text/html": [
              "<table class='dataframe'>\n",
              "<thead>\n",
              "<tr><th style=\"text-align: right;\">  Age</th><th>Attrition  </th><th>BusinessTravel   </th><th style=\"text-align: right;\">  DailyRate</th><th>Department            </th><th style=\"text-align: right;\">  DistanceFromHome</th><th style=\"text-align: right;\">  Education</th><th>EducationField  </th><th style=\"text-align: right;\">  EmployeeCount</th><th style=\"text-align: right;\">  EmployeeNumber</th><th style=\"text-align: right;\">  EnvironmentSatisfaction</th><th>Gender  </th><th style=\"text-align: right;\">  HourlyRate</th><th style=\"text-align: right;\">  JobInvolvement</th><th style=\"text-align: right;\">  JobLevel</th><th>JobRole               </th><th style=\"text-align: right;\">  JobSatisfaction</th><th>MaritalStatus  </th><th style=\"text-align: right;\">  MonthlyIncome</th><th style=\"text-align: right;\">  MonthlyRate</th><th style=\"text-align: right;\">  NumCompaniesWorked</th><th>Over18  </th><th>OverTime  </th><th style=\"text-align: right;\">  PercentSalaryHike</th><th style=\"text-align: right;\">  PerformanceRating</th><th style=\"text-align: right;\">  RelationshipSatisfaction</th><th style=\"text-align: right;\">  StandardHours</th><th style=\"text-align: right;\">  StockOptionLevel</th><th style=\"text-align: right;\">  TotalWorkingYears</th><th style=\"text-align: right;\">  TrainingTimesLastYear</th><th style=\"text-align: right;\">  WorkLifeBalance</th><th style=\"text-align: right;\">  YearsAtCompany</th><th style=\"text-align: right;\">  YearsInCurrentRole</th><th style=\"text-align: right;\">  YearsSinceLastPromotion</th><th style=\"text-align: right;\">  YearsWithCurrManager</th></tr>\n",
              "</thead>\n",
              "<tbody>\n",
              "<tr><td style=\"text-align: right;\">  nan</td><td>Attrition  </td><td>BusinessTravel   </td><td style=\"text-align: right;\">        nan</td><td>Department            </td><td style=\"text-align: right;\">               nan</td><td style=\"text-align: right;\">        nan</td><td>EducationField  </td><td style=\"text-align: right;\">            nan</td><td style=\"text-align: right;\">             nan</td><td style=\"text-align: right;\">                      nan</td><td>Gender  </td><td style=\"text-align: right;\">         nan</td><td style=\"text-align: right;\">             nan</td><td style=\"text-align: right;\">       nan</td><td>JobRole               </td><td style=\"text-align: right;\">              nan</td><td>MaritalStatus  </td><td style=\"text-align: right;\">            nan</td><td style=\"text-align: right;\">          nan</td><td style=\"text-align: right;\">                 nan</td><td>Over18  </td><td>OverTime  </td><td style=\"text-align: right;\">                nan</td><td style=\"text-align: right;\">                nan</td><td style=\"text-align: right;\">                       nan</td><td style=\"text-align: right;\">            nan</td><td style=\"text-align: right;\">               nan</td><td style=\"text-align: right;\">                nan</td><td style=\"text-align: right;\">                    nan</td><td style=\"text-align: right;\">              nan</td><td style=\"text-align: right;\">             nan</td><td style=\"text-align: right;\">                 nan</td><td style=\"text-align: right;\">                      nan</td><td style=\"text-align: right;\">                   nan</td></tr>\n",
              "<tr><td style=\"text-align: right;\">   41</td><td>Yes        </td><td>Travel_Rarely    </td><td style=\"text-align: right;\">       1102</td><td>Sales                 </td><td style=\"text-align: right;\">               nan</td><td style=\"text-align: right;\">          2</td><td>Life Sciences   </td><td style=\"text-align: right;\">              1</td><td style=\"text-align: right;\">               1</td><td style=\"text-align: right;\">                        2</td><td>Female  </td><td style=\"text-align: right;\">          94</td><td style=\"text-align: right;\">               3</td><td style=\"text-align: right;\">         2</td><td>Sales Executive       </td><td style=\"text-align: right;\">                4</td><td>Single         </td><td style=\"text-align: right;\">           5993</td><td style=\"text-align: right;\">        19479</td><td style=\"text-align: right;\">                   8</td><td>Y       </td><td>Yes       </td><td style=\"text-align: right;\">                 11</td><td style=\"text-align: right;\">                  3</td><td style=\"text-align: right;\">                         1</td><td style=\"text-align: right;\">             80</td><td style=\"text-align: right;\">                 0</td><td style=\"text-align: right;\">                  8</td><td style=\"text-align: right;\">                      0</td><td style=\"text-align: right;\">                1</td><td style=\"text-align: right;\">               6</td><td style=\"text-align: right;\">                   4</td><td style=\"text-align: right;\">                        0</td><td style=\"text-align: right;\">                     5</td></tr>\n",
              "<tr><td style=\"text-align: right;\">   49</td><td>No         </td><td>Travel_Frequently</td><td style=\"text-align: right;\">        279</td><td>Research &amp; Development</td><td style=\"text-align: right;\">                 8</td><td style=\"text-align: right;\">          1</td><td>Life Sciences   </td><td style=\"text-align: right;\">              1</td><td style=\"text-align: right;\">               2</td><td style=\"text-align: right;\">                        3</td><td>Male    </td><td style=\"text-align: right;\">          61</td><td style=\"text-align: right;\">               2</td><td style=\"text-align: right;\">         2</td><td>Research Scientist    </td><td style=\"text-align: right;\">                2</td><td>Married        </td><td style=\"text-align: right;\">           5130</td><td style=\"text-align: right;\">        24907</td><td style=\"text-align: right;\">                   1</td><td>Y       </td><td>No        </td><td style=\"text-align: right;\">                 23</td><td style=\"text-align: right;\">                  4</td><td style=\"text-align: right;\">                         4</td><td style=\"text-align: right;\">             80</td><td style=\"text-align: right;\">                 1</td><td style=\"text-align: right;\">                 10</td><td style=\"text-align: right;\">                      3</td><td style=\"text-align: right;\">                3</td><td style=\"text-align: right;\">              10</td><td style=\"text-align: right;\">                   7</td><td style=\"text-align: right;\">                        1</td><td style=\"text-align: right;\">                     7</td></tr>\n",
              "<tr><td style=\"text-align: right;\">   37</td><td>Yes        </td><td>Travel_Rarely    </td><td style=\"text-align: right;\">       1373</td><td>Research &amp; Development</td><td style=\"text-align: right;\">                 2</td><td style=\"text-align: right;\">          2</td><td>Other           </td><td style=\"text-align: right;\">              1</td><td style=\"text-align: right;\">               4</td><td style=\"text-align: right;\">                        4</td><td>Male    </td><td style=\"text-align: right;\">          92</td><td style=\"text-align: right;\">               2</td><td style=\"text-align: right;\">         1</td><td>Laboratory Technician </td><td style=\"text-align: right;\">                3</td><td>Single         </td><td style=\"text-align: right;\">           2090</td><td style=\"text-align: right;\">         2396</td><td style=\"text-align: right;\">                   6</td><td>Y       </td><td>Yes       </td><td style=\"text-align: right;\">                 15</td><td style=\"text-align: right;\">                  3</td><td style=\"text-align: right;\">                         2</td><td style=\"text-align: right;\">             80</td><td style=\"text-align: right;\">                 0</td><td style=\"text-align: right;\">                  7</td><td style=\"text-align: right;\">                      3</td><td style=\"text-align: right;\">                3</td><td style=\"text-align: right;\">               0</td><td style=\"text-align: right;\">                   0</td><td style=\"text-align: right;\">                        0</td><td style=\"text-align: right;\">                     0</td></tr>\n",
              "<tr><td style=\"text-align: right;\">   33</td><td>No         </td><td>Travel_Frequently</td><td style=\"text-align: right;\">       1392</td><td>Research &amp; Development</td><td style=\"text-align: right;\">                 3</td><td style=\"text-align: right;\">          4</td><td>Life Sciences   </td><td style=\"text-align: right;\">              1</td><td style=\"text-align: right;\">               5</td><td style=\"text-align: right;\">                        4</td><td>Female  </td><td style=\"text-align: right;\">          56</td><td style=\"text-align: right;\">               3</td><td style=\"text-align: right;\">         1</td><td>Research Scientist    </td><td style=\"text-align: right;\">                3</td><td>Married        </td><td style=\"text-align: right;\">           2909</td><td style=\"text-align: right;\">        23159</td><td style=\"text-align: right;\">                   1</td><td>Y       </td><td>Yes       </td><td style=\"text-align: right;\">                 11</td><td style=\"text-align: right;\">                  3</td><td style=\"text-align: right;\">                         3</td><td style=\"text-align: right;\">             80</td><td style=\"text-align: right;\">                 0</td><td style=\"text-align: right;\">                  8</td><td style=\"text-align: right;\">                      3</td><td style=\"text-align: right;\">                3</td><td style=\"text-align: right;\">               8</td><td style=\"text-align: right;\">                   7</td><td style=\"text-align: right;\">                        3</td><td style=\"text-align: right;\">                     0</td></tr>\n",
              "<tr><td style=\"text-align: right;\">   27</td><td>No         </td><td>Travel_Rarely    </td><td style=\"text-align: right;\">        591</td><td>Research &amp; Development</td><td style=\"text-align: right;\">                 2</td><td style=\"text-align: right;\">          1</td><td>Medical         </td><td style=\"text-align: right;\">              1</td><td style=\"text-align: right;\">               7</td><td style=\"text-align: right;\">                        1</td><td>Male    </td><td style=\"text-align: right;\">          40</td><td style=\"text-align: right;\">               3</td><td style=\"text-align: right;\">         1</td><td>Laboratory Technician </td><td style=\"text-align: right;\">                2</td><td>Married        </td><td style=\"text-align: right;\">           3468</td><td style=\"text-align: right;\">        16632</td><td style=\"text-align: right;\">                   9</td><td>Y       </td><td>No        </td><td style=\"text-align: right;\">                 12</td><td style=\"text-align: right;\">                  3</td><td style=\"text-align: right;\">                         4</td><td style=\"text-align: right;\">             80</td><td style=\"text-align: right;\">                 1</td><td style=\"text-align: right;\">                  6</td><td style=\"text-align: right;\">                      3</td><td style=\"text-align: right;\">                3</td><td style=\"text-align: right;\">               2</td><td style=\"text-align: right;\">                   2</td><td style=\"text-align: right;\">                        2</td><td style=\"text-align: right;\">                     2</td></tr>\n",
              "<tr><td style=\"text-align: right;\">   32</td><td>No         </td><td>Travel_Frequently</td><td style=\"text-align: right;\">       1005</td><td>Research &amp; Development</td><td style=\"text-align: right;\">                 2</td><td style=\"text-align: right;\">          2</td><td>Life Sciences   </td><td style=\"text-align: right;\">              1</td><td style=\"text-align: right;\">               8</td><td style=\"text-align: right;\">                        4</td><td>Male    </td><td style=\"text-align: right;\">          79</td><td style=\"text-align: right;\">               3</td><td style=\"text-align: right;\">         1</td><td>Laboratory Technician </td><td style=\"text-align: right;\">                4</td><td>Single         </td><td style=\"text-align: right;\">           3068</td><td style=\"text-align: right;\">        11864</td><td style=\"text-align: right;\">                   0</td><td>Y       </td><td>No        </td><td style=\"text-align: right;\">                 13</td><td style=\"text-align: right;\">                  3</td><td style=\"text-align: right;\">                         3</td><td style=\"text-align: right;\">             80</td><td style=\"text-align: right;\">                 0</td><td style=\"text-align: right;\">                  8</td><td style=\"text-align: right;\">                      2</td><td style=\"text-align: right;\">                2</td><td style=\"text-align: right;\">               7</td><td style=\"text-align: right;\">                   7</td><td style=\"text-align: right;\">                        3</td><td style=\"text-align: right;\">                     6</td></tr>\n",
              "<tr><td style=\"text-align: right;\">   59</td><td>No         </td><td>Travel_Rarely    </td><td style=\"text-align: right;\">       1324</td><td>Research &amp; Development</td><td style=\"text-align: right;\">                 3</td><td style=\"text-align: right;\">          3</td><td>Medical         </td><td style=\"text-align: right;\">              1</td><td style=\"text-align: right;\">              10</td><td style=\"text-align: right;\">                        3</td><td>Female  </td><td style=\"text-align: right;\">          81</td><td style=\"text-align: right;\">               4</td><td style=\"text-align: right;\">         1</td><td>Laboratory Technician </td><td style=\"text-align: right;\">                1</td><td>Married        </td><td style=\"text-align: right;\">           2670</td><td style=\"text-align: right;\">         9964</td><td style=\"text-align: right;\">                   4</td><td>Y       </td><td>Yes       </td><td style=\"text-align: right;\">                 20</td><td style=\"text-align: right;\">                  4</td><td style=\"text-align: right;\">                         1</td><td style=\"text-align: right;\">             80</td><td style=\"text-align: right;\">                 3</td><td style=\"text-align: right;\">                 12</td><td style=\"text-align: right;\">                      3</td><td style=\"text-align: right;\">                2</td><td style=\"text-align: right;\">               1</td><td style=\"text-align: right;\">                   0</td><td style=\"text-align: right;\">                        0</td><td style=\"text-align: right;\">                     0</td></tr>\n",
              "<tr><td style=\"text-align: right;\">   30</td><td>No         </td><td>Travel_Rarely    </td><td style=\"text-align: right;\">       1358</td><td>Research &amp; Development</td><td style=\"text-align: right;\">                24</td><td style=\"text-align: right;\">          1</td><td>Life Sciences   </td><td style=\"text-align: right;\">              1</td><td style=\"text-align: right;\">              11</td><td style=\"text-align: right;\">                        4</td><td>Male    </td><td style=\"text-align: right;\">          67</td><td style=\"text-align: right;\">               3</td><td style=\"text-align: right;\">         1</td><td>Laboratory Technician </td><td style=\"text-align: right;\">                3</td><td>Divorced       </td><td style=\"text-align: right;\">           2693</td><td style=\"text-align: right;\">        13335</td><td style=\"text-align: right;\">                   1</td><td>Y       </td><td>No        </td><td style=\"text-align: right;\">                 22</td><td style=\"text-align: right;\">                  4</td><td style=\"text-align: right;\">                         2</td><td style=\"text-align: right;\">             80</td><td style=\"text-align: right;\">                 1</td><td style=\"text-align: right;\">                  1</td><td style=\"text-align: right;\">                      2</td><td style=\"text-align: right;\">                3</td><td style=\"text-align: right;\">               1</td><td style=\"text-align: right;\">                   0</td><td style=\"text-align: right;\">                        0</td><td style=\"text-align: right;\">                     0</td></tr>\n",
              "<tr><td style=\"text-align: right;\">   38</td><td>No         </td><td>Travel_Frequently</td><td style=\"text-align: right;\">        216</td><td>Research &amp; Development</td><td style=\"text-align: right;\">                23</td><td style=\"text-align: right;\">          3</td><td>Life Sciences   </td><td style=\"text-align: right;\">              1</td><td style=\"text-align: right;\">              12</td><td style=\"text-align: right;\">                        4</td><td>Male    </td><td style=\"text-align: right;\">          44</td><td style=\"text-align: right;\">               2</td><td style=\"text-align: right;\">         3</td><td>Manufacturing Director</td><td style=\"text-align: right;\">                3</td><td>Single         </td><td style=\"text-align: right;\">           9526</td><td style=\"text-align: right;\">         8787</td><td style=\"text-align: right;\">                   0</td><td>Y       </td><td>No        </td><td style=\"text-align: right;\">                 21</td><td style=\"text-align: right;\">                  4</td><td style=\"text-align: right;\">                         2</td><td style=\"text-align: right;\">             80</td><td style=\"text-align: right;\">                 0</td><td style=\"text-align: right;\">                 10</td><td style=\"text-align: right;\">                      2</td><td style=\"text-align: right;\">                3</td><td style=\"text-align: right;\">               9</td><td style=\"text-align: right;\">                   7</td><td style=\"text-align: right;\">                        1</td><td style=\"text-align: right;\">                     8</td></tr>\n",
              "</tbody>\n",
              "</table><pre style='font-size: smaller; margin-bottom: 1em;'>[10 rows x 35 columns]</pre>"
            ],
            "text/plain": [
              "  Age  Attrition    BusinessTravel       DailyRate  Department                DistanceFromHome    Education  EducationField      EmployeeCount    EmployeeNumber    EnvironmentSatisfaction  Gender      HourlyRate    JobInvolvement    JobLevel  JobRole                   JobSatisfaction  MaritalStatus      MonthlyIncome    MonthlyRate    NumCompaniesWorked  Over18    OverTime      PercentSalaryHike    PerformanceRating    RelationshipSatisfaction    StandardHours    StockOptionLevel    TotalWorkingYears    TrainingTimesLastYear    WorkLifeBalance    YearsAtCompany    YearsInCurrentRole    YearsSinceLastPromotion    YearsWithCurrManager\n",
              "-----  -----------  -----------------  -----------  ----------------------  ------------------  -----------  ----------------  ---------------  ----------------  -------------------------  --------  ------------  ----------------  ----------  ----------------------  -----------------  ---------------  ---------------  -------------  --------------------  --------  ----------  -------------------  -------------------  --------------------------  ---------------  ------------------  -------------------  -----------------------  -----------------  ----------------  --------------------  -------------------------  ----------------------\n",
              "  nan  Attrition    BusinessTravel             nan  Department                             nan          nan  EducationField                nan               nan                        nan  Gender             nan               nan         nan  JobRole                               nan  MaritalStatus                nan            nan                   nan  Over18    OverTime                    nan                  nan                         nan              nan                 nan                  nan                      nan                nan               nan                   nan                        nan                     nan\n",
              "   41  Yes          Travel_Rarely             1102  Sales                                  nan            2  Life Sciences                   1                 1                          2  Female              94                 3           2  Sales Executive                         4  Single                      5993          19479                     8  Y         Yes                          11                    3                           1               80                   0                    8                        0                  1                 6                     4                          0                       5\n",
              "   49  No           Travel_Frequently          279  Research & Development                   8            1  Life Sciences                   1                 2                          3  Male                61                 2           2  Research Scientist                      2  Married                     5130          24907                     1  Y         No                           23                    4                           4               80                   1                   10                        3                  3                10                     7                          1                       7\n",
              "   37  Yes          Travel_Rarely             1373  Research & Development                   2            2  Other                           1                 4                          4  Male                92                 2           1  Laboratory Technician                   3  Single                      2090           2396                     6  Y         Yes                          15                    3                           2               80                   0                    7                        3                  3                 0                     0                          0                       0\n",
              "   33  No           Travel_Frequently         1392  Research & Development                   3            4  Life Sciences                   1                 5                          4  Female              56                 3           1  Research Scientist                      3  Married                     2909          23159                     1  Y         Yes                          11                    3                           3               80                   0                    8                        3                  3                 8                     7                          3                       0\n",
              "   27  No           Travel_Rarely              591  Research & Development                   2            1  Medical                         1                 7                          1  Male                40                 3           1  Laboratory Technician                   2  Married                     3468          16632                     9  Y         No                           12                    3                           4               80                   1                    6                        3                  3                 2                     2                          2                       2\n",
              "   32  No           Travel_Frequently         1005  Research & Development                   2            2  Life Sciences                   1                 8                          4  Male                79                 3           1  Laboratory Technician                   4  Single                      3068          11864                     0  Y         No                           13                    3                           3               80                   0                    8                        2                  2                 7                     7                          3                       6\n",
              "   59  No           Travel_Rarely             1324  Research & Development                   3            3  Medical                         1                10                          3  Female              81                 4           1  Laboratory Technician                   1  Married                     2670           9964                     4  Y         Yes                          20                    4                           1               80                   3                   12                        3                  2                 1                     0                          0                       0\n",
              "   30  No           Travel_Rarely             1358  Research & Development                  24            1  Life Sciences                   1                11                          4  Male                67                 3           1  Laboratory Technician                   3  Divorced                    2693          13335                     1  Y         No                           22                    4                           2               80                   1                    1                        2                  3                 1                     0                          0                       0\n",
              "   38  No           Travel_Frequently          216  Research & Development                  23            3  Life Sciences                   1                12                          4  Male                44                 2           3  Manufacturing Director                  3  Single                      9526           8787                     0  Y         No                           21                    4                           2               80                   0                   10                        2                  3                 9                     7                          1                       8\n",
              "[10 rows x 35 columns]\n"
            ]
          },
          "execution_count": 3,
          "metadata": {},
          "output_type": "execute_result"
        }
      ],
      "source": [
        "#rename the first column since it imported with extra characters\n",
        "employee_data = employee_data.rename({'ÃƒÆ’Ã‚Â¯Ãƒâ€šÃ‚Â»Ãƒâ€šÃ‚Â¿Age': 'Age'})\n",
        "\n",
        "#print the dataframe shape and preview the table\n",
        "print(employee_data.shape)\n",
        "employee_data.head()"
      ]
    },
    {
      "cell_type": "markdown",
      "metadata": {
        "id": "fGtLfRZs_I_j"
      },
      "source": [
        "### **Methodology** <a name=\"methodology\"></a>"
      ]
    },
    {
      "cell_type": "markdown",
      "metadata": {
        "id": "N4DRwW4l_N6K"
      },
      "source": [
        "The Isolation Forest algorithm partitions data through a forest of decision trees. Each split of the data is made randomly and the number of splits it takes to isolate a record indicates whether the record is an anomaly. When a forest of random trees collectively produces shorter path lengths for particular samples, they are highly likely to be anomalies [(see their site for a more detailed explanation)](https://github.com/h2oai/h2o-tutorials/blob/master/tutorials/isolation-forest/interpreting_isolation-forest.ipynb). \n",
        "\n",
        "In the end, the Isolation Forest algorithm allows us to separate potentially anomalous data points from the rest. \n"
      ]
    },
    {
      "cell_type": "markdown",
      "metadata": {
        "id": "rsxXQZ95_dDY"
      },
      "source": [
        "### **Analysis** <a name=\"analysis\"></a>"
      ]
    },
    {
      "cell_type": "markdown",
      "metadata": {
        "id": "eHJeho-B_e6b"
      },
      "source": [
        "####Run Isolation Trees algorithm on the data"
      ]
    },
    {
      "cell_type": "markdown",
      "metadata": {
        "id": "MLGTdqQo_oJs"
      },
      "source": [
        "Before running the algorithm, we will select the dataset columns we want to include in the data quality assessment. Then, we will train the isolation tree algorithm on the selected data. "
      ]
    },
    {
      "cell_type": "code",
      "execution_count": 11,
      "metadata": {},
      "outputs": [],
      "source": [
        "employee_data=employee_data.drop([0],axis=0)"
      ]
    },
    {
      "cell_type": "code",
      "execution_count": 12,
      "metadata": {
        "colab": {
          "base_uri": "https://localhost:8080/"
        },
        "id": "TcSLTWmG_4Hw",
        "outputId": "abcca4eb-2b25-47d9-9206-ad77a6d79ee9"
      },
      "outputs": [
        {
          "name": "stdout",
          "output_type": "stream",
          "text": [
            "isolationforest Model Build progress: |"
          ]
        },
        {
          "name": "stderr",
          "output_type": "stream",
          "text": [
            "c:\\Python310\\lib\\site-packages\\h2o\\estimators\\estimator_base.py:193: RuntimeWarning: Dropping bad and constant columns: [StandardHours, Over18]\n",
            "  warnings.warn(mesg[\"message\"], RuntimeWarning)\n"
          ]
        },
        {
          "name": "stdout",
          "output_type": "stream",
          "text": [
            "██████████████████████████████████████████| (done) 100%\n"
          ]
        },
        {
          "data": {
            "text/html": [
              "<pre style='margin: 1em 0 1em 0;'>Model Details\n",
              "=============\n",
              "H2OIsolationForestEstimator : Isolation Forest\n",
              "Model Key: isolation_forest.hex\n",
              "</pre>\n",
              "<div style='margin: 1em 0 1em 0;'>\n",
              "<style>\n",
              "\n",
              "#h2o-table-2.h2o-container {\n",
              "  overflow-x: auto;\n",
              "}\n",
              "#h2o-table-2 .h2o-table {\n",
              "  /* width: 100%; */\n",
              "  margin-top: 1em;\n",
              "  margin-bottom: 1em;\n",
              "}\n",
              "#h2o-table-2 .h2o-table caption {\n",
              "  white-space: nowrap;\n",
              "  caption-side: top;\n",
              "  text-align: left;\n",
              "  /* margin-left: 1em; */\n",
              "  margin: 0;\n",
              "  font-size: larger;\n",
              "}\n",
              "#h2o-table-2 .h2o-table thead {\n",
              "  white-space: nowrap; \n",
              "  position: sticky;\n",
              "  top: 0;\n",
              "  box-shadow: 0 -1px inset;\n",
              "}\n",
              "#h2o-table-2 .h2o-table tbody {\n",
              "  overflow: auto;\n",
              "}\n",
              "#h2o-table-2 .h2o-table th,\n",
              "#h2o-table-2 .h2o-table td {\n",
              "  text-align: right;\n",
              "  /* border: 1px solid; */\n",
              "}\n",
              "#h2o-table-2 .h2o-table tr:nth-child(even) {\n",
              "  /* background: #F5F5F5 */\n",
              "}\n",
              "\n",
              "</style>      \n",
              "<div id=\"h2o-table-2\" class=\"h2o-container\">\n",
              "  <table class=\"h2o-table\">\n",
              "    <caption>Model Summary: </caption>\n",
              "    <thead><tr><th></th>\n",
              "<th>number_of_trees</th>\n",
              "<th>number_of_internal_trees</th>\n",
              "<th>model_size_in_bytes</th>\n",
              "<th>min_depth</th>\n",
              "<th>max_depth</th>\n",
              "<th>mean_depth</th>\n",
              "<th>min_leaves</th>\n",
              "<th>max_leaves</th>\n",
              "<th>mean_leaves</th></tr></thead>\n",
              "    <tbody><tr><td></td>\n",
              "<td>50.0</td>\n",
              "<td>50.0</td>\n",
              "<td>49970.0</td>\n",
              "<td>8.0</td>\n",
              "<td>8.0</td>\n",
              "<td>8.0</td>\n",
              "<td>36.0</td>\n",
              "<td>113.0</td>\n",
              "<td>74.86</td></tr></tbody>\n",
              "  </table>\n",
              "</div>\n",
              "</div>\n",
              "<div style='margin: 1em 0 1em 0;'><pre style='margin: 1em 0 1em 0;'>ModelMetricsAnomaly: isolationforest\n",
              "** Reported on train data. **\n",
              "\n",
              "Anomaly Score: 6.679190169417537\n",
              "Normalized Anomaly Score: 0.17626913768267213</pre></div>\n",
              "<div style='margin: 1em 0 1em 0;'>\n",
              "<style>\n",
              "\n",
              "#h2o-table-3.h2o-container {\n",
              "  overflow-x: auto;\n",
              "}\n",
              "#h2o-table-3 .h2o-table {\n",
              "  /* width: 100%; */\n",
              "  margin-top: 1em;\n",
              "  margin-bottom: 1em;\n",
              "}\n",
              "#h2o-table-3 .h2o-table caption {\n",
              "  white-space: nowrap;\n",
              "  caption-side: top;\n",
              "  text-align: left;\n",
              "  /* margin-left: 1em; */\n",
              "  margin: 0;\n",
              "  font-size: larger;\n",
              "}\n",
              "#h2o-table-3 .h2o-table thead {\n",
              "  white-space: nowrap; \n",
              "  position: sticky;\n",
              "  top: 0;\n",
              "  box-shadow: 0 -1px inset;\n",
              "}\n",
              "#h2o-table-3 .h2o-table tbody {\n",
              "  overflow: auto;\n",
              "}\n",
              "#h2o-table-3 .h2o-table th,\n",
              "#h2o-table-3 .h2o-table td {\n",
              "  text-align: right;\n",
              "  /* border: 1px solid; */\n",
              "}\n",
              "#h2o-table-3 .h2o-table tr:nth-child(even) {\n",
              "  /* background: #F5F5F5 */\n",
              "}\n",
              "\n",
              "</style>      \n",
              "<div id=\"h2o-table-3\" class=\"h2o-container\">\n",
              "  <table class=\"h2o-table\">\n",
              "    <caption>Scoring History: </caption>\n",
              "    <thead><tr><th></th>\n",
              "<th>timestamp</th>\n",
              "<th>duration</th>\n",
              "<th>number_of_trees</th>\n",
              "<th>mean_tree_path_length</th>\n",
              "<th>mean_anomaly_score</th></tr></thead>\n",
              "    <tbody><tr><td></td>\n",
              "<td>2022-10-09 13:46:58</td>\n",
              "<td> 0.002 sec</td>\n",
              "<td>0.0</td>\n",
              "<td>nan</td>\n",
              "<td>nan</td></tr>\n",
              "<tr><td></td>\n",
              "<td>2022-10-09 13:46:58</td>\n",
              "<td> 0.023 sec</td>\n",
              "<td>1.0</td>\n",
              "<td>6.7640264</td>\n",
              "<td>0.0393289</td></tr>\n",
              "<tr><td></td>\n",
              "<td>2022-10-09 13:46:58</td>\n",
              "<td> 0.038 sec</td>\n",
              "<td>2.0</td>\n",
              "<td>6.6859244</td>\n",
              "<td>0.0785189</td></tr>\n",
              "<tr><td></td>\n",
              "<td>2022-10-09 13:46:58</td>\n",
              "<td> 0.047 sec</td>\n",
              "<td>3.0</td>\n",
              "<td>6.7391996</td>\n",
              "<td>0.0782401</td></tr>\n",
              "<tr><td></td>\n",
              "<td>2022-10-09 13:46:58</td>\n",
              "<td> 0.055 sec</td>\n",
              "<td>4.0</td>\n",
              "<td>6.6938209</td>\n",
              "<td>0.1224717</td></tr>\n",
              "<tr><td></td>\n",
              "<td>2022-10-09 13:46:58</td>\n",
              "<td> 0.062 sec</td>\n",
              "<td>5.0</td>\n",
              "<td>6.7092971</td>\n",
              "<td>0.1211262</td></tr>\n",
              "<tr><td></td>\n",
              "<td>2022-10-09 13:46:58</td>\n",
              "<td> 0.069 sec</td>\n",
              "<td>6.0</td>\n",
              "<td>6.7159070</td>\n",
              "<td>0.1136372</td></tr>\n",
              "<tr><td></td>\n",
              "<td>2022-10-09 13:46:58</td>\n",
              "<td> 0.077 sec</td>\n",
              "<td>7.0</td>\n",
              "<td>6.7184078</td>\n",
              "<td>0.1231966</td></tr>\n",
              "<tr><td></td>\n",
              "<td>2022-10-09 13:46:58</td>\n",
              "<td> 0.089 sec</td>\n",
              "<td>8.0</td>\n",
              "<td>6.7151231</td>\n",
              "<td>0.1199482</td></tr>\n",
              "<tr><td></td>\n",
              "<td>2022-10-09 13:46:58</td>\n",
              "<td> 0.097 sec</td>\n",
              "<td>9.0</td>\n",
              "<td>6.7140819</td>\n",
              "<td>0.1354349</td></tr>\n",
              "<tr><td>---</td>\n",
              "<td>---</td>\n",
              "<td>---</td>\n",
              "<td>---</td>\n",
              "<td>---</td>\n",
              "<td>---</td></tr>\n",
              "<tr><td></td>\n",
              "<td>2022-10-09 13:46:58</td>\n",
              "<td> 0.426 sec</td>\n",
              "<td>41.0</td>\n",
              "<td>6.6768901</td>\n",
              "<td>0.1814727</td></tr>\n",
              "<tr><td></td>\n",
              "<td>2022-10-09 13:46:58</td>\n",
              "<td> 0.434 sec</td>\n",
              "<td>42.0</td>\n",
              "<td>6.6780760</td>\n",
              "<td>0.1852166</td></tr>\n",
              "<tr><td></td>\n",
              "<td>2022-10-09 13:46:58</td>\n",
              "<td> 0.440 sec</td>\n",
              "<td>43.0</td>\n",
              "<td>6.6756338</td>\n",
              "<td>0.1788172</td></tr>\n",
              "<tr><td></td>\n",
              "<td>2022-10-09 13:46:58</td>\n",
              "<td> 0.446 sec</td>\n",
              "<td>44.0</td>\n",
              "<td>6.6789920</td>\n",
              "<td>0.1810814</td></tr>\n",
              "<tr><td></td>\n",
              "<td>2022-10-09 13:46:58</td>\n",
              "<td> 0.452 sec</td>\n",
              "<td>45.0</td>\n",
              "<td>6.6811171</td>\n",
              "<td>0.1708301</td></tr>\n",
              "<tr><td></td>\n",
              "<td>2022-10-09 13:46:58</td>\n",
              "<td> 0.459 sec</td>\n",
              "<td>46.0</td>\n",
              "<td>6.6844379</td>\n",
              "<td>0.1728078</td></tr>\n",
              "<tr><td></td>\n",
              "<td>2022-10-09 13:46:58</td>\n",
              "<td> 0.465 sec</td>\n",
              "<td>47.0</td>\n",
              "<td>6.6814234</td>\n",
              "<td>0.1701489</td></tr>\n",
              "<tr><td></td>\n",
              "<td>2022-10-09 13:46:58</td>\n",
              "<td> 0.471 sec</td>\n",
              "<td>48.0</td>\n",
              "<td>6.6811554</td>\n",
              "<td>0.1719611</td></tr>\n",
              "<tr><td></td>\n",
              "<td>2022-10-09 13:46:58</td>\n",
              "<td> 0.480 sec</td>\n",
              "<td>49.0</td>\n",
              "<td>6.6793593</td>\n",
              "<td>0.1765325</td></tr>\n",
              "<tr><td></td>\n",
              "<td>2022-10-09 13:46:58</td>\n",
              "<td> 0.488 sec</td>\n",
              "<td>50.0</td>\n",
              "<td>6.6791902</td>\n",
              "<td>0.1762691</td></tr></tbody>\n",
              "  </table>\n",
              "</div>\n",
              "<pre style='font-size: smaller; margin-bottom: 1em;'>[51 rows x 6 columns]</pre></div><pre style=\"font-size: smaller; margin: 1em 0 0 0;\">\n",
              "\n",
              "[tips]\n",
              "Use `model.explain()` to inspect the model.\n",
              "--\n",
              "Use `h2o.display.toggle_user_tips()` to switch on/off this section.</pre>"
            ],
            "text/plain": [
              "Model Details\n",
              "=============\n",
              "H2OIsolationForestEstimator : Isolation Forest\n",
              "Model Key: isolation_forest.hex\n",
              "\n",
              "\n",
              "Model Summary: \n",
              "    number_of_trees    number_of_internal_trees    model_size_in_bytes    min_depth    max_depth    mean_depth    min_leaves    max_leaves    mean_leaves\n",
              "--  -----------------  --------------------------  ---------------------  -----------  -----------  ------------  ------------  ------------  -------------\n",
              "    50                 50                          49970                  8            8            8             36            113           74.86\n",
              "\n",
              "ModelMetricsAnomaly: isolationforest\n",
              "** Reported on train data. **\n",
              "\n",
              "Anomaly Score: 6.679190169417537\n",
              "Normalized Anomaly Score: 0.17626913768267213\n",
              "\n",
              "Scoring History: \n",
              "     timestamp            duration    number_of_trees    mean_tree_path_length    mean_anomaly_score\n",
              "---  -------------------  ----------  -----------------  -----------------------  --------------------\n",
              "     2022-10-09 13:46:58  0.002 sec   0.0                nan                      nan\n",
              "     2022-10-09 13:46:58  0.023 sec   1.0                6.764026402640264        0.03932893289328932\n",
              "     2022-10-09 13:46:58  0.038 sec   2.0                6.685924369747899        0.07851890756302521\n",
              "     2022-10-09 13:46:58  0.047 sec   3.0                6.739199636198273        0.07824010914051843\n",
              "     2022-10-09 13:46:58  0.055 sec   4.0                6.693820861678004        0.12247165532879818\n",
              "     2022-10-09 13:46:58  0.062 sec   5.0                6.709297052154196        0.12112622826908541\n",
              "     2022-10-09 13:46:58  0.069 sec   6.0                6.7159070294784575       0.11363718820861679\n",
              "     2022-10-09 13:46:58  0.077 sec   7.0                6.718407839326208        0.12319657029478459\n",
              "     2022-10-09 13:46:58  0.089 sec   8.0                6.715123096857791        0.11994816974408812\n",
              "     2022-10-09 13:46:58  0.097 sec   9.0                6.71408190260231         0.1354348882410107\n",
              "---  ---                  ---         ---                ---                      ---\n",
              "     2022-10-09 13:46:58  0.426 sec   41.0               6.676890141955793        0.18147265999743134\n",
              "     2022-10-09 13:46:58  0.434 sec   42.0               6.678075980079021        0.18521655940659074\n",
              "     2022-10-09 13:46:58  0.440 sec   43.0               6.6756338386520655       0.17881724279437367\n",
              "     2022-10-09 13:46:58  0.446 sec   44.0               6.678992027493777        0.18108142038812503\n",
              "     2022-10-09 13:46:58  0.452 sec   45.0               6.681117110425072        0.17083011941514056\n",
              "     2022-10-09 13:46:58  0.459 sec   46.0               6.684437902636904        0.1728078152226478\n",
              "     2022-10-09 13:46:58  0.465 sec   47.0               6.681423400361879        0.1701488657158135\n",
              "     2022-10-09 13:46:58  0.471 sec   48.0               6.681155375769           0.17196114565267412\n",
              "     2022-10-09 13:46:58  0.480 sec   49.0               6.679359311154761        0.17653251408333373\n",
              "     2022-10-09 13:46:58  0.488 sec   50.0               6.679190169417537        0.17626913768267213\n",
              "[51 rows x 6 columns]\n",
              "\n",
              "\n",
              "[tips]\n",
              "Use `model.explain()` to inspect the model.\n",
              "--\n",
              "Use `h2o.display.toggle_user_tips()` to switch on/off this section."
            ]
          },
          "execution_count": 12,
          "metadata": {},
          "output_type": "execute_result"
        }
      ],
      "source": [
        "#define the columns of data we will use in our analysis\n",
        "x_var = ['Age', 'BusinessTravel', 'DailyRate', 'Department', 'DistanceFromHome', 'Education', 'EducationField', 'EnvironmentSatisfaction', \n",
        "         'Gender', 'HourlyRate', 'JobInvolvement', 'JobLevel', 'JobSatisfaction', 'MaritalStatus', 'MonthlyIncome', 'MonthlyRate',\n",
        "         'NumCompaniesWorked', 'Over18', 'OverTime', 'PercentSalaryHike', 'PerformanceRating', 'StandardHours', \n",
        "         'StockOptionLevel', 'TotalWorkingYears', 'TrainingTimesLastYear', 'WorkLifeBalance', 'YearsAtCompany', 'YearsInCurrentRole',\n",
        "         'YearsSinceLastPromotion', 'YearsWithCurrManager']\n",
        "\n",
        "#train the isolation trees model\n",
        "isolation_model = H2OIsolationForestEstimator(model_id = 'isolation_forest.hex', seed = 1234)\n",
        "training = isolation_model.train(training_frame = employee_data, x = x_var)\n",
        "training"
      ]
    },
    {
      "cell_type": "markdown",
      "metadata": {
        "id": "UP-3LTHuBLtL"
      },
      "source": [
        "Using the trained Isolation Forest model (above), we see an anamoly score of 6.69140874713062. We will use this value as the cutoff when labeling records that are likely anomalies. \n",
        "\n",
        "First, let's visualize the predictions using a histogram. "
      ]
    },
    {
      "cell_type": "code",
      "execution_count": 13,
      "metadata": {
        "colab": {
          "base_uri": "https://localhost:8080/"
        },
        "id": "hscXIpKJAHNN",
        "outputId": "4c530011-c372-4ee0-b3e8-f796b178269d"
      },
      "outputs": [
        {
          "name": "stdout",
          "output_type": "stream",
          "text": [
            "isolationforest prediction progress: |███████████████████████████████████████████| (done) 100%\n"
          ]
        },
        {
          "data": {
            "image/png": "[encoded data removed]",
            "text/plain": [
              "<Figure size 640x480 with 1 Axes>"
            ]
          },
          "metadata": {},
          "output_type": "display_data"
        },
        {
          "data": {
            "text/html": [
              "<table class='dataframe'>\n",
              "<thead>\n",
              "<tr><th style=\"text-align: right;\">  breaks</th><th style=\"text-align: right;\">  counts</th><th style=\"text-align: right;\">  mids_true</th><th style=\"text-align: right;\">     mids</th><th style=\"text-align: right;\">    widths</th></tr>\n",
              "</thead>\n",
              "<tbody>\n",
              "<tr><td style=\"text-align: right;\"> 5.33167</td><td style=\"text-align: right;\">     nan</td><td style=\"text-align: right;\">     nan   </td><td style=\"text-align: right;\">nan      </td><td style=\"text-align: right;\">nan       </td></tr>\n",
              "<tr><td style=\"text-align: right;\"> 5.48333</td><td style=\"text-align: right;\">       2</td><td style=\"text-align: right;\">       2.59</td><td style=\"text-align: right;\">  5.4075 </td><td style=\"text-align: right;\">  0.151667</td></tr>\n",
              "<tr><td style=\"text-align: right;\"> 5.635  </td><td style=\"text-align: right;\">       2</td><td style=\"text-align: right;\">       2.72</td><td style=\"text-align: right;\">  5.55917</td><td style=\"text-align: right;\">  0.151667</td></tr>\n",
              "<tr><td style=\"text-align: right;\"> 5.78667</td><td style=\"text-align: right;\">       6</td><td style=\"text-align: right;\">       2.79</td><td style=\"text-align: right;\">  5.71083</td><td style=\"text-align: right;\">  0.151667</td></tr>\n",
              "<tr><td style=\"text-align: right;\"> 5.93833</td><td style=\"text-align: right;\">       9</td><td style=\"text-align: right;\">       2.82</td><td style=\"text-align: right;\">  5.8625 </td><td style=\"text-align: right;\">  0.151667</td></tr>\n",
              "<tr><td style=\"text-align: right;\"> 6.09   </td><td style=\"text-align: right;\">      16</td><td style=\"text-align: right;\">       2.9 </td><td style=\"text-align: right;\">  6.01417</td><td style=\"text-align: right;\">  0.151667</td></tr>\n",
              "<tr><td style=\"text-align: right;\"> 6.24167</td><td style=\"text-align: right;\">      23</td><td style=\"text-align: right;\">       2.97</td><td style=\"text-align: right;\">  6.16583</td><td style=\"text-align: right;\">  0.151667</td></tr>\n",
              "<tr><td style=\"text-align: right;\"> 6.39333</td><td style=\"text-align: right;\">      36</td><td style=\"text-align: right;\">       3.05</td><td style=\"text-align: right;\">  6.3175 </td><td style=\"text-align: right;\">  0.151667</td></tr>\n",
              "<tr><td style=\"text-align: right;\"> 6.545  </td><td style=\"text-align: right;\">      66</td><td style=\"text-align: right;\">       3.13</td><td style=\"text-align: right;\">  6.46917</td><td style=\"text-align: right;\">  0.151667</td></tr>\n",
              "<tr><td style=\"text-align: right;\"> 6.69667</td><td style=\"text-align: right;\">     164</td><td style=\"text-align: right;\">       3.2 </td><td style=\"text-align: right;\">  6.62083</td><td style=\"text-align: right;\">  0.151667</td></tr>\n",
              "</tbody>\n",
              "</table><pre style='font-size: smaller; margin-bottom: 1em;'>[12 rows x 5 columns]</pre>"
            ],
            "text/plain": [
              "  breaks    counts    mids_true       mids      widths\n",
              "--------  --------  -----------  ---------  ----------\n",
              " 5.33167       nan       nan     nan        nan\n",
              " 5.48333         2         2.59    5.4075     0.151667\n",
              " 5.635           2         2.72    5.55917    0.151667\n",
              " 5.78667         6         2.79    5.71083    0.151667\n",
              " 5.93833         9         2.82    5.8625     0.151667\n",
              " 6.09           16         2.9     6.01417    0.151667\n",
              " 6.24167        23         2.97    6.16583    0.151667\n",
              " 6.39333        36         3.05    6.3175     0.151667\n",
              " 6.545          66         3.13    6.46917    0.151667\n",
              " 6.69667       164         3.2     6.62083    0.151667\n",
              "[12 rows x 5 columns]\n"
            ]
          },
          "execution_count": 13,
          "metadata": {},
          "output_type": "execute_result"
        }
      ],
      "source": [
        "#define the preductions\n",
        "predictions = isolation_model.predict(employee_data)\n",
        "\n",
        "#plot a histogram of the mean_length scores to identify the cutoff for anomalies\n",
        "predictions['mean_length'].hist()"
      ]
    },
    {
      "cell_type": "markdown",
      "metadata": {
        "id": "1eMTYhSnAMys"
      },
      "source": [
        "####Define the anomalies"
      ]
    },
    {
      "cell_type": "markdown",
      "metadata": {
        "id": "rIPl9GIkAQqD"
      },
      "source": [
        "Let's now see how many records have been identified as an anomaly using the anomaly score from the model above."
      ]
    },
    {
      "cell_type": "code",
      "execution_count": 14,
      "metadata": {
        "colab": {
          "base_uri": "https://localhost:8080/"
        },
        "id": "qUyHRlpjAIt3",
        "outputId": "2bc8cc2e-5b9b-4b68-ed17-66436b16c73b"
      },
      "outputs": [
        {
          "name": "stdout",
          "output_type": "stream",
          "text": [
            "Number of Anomalies: 598\n",
            "Number of Anomalies as Percent of Total:  0.40680272108843535\n"
          ]
        }
      ],
      "source": [
        "#print the number of anomalies identified by the model\n",
        "anomalies = employee_data[predictions['mean_length'] < 6.69]\n",
        "print('Number of Anomalies: ' + str(anomalies.nrow))\n",
        "print('Number of Anomalies as Percent of Total: ', str(anomalies.nrow/1470))"
      ]
    },
    {
      "cell_type": "code",
      "execution_count": 15,
      "metadata": {
        "colab": {
          "base_uri": "https://localhost:8080/"
        },
        "id": "Vtje85GkAVXM",
        "outputId": "f7762fa9-9a26-459b-a2cc-dd91af78fde5"
      },
      "outputs": [
        {
          "name": "stdout",
          "output_type": "stream",
          "text": [
            "isolationforest prediction progress: |███████████████████████████████████████████| (done) 100%\n",
            "(598, 31)\n"
          ]
        },
        {
          "data": {
            "text/html": [
              "<table class='dataframe'>\n",
              "<thead>\n",
              "<tr><th style=\"text-align: right;\">  mean_length</th><th style=\"text-align: right;\">  Age</th><th>BusinessTravel  </th><th style=\"text-align: right;\">  DailyRate</th><th>Department            </th><th style=\"text-align: right;\">  DistanceFromHome</th><th style=\"text-align: right;\">  Education</th><th>EducationField  </th><th style=\"text-align: right;\">  EnvironmentSatisfaction</th><th>Gender  </th><th style=\"text-align: right;\">  HourlyRate</th><th style=\"text-align: right;\">  JobInvolvement</th><th style=\"text-align: right;\">  JobLevel</th><th style=\"text-align: right;\">  JobSatisfaction</th><th>MaritalStatus  </th><th style=\"text-align: right;\">  MonthlyIncome</th><th style=\"text-align: right;\">  MonthlyRate</th><th style=\"text-align: right;\">  NumCompaniesWorked</th><th>Over18  </th><th>OverTime  </th><th style=\"text-align: right;\">  PercentSalaryHike</th><th style=\"text-align: right;\">  PerformanceRating</th><th style=\"text-align: right;\">  StandardHours</th><th style=\"text-align: right;\">  StockOptionLevel</th><th style=\"text-align: right;\">  TotalWorkingYears</th><th style=\"text-align: right;\">  TrainingTimesLastYear</th><th style=\"text-align: right;\">  WorkLifeBalance</th><th style=\"text-align: right;\">  YearsAtCompany</th><th style=\"text-align: right;\">  YearsInCurrentRole</th><th style=\"text-align: right;\">  YearsSinceLastPromotion</th><th style=\"text-align: right;\">  YearsWithCurrManager</th></tr>\n",
              "</thead>\n",
              "<tbody>\n",
              "<tr><td style=\"text-align: right;\">         6.44</td><td style=\"text-align: right;\">   41</td><td>Travel_Rarely   </td><td style=\"text-align: right;\">       1102</td><td>Sales                 </td><td style=\"text-align: right;\">               nan</td><td style=\"text-align: right;\">          2</td><td>Life Sciences   </td><td style=\"text-align: right;\">                        2</td><td>Female  </td><td style=\"text-align: right;\">          94</td><td style=\"text-align: right;\">               3</td><td style=\"text-align: right;\">         2</td><td style=\"text-align: right;\">                4</td><td>Single         </td><td style=\"text-align: right;\">           5993</td><td style=\"text-align: right;\">        19479</td><td style=\"text-align: right;\">                   8</td><td>Y       </td><td>Yes       </td><td style=\"text-align: right;\">                 11</td><td style=\"text-align: right;\">                  3</td><td style=\"text-align: right;\">             80</td><td style=\"text-align: right;\">                 0</td><td style=\"text-align: right;\">                  8</td><td style=\"text-align: right;\">                      0</td><td style=\"text-align: right;\">                1</td><td style=\"text-align: right;\">               6</td><td style=\"text-align: right;\">                   4</td><td style=\"text-align: right;\">                        0</td><td style=\"text-align: right;\">                     5</td></tr>\n",
              "<tr><td style=\"text-align: right;\">         6.56</td><td style=\"text-align: right;\">   37</td><td>Travel_Rarely   </td><td style=\"text-align: right;\">       1373</td><td>Research &amp; Development</td><td style=\"text-align: right;\">                 2</td><td style=\"text-align: right;\">          2</td><td>Other           </td><td style=\"text-align: right;\">                        4</td><td>Male    </td><td style=\"text-align: right;\">          92</td><td style=\"text-align: right;\">               2</td><td style=\"text-align: right;\">         1</td><td style=\"text-align: right;\">                3</td><td>Single         </td><td style=\"text-align: right;\">           2090</td><td style=\"text-align: right;\">         2396</td><td style=\"text-align: right;\">                   6</td><td>Y       </td><td>Yes       </td><td style=\"text-align: right;\">                 15</td><td style=\"text-align: right;\">                  3</td><td style=\"text-align: right;\">             80</td><td style=\"text-align: right;\">                 0</td><td style=\"text-align: right;\">                  7</td><td style=\"text-align: right;\">                      3</td><td style=\"text-align: right;\">                3</td><td style=\"text-align: right;\">               0</td><td style=\"text-align: right;\">                   0</td><td style=\"text-align: right;\">                        0</td><td style=\"text-align: right;\">                     0</td></tr>\n",
              "<tr><td style=\"text-align: right;\">         6.6 </td><td style=\"text-align: right;\">   27</td><td>Travel_Rarely   </td><td style=\"text-align: right;\">        591</td><td>Research &amp; Development</td><td style=\"text-align: right;\">                 2</td><td style=\"text-align: right;\">          1</td><td>Medical         </td><td style=\"text-align: right;\">                        1</td><td>Male    </td><td style=\"text-align: right;\">          40</td><td style=\"text-align: right;\">               3</td><td style=\"text-align: right;\">         1</td><td style=\"text-align: right;\">                2</td><td>Married        </td><td style=\"text-align: right;\">           3468</td><td style=\"text-align: right;\">        16632</td><td style=\"text-align: right;\">                   9</td><td>Y       </td><td>No        </td><td style=\"text-align: right;\">                 12</td><td style=\"text-align: right;\">                  3</td><td style=\"text-align: right;\">             80</td><td style=\"text-align: right;\">                 1</td><td style=\"text-align: right;\">                  6</td><td style=\"text-align: right;\">                      3</td><td style=\"text-align: right;\">                3</td><td style=\"text-align: right;\">               2</td><td style=\"text-align: right;\">                   2</td><td style=\"text-align: right;\">                        2</td><td style=\"text-align: right;\">                     2</td></tr>\n",
              "<tr><td style=\"text-align: right;\">         6.62</td><td style=\"text-align: right;\">   59</td><td>Travel_Rarely   </td><td style=\"text-align: right;\">       1324</td><td>Research &amp; Development</td><td style=\"text-align: right;\">                 3</td><td style=\"text-align: right;\">          3</td><td>Medical         </td><td style=\"text-align: right;\">                        3</td><td>Female  </td><td style=\"text-align: right;\">          81</td><td style=\"text-align: right;\">               4</td><td style=\"text-align: right;\">         1</td><td style=\"text-align: right;\">                1</td><td>Married        </td><td style=\"text-align: right;\">           2670</td><td style=\"text-align: right;\">         9964</td><td style=\"text-align: right;\">                   4</td><td>Y       </td><td>Yes       </td><td style=\"text-align: right;\">                 20</td><td style=\"text-align: right;\">                  4</td><td style=\"text-align: right;\">             80</td><td style=\"text-align: right;\">                 3</td><td style=\"text-align: right;\">                 12</td><td style=\"text-align: right;\">                      3</td><td style=\"text-align: right;\">                2</td><td style=\"text-align: right;\">               1</td><td style=\"text-align: right;\">                   0</td><td style=\"text-align: right;\">                        0</td><td style=\"text-align: right;\">                     0</td></tr>\n",
              "<tr><td style=\"text-align: right;\">         6.68</td><td style=\"text-align: right;\">   30</td><td>Travel_Rarely   </td><td style=\"text-align: right;\">       1358</td><td>Research &amp; Development</td><td style=\"text-align: right;\">                24</td><td style=\"text-align: right;\">          1</td><td>Life Sciences   </td><td style=\"text-align: right;\">                        4</td><td>Male    </td><td style=\"text-align: right;\">          67</td><td style=\"text-align: right;\">               3</td><td style=\"text-align: right;\">         1</td><td style=\"text-align: right;\">                3</td><td>Divorced       </td><td style=\"text-align: right;\">           2693</td><td style=\"text-align: right;\">        13335</td><td style=\"text-align: right;\">                   1</td><td>Y       </td><td>No        </td><td style=\"text-align: right;\">                 22</td><td style=\"text-align: right;\">                  4</td><td style=\"text-align: right;\">             80</td><td style=\"text-align: right;\">                 1</td><td style=\"text-align: right;\">                  1</td><td style=\"text-align: right;\">                      2</td><td style=\"text-align: right;\">                3</td><td style=\"text-align: right;\">               1</td><td style=\"text-align: right;\">                   0</td><td style=\"text-align: right;\">                        0</td><td style=\"text-align: right;\">                     0</td></tr>\n",
              "<tr><td style=\"text-align: right;\">         6.68</td><td style=\"text-align: right;\">   36</td><td>Travel_Rarely   </td><td style=\"text-align: right;\">       1299</td><td>Research &amp; Development</td><td style=\"text-align: right;\">                27</td><td style=\"text-align: right;\">          3</td><td>Medical         </td><td style=\"text-align: right;\">                        3</td><td>Male    </td><td style=\"text-align: right;\">          94</td><td style=\"text-align: right;\">               3</td><td style=\"text-align: right;\">         2</td><td style=\"text-align: right;\">                3</td><td>Married        </td><td style=\"text-align: right;\">           5237</td><td style=\"text-align: right;\">        16577</td><td style=\"text-align: right;\">                   6</td><td>Y       </td><td>No        </td><td style=\"text-align: right;\">                 13</td><td style=\"text-align: right;\">                  3</td><td style=\"text-align: right;\">             80</td><td style=\"text-align: right;\">                 2</td><td style=\"text-align: right;\">                 17</td><td style=\"text-align: right;\">                      3</td><td style=\"text-align: right;\">                2</td><td style=\"text-align: right;\">               7</td><td style=\"text-align: right;\">                   7</td><td style=\"text-align: right;\">                        7</td><td style=\"text-align: right;\">                     7</td></tr>\n",
              "<tr><td style=\"text-align: right;\">         6.5 </td><td style=\"text-align: right;\">   31</td><td>Travel_Rarely   </td><td style=\"text-align: right;\">        670</td><td>Research &amp; Development</td><td style=\"text-align: right;\">                26</td><td style=\"text-align: right;\">          1</td><td>Life Sciences   </td><td style=\"text-align: right;\">                        1</td><td>Male    </td><td style=\"text-align: right;\">          31</td><td style=\"text-align: right;\">               3</td><td style=\"text-align: right;\">         1</td><td style=\"text-align: right;\">                3</td><td>Divorced       </td><td style=\"text-align: right;\">           2911</td><td style=\"text-align: right;\">        15170</td><td style=\"text-align: right;\">                   1</td><td>Y       </td><td>No        </td><td style=\"text-align: right;\">                 17</td><td style=\"text-align: right;\">                  3</td><td style=\"text-align: right;\">             80</td><td style=\"text-align: right;\">                 1</td><td style=\"text-align: right;\">                  5</td><td style=\"text-align: right;\">                      1</td><td style=\"text-align: right;\">                2</td><td style=\"text-align: right;\">               5</td><td style=\"text-align: right;\">                   2</td><td style=\"text-align: right;\">                        4</td><td style=\"text-align: right;\">                     3</td></tr>\n",
              "<tr><td style=\"text-align: right;\">         6.64</td><td style=\"text-align: right;\">   29</td><td>Travel_Rarely   </td><td style=\"text-align: right;\">       1389</td><td>Research &amp; Development</td><td style=\"text-align: right;\">                21</td><td style=\"text-align: right;\">          4</td><td>Life Sciences   </td><td style=\"text-align: right;\">                        2</td><td>Female  </td><td style=\"text-align: right;\">          51</td><td style=\"text-align: right;\">               4</td><td style=\"text-align: right;\">         3</td><td style=\"text-align: right;\">                1</td><td>Divorced       </td><td style=\"text-align: right;\">           9980</td><td style=\"text-align: right;\">        10195</td><td style=\"text-align: right;\">                   1</td><td>Y       </td><td>No        </td><td style=\"text-align: right;\">                 11</td><td style=\"text-align: right;\">                  3</td><td style=\"text-align: right;\">             80</td><td style=\"text-align: right;\">                 1</td><td style=\"text-align: right;\">                 10</td><td style=\"text-align: right;\">                      1</td><td style=\"text-align: right;\">                3</td><td style=\"text-align: right;\">              10</td><td style=\"text-align: right;\">                   9</td><td style=\"text-align: right;\">                        8</td><td style=\"text-align: right;\">                     8</td></tr>\n",
              "<tr><td style=\"text-align: right;\">         6.62</td><td style=\"text-align: right;\">   32</td><td>Travel_Rarely   </td><td style=\"text-align: right;\">        334</td><td>Research &amp; Development</td><td style=\"text-align: right;\">                 5</td><td style=\"text-align: right;\">          2</td><td>Life Sciences   </td><td style=\"text-align: right;\">                        1</td><td>Male    </td><td style=\"text-align: right;\">          80</td><td style=\"text-align: right;\">               4</td><td style=\"text-align: right;\">         1</td><td style=\"text-align: right;\">                2</td><td>Divorced       </td><td style=\"text-align: right;\">           3298</td><td style=\"text-align: right;\">        15053</td><td style=\"text-align: right;\">                   0</td><td>Y       </td><td>Yes       </td><td style=\"text-align: right;\">                 12</td><td style=\"text-align: right;\">                  3</td><td style=\"text-align: right;\">             80</td><td style=\"text-align: right;\">                 2</td><td style=\"text-align: right;\">                  7</td><td style=\"text-align: right;\">                      5</td><td style=\"text-align: right;\">                2</td><td style=\"text-align: right;\">               6</td><td style=\"text-align: right;\">                   2</td><td style=\"text-align: right;\">                        0</td><td style=\"text-align: right;\">                     5</td></tr>\n",
              "<tr><td style=\"text-align: right;\">         6.4 </td><td style=\"text-align: right;\">   22</td><td>Non-Travel      </td><td style=\"text-align: right;\">       1123</td><td>Research &amp; Development</td><td style=\"text-align: right;\">                16</td><td style=\"text-align: right;\">          2</td><td>Medical         </td><td style=\"text-align: right;\">                        4</td><td>Male    </td><td style=\"text-align: right;\">          96</td><td style=\"text-align: right;\">               4</td><td style=\"text-align: right;\">         1</td><td style=\"text-align: right;\">                4</td><td>Divorced       </td><td style=\"text-align: right;\">           2935</td><td style=\"text-align: right;\">         7324</td><td style=\"text-align: right;\">                   1</td><td>Y       </td><td>Yes       </td><td style=\"text-align: right;\">                 13</td><td style=\"text-align: right;\">                  3</td><td style=\"text-align: right;\">             80</td><td style=\"text-align: right;\">                 2</td><td style=\"text-align: right;\">                  1</td><td style=\"text-align: right;\">                      2</td><td style=\"text-align: right;\">                2</td><td style=\"text-align: right;\">               1</td><td style=\"text-align: right;\">                   0</td><td style=\"text-align: right;\">                        0</td><td style=\"text-align: right;\">                     0</td></tr>\n",
              "</tbody>\n",
              "</table><pre style='font-size: smaller; margin-bottom: 1em;'>[10 rows x 31 columns]</pre>"
            ],
            "text/plain": [
              "  mean_length    Age  BusinessTravel      DailyRate  Department                DistanceFromHome    Education  EducationField      EnvironmentSatisfaction  Gender      HourlyRate    JobInvolvement    JobLevel    JobSatisfaction  MaritalStatus      MonthlyIncome    MonthlyRate    NumCompaniesWorked  Over18    OverTime      PercentSalaryHike    PerformanceRating    StandardHours    StockOptionLevel    TotalWorkingYears    TrainingTimesLastYear    WorkLifeBalance    YearsAtCompany    YearsInCurrentRole    YearsSinceLastPromotion    YearsWithCurrManager\n",
              "-------------  -----  ----------------  -----------  ----------------------  ------------------  -----------  ----------------  -------------------------  --------  ------------  ----------------  ----------  -----------------  ---------------  ---------------  -------------  --------------------  --------  ----------  -------------------  -------------------  ---------------  ------------------  -------------------  -----------------------  -----------------  ----------------  --------------------  -------------------------  ----------------------\n",
              "         6.44     41  Travel_Rarely            1102  Sales                                  nan            2  Life Sciences                             2  Female              94                 3           2                  4  Single                      5993          19479                     8  Y         Yes                          11                    3               80                   0                    8                        0                  1                 6                     4                          0                       5\n",
              "         6.56     37  Travel_Rarely            1373  Research & Development                   2            2  Other                                     4  Male                92                 2           1                  3  Single                      2090           2396                     6  Y         Yes                          15                    3               80                   0                    7                        3                  3                 0                     0                          0                       0\n",
              "         6.6      27  Travel_Rarely             591  Research & Development                   2            1  Medical                                   1  Male                40                 3           1                  2  Married                     3468          16632                     9  Y         No                           12                    3               80                   1                    6                        3                  3                 2                     2                          2                       2\n",
              "         6.62     59  Travel_Rarely            1324  Research & Development                   3            3  Medical                                   3  Female              81                 4           1                  1  Married                     2670           9964                     4  Y         Yes                          20                    4               80                   3                   12                        3                  2                 1                     0                          0                       0\n",
              "         6.68     30  Travel_Rarely            1358  Research & Development                  24            1  Life Sciences                             4  Male                67                 3           1                  3  Divorced                    2693          13335                     1  Y         No                           22                    4               80                   1                    1                        2                  3                 1                     0                          0                       0\n",
              "         6.68     36  Travel_Rarely            1299  Research & Development                  27            3  Medical                                   3  Male                94                 3           2                  3  Married                     5237          16577                     6  Y         No                           13                    3               80                   2                   17                        3                  2                 7                     7                          7                       7\n",
              "         6.5      31  Travel_Rarely             670  Research & Development                  26            1  Life Sciences                             1  Male                31                 3           1                  3  Divorced                    2911          15170                     1  Y         No                           17                    3               80                   1                    5                        1                  2                 5                     2                          4                       3\n",
              "         6.64     29  Travel_Rarely            1389  Research & Development                  21            4  Life Sciences                             2  Female              51                 4           3                  1  Divorced                    9980          10195                     1  Y         No                           11                    3               80                   1                   10                        1                  3                10                     9                          8                       8\n",
              "         6.62     32  Travel_Rarely             334  Research & Development                   5            2  Life Sciences                             1  Male                80                 4           1                  2  Divorced                    3298          15053                     0  Y         Yes                          12                    3               80                   2                    7                        5                  2                 6                     2                          0                       5\n",
              "         6.4      22  Non-Travel               1123  Research & Development                  16            2  Medical                                   4  Male                96                 4           1                  4  Divorced                    2935           7324                     1  Y         Yes                          13                    3               80                   2                    1                        2                  2                 1                     0                          0                       0\n",
              "[10 rows x 31 columns]\n"
            ]
          },
          "execution_count": 15,
          "metadata": {},
          "output_type": "execute_result"
        }
      ],
      "source": [
        "#create a dataframe of the records identified as an anomaly from the model\n",
        "anomaly_records = isolation_model.predict(anomalies)['mean_length'].cbind(anomalies[x_var])\n",
        "print(anomaly_records.shape)\n",
        "anomaly_records.head()"
      ]
    },
    {
      "cell_type": "markdown",
      "metadata": {
        "id": "JuBdZtivBjkd"
      },
      "source": [
        "Next, we divide the anomalies into quartiles, allowing us to prioritize those that are most likely an anomaly over others that may be. This step is of course optional, depending on the number of anomalies identified, the standard of data quality that's needed, and the resources available to check the anomalies. "
      ]
    },
    {
      "cell_type": "code",
      "execution_count": 16,
      "metadata": {
        "colab": {
          "base_uri": "https://localhost:8080/"
        },
        "id": "bvsDyEOFBsf5",
        "outputId": "8b851be7-0b10-4d75-c6a4-7ddd82fd17f5"
      },
      "outputs": [
        {
          "name": "stdout",
          "output_type": "stream",
          "text": [
            "Quartile Values:  [(6.38, 6.54], (6.54, 6.62], (6.62, 6.68], (5.178999999999999, 6.38]]\n",
            "Categories (4, interval[float64, right]): [(5.178999999999999, 6.38] < (6.38, 6.54] < (6.54, 6.62] < (6.62, 6.68]]\n"
          ]
        },
        {
          "data": {
            "text/html": [
              "<div>\n",
              "<style scoped>\n",
              "    .dataframe tbody tr th:only-of-type {\n",
              "        vertical-align: middle;\n",
              "    }\n",
              "\n",
              "    .dataframe tbody tr th {\n",
              "        vertical-align: top;\n",
              "    }\n",
              "\n",
              "    .dataframe thead th {\n",
              "        text-align: right;\n",
              "    }\n",
              "</style>\n",
              "<table border=\"1\" class=\"dataframe\">\n",
              "  <thead>\n",
              "    <tr style=\"text-align: right;\">\n",
              "      <th></th>\n",
              "      <th>mean_length</th>\n",
              "      <th>Quartile</th>\n",
              "      <th>Age</th>\n",
              "      <th>BusinessTravel</th>\n",
              "      <th>DailyRate</th>\n",
              "      <th>Department</th>\n",
              "      <th>DistanceFromHome</th>\n",
              "      <th>Education</th>\n",
              "      <th>EducationField</th>\n",
              "      <th>EnvironmentSatisfaction</th>\n",
              "      <th>...</th>\n",
              "      <th>PerformanceRating</th>\n",
              "      <th>StandardHours</th>\n",
              "      <th>StockOptionLevel</th>\n",
              "      <th>TotalWorkingYears</th>\n",
              "      <th>TrainingTimesLastYear</th>\n",
              "      <th>WorkLifeBalance</th>\n",
              "      <th>YearsAtCompany</th>\n",
              "      <th>YearsInCurrentRole</th>\n",
              "      <th>YearsSinceLastPromotion</th>\n",
              "      <th>YearsWithCurrManager</th>\n",
              "    </tr>\n",
              "  </thead>\n",
              "  <tbody>\n",
              "    <tr>\n",
              "      <th>0</th>\n",
              "      <td>6.44</td>\n",
              "      <td>(6.38, 6.54]</td>\n",
              "      <td>41</td>\n",
              "      <td>Travel_Rarely</td>\n",
              "      <td>1102</td>\n",
              "      <td>Sales</td>\n",
              "      <td>NaN</td>\n",
              "      <td>2</td>\n",
              "      <td>Life Sciences</td>\n",
              "      <td>2</td>\n",
              "      <td>...</td>\n",
              "      <td>3</td>\n",
              "      <td>80</td>\n",
              "      <td>0</td>\n",
              "      <td>8</td>\n",
              "      <td>0</td>\n",
              "      <td>1</td>\n",
              "      <td>6</td>\n",
              "      <td>4</td>\n",
              "      <td>0</td>\n",
              "      <td>5</td>\n",
              "    </tr>\n",
              "    <tr>\n",
              "      <th>1</th>\n",
              "      <td>6.56</td>\n",
              "      <td>(6.54, 6.62]</td>\n",
              "      <td>37</td>\n",
              "      <td>Travel_Rarely</td>\n",
              "      <td>1373</td>\n",
              "      <td>Research &amp; Development</td>\n",
              "      <td>2.0</td>\n",
              "      <td>2</td>\n",
              "      <td>Other</td>\n",
              "      <td>4</td>\n",
              "      <td>...</td>\n",
              "      <td>3</td>\n",
              "      <td>80</td>\n",
              "      <td>0</td>\n",
              "      <td>7</td>\n",
              "      <td>3</td>\n",
              "      <td>3</td>\n",
              "      <td>0</td>\n",
              "      <td>0</td>\n",
              "      <td>0</td>\n",
              "      <td>0</td>\n",
              "    </tr>\n",
              "    <tr>\n",
              "      <th>2</th>\n",
              "      <td>6.60</td>\n",
              "      <td>(6.54, 6.62]</td>\n",
              "      <td>27</td>\n",
              "      <td>Travel_Rarely</td>\n",
              "      <td>591</td>\n",
              "      <td>Research &amp; Development</td>\n",
              "      <td>2.0</td>\n",
              "      <td>1</td>\n",
              "      <td>Medical</td>\n",
              "      <td>1</td>\n",
              "      <td>...</td>\n",
              "      <td>3</td>\n",
              "      <td>80</td>\n",
              "      <td>1</td>\n",
              "      <td>6</td>\n",
              "      <td>3</td>\n",
              "      <td>3</td>\n",
              "      <td>2</td>\n",
              "      <td>2</td>\n",
              "      <td>2</td>\n",
              "      <td>2</td>\n",
              "    </tr>\n",
              "    <tr>\n",
              "      <th>3</th>\n",
              "      <td>6.62</td>\n",
              "      <td>(6.54, 6.62]</td>\n",
              "      <td>59</td>\n",
              "      <td>Travel_Rarely</td>\n",
              "      <td>1324</td>\n",
              "      <td>Research &amp; Development</td>\n",
              "      <td>3.0</td>\n",
              "      <td>3</td>\n",
              "      <td>Medical</td>\n",
              "      <td>3</td>\n",
              "      <td>...</td>\n",
              "      <td>4</td>\n",
              "      <td>80</td>\n",
              "      <td>3</td>\n",
              "      <td>12</td>\n",
              "      <td>3</td>\n",
              "      <td>2</td>\n",
              "      <td>1</td>\n",
              "      <td>0</td>\n",
              "      <td>0</td>\n",
              "      <td>0</td>\n",
              "    </tr>\n",
              "    <tr>\n",
              "      <th>4</th>\n",
              "      <td>6.68</td>\n",
              "      <td>(6.62, 6.68]</td>\n",
              "      <td>30</td>\n",
              "      <td>Travel_Rarely</td>\n",
              "      <td>1358</td>\n",
              "      <td>Research &amp; Development</td>\n",
              "      <td>24.0</td>\n",
              "      <td>1</td>\n",
              "      <td>Life Sciences</td>\n",
              "      <td>4</td>\n",
              "      <td>...</td>\n",
              "      <td>4</td>\n",
              "      <td>80</td>\n",
              "      <td>1</td>\n",
              "      <td>1</td>\n",
              "      <td>2</td>\n",
              "      <td>3</td>\n",
              "      <td>1</td>\n",
              "      <td>0</td>\n",
              "      <td>0</td>\n",
              "      <td>0</td>\n",
              "    </tr>\n",
              "  </tbody>\n",
              "</table>\n",
              "<p>5 rows × 32 columns</p>\n",
              "</div>"
            ],
            "text/plain": [
              "   mean_length      Quartile  Age BusinessTravel  DailyRate  \\\n",
              "0         6.44  (6.38, 6.54]   41  Travel_Rarely       1102   \n",
              "1         6.56  (6.54, 6.62]   37  Travel_Rarely       1373   \n",
              "2         6.60  (6.54, 6.62]   27  Travel_Rarely        591   \n",
              "3         6.62  (6.54, 6.62]   59  Travel_Rarely       1324   \n",
              "4         6.68  (6.62, 6.68]   30  Travel_Rarely       1358   \n",
              "\n",
              "               Department  DistanceFromHome  Education EducationField  \\\n",
              "0                   Sales               NaN          2  Life Sciences   \n",
              "1  Research & Development               2.0          2          Other   \n",
              "2  Research & Development               2.0          1        Medical   \n",
              "3  Research & Development               3.0          3        Medical   \n",
              "4  Research & Development              24.0          1  Life Sciences   \n",
              "\n",
              "   EnvironmentSatisfaction  ... PerformanceRating  StandardHours  \\\n",
              "0                        2  ...                 3             80   \n",
              "1                        4  ...                 3             80   \n",
              "2                        1  ...                 3             80   \n",
              "3                        3  ...                 4             80   \n",
              "4                        4  ...                 4             80   \n",
              "\n",
              "   StockOptionLevel  TotalWorkingYears  TrainingTimesLastYear WorkLifeBalance  \\\n",
              "0                 0                  8                      0               1   \n",
              "1                 0                  7                      3               3   \n",
              "2                 1                  6                      3               3   \n",
              "3                 3                 12                      3               2   \n",
              "4                 1                  1                      2               3   \n",
              "\n",
              "   YearsAtCompany  YearsInCurrentRole  YearsSinceLastPromotion  \\\n",
              "0               6                   4                        0   \n",
              "1               0                   0                        0   \n",
              "2               2                   2                        2   \n",
              "3               1                   0                        0   \n",
              "4               1                   0                        0   \n",
              "\n",
              "  YearsWithCurrManager  \n",
              "0                    5  \n",
              "1                    0  \n",
              "2                    2  \n",
              "3                    0  \n",
              "4                    0  \n",
              "\n",
              "[5 rows x 32 columns]"
            ]
          },
          "execution_count": 16,
          "metadata": {},
          "output_type": "execute_result"
        }
      ],
      "source": [
        "#convert anomaly_records to Pandas dataframe to manipulate and calculate quartiles\n",
        "anomalies_df = h2o.as_list(anomaly_records)\n",
        "anomalies_df.head()\n",
        "\n",
        "#create a column for quartiles\n",
        "anomalies_df.insert(1, 'Quartile', '')\n",
        "\n",
        "#calculate the quartile of each mean_length\n",
        "anomalies_df['Quartile'] = pd.qcut(anomalies_df['mean_length'], q=4)\n",
        "\n",
        "print(\"Quartile Values: \", anomalies_df['Quartile'].unique())\n",
        "anomalies_df.head()"
      ]
    },
    {
      "cell_type": "markdown",
      "metadata": {
        "id": "ZNmduuHFCGci"
      },
      "source": [
        "The quartile cutoffs are below. We will use these scores later when we try to understand why these records have anomalies. \n",
        "\n",
        "*   1st quartile = 5.319 to 6.38\n",
        "*   2nd quartile = 6.38 to 6.54\n",
        "*   3rd quartile = 6.54 to 6.62\n",
        "*   4th quartile = 6.62 to 6.68\n",
        "\n",
        "Now let's see how many anomalies are in each quartile, so we can decide how many we want to evaluate further. "
      ]
    },
    {
      "cell_type": "code",
      "execution_count": 17,
      "metadata": {
        "colab": {
          "base_uri": "https://localhost:8080/"
        },
        "id": "oc1Hpg3yCF9D",
        "outputId": "13d4ae08-643d-42cd-c2fd-2c4b11da0886"
      },
      "outputs": [
        {
          "name": "stdout",
          "output_type": "stream",
          "text": [
            "# of 1st quartile:  (148, 32)\n",
            "# of 2nd quartile:  (127, 32)\n",
            "# of 3rd quartile:  (88, 32)\n",
            "# of 4th quartile:  (146, 32)\n"
          ]
        }
      ],
      "source": [
        "#create a df of each quartile and print the shape of each\n",
        "first = anomalies_df.loc[anomalies_df['mean_length'] < 6.38]\n",
        "second = anomalies_df.loc[(anomalies_df['mean_length'] > 6.38) & (anomalies_df['mean_length'] < 6.54)]\n",
        "third = anomalies_df.loc[(anomalies_df['mean_length'] > 6.54) & (anomalies_df['mean_length'] < 6.62)]\n",
        "fourth = anomalies_df.loc[anomalies_df['mean_length'] > 6.62]\n",
        "\n",
        "print('# of 1st quartile: ', first.shape)\n",
        "print('# of 2nd quartile: ', second.shape)\n",
        "print('# of 3rd quartile: ', third.shape)\n",
        "print('# of 4th quartile: ', fourth.shape)"
      ]
    },
    {
      "cell_type": "markdown",
      "metadata": {
        "id": "NOelvOWpExXn"
      },
      "source": [
        "####Understand the anomalies"
      ]
    },
    {
      "cell_type": "markdown",
      "metadata": {
        "id": "iAwSMIMiCrk4"
      },
      "source": [
        "Now that we've broken up the anomalies into quartiles, we will train a random forrest model to predict the the variables that led each record to be flagged as an anomaly. \n",
        "\n",
        "We will create a loop to repeat the process ten times for each record, increasing our certainty in identify the variables that contribute to its anaomaly status. \n",
        "\n",
        "But first, we need to create a list of the employee numbers (unique identifier) and an empty dictionary and dataframe, which we will later populate with the output of our model. "
      ]
    },
    {
      "cell_type": "code",
      "execution_count": 18,
      "metadata": {
        "id": "gtp9j65NB1JA"
      },
      "outputs": [],
      "source": [
        "#redefine the anomalies df using the first quartile cutoff\n",
        "anomalies_first = employee_data[predictions['mean_length'] < 6.38]\n",
        "\n",
        "#copy employee data dataframe to analyize a single record previously identified as an anomaly\n",
        "local_surrogate_data = employee_data[:, :]"
      ]
    },
    {
      "cell_type": "code",
      "execution_count": 24,
      "metadata": {
        "id": "5CULwAU5DIYW"
      },
      "outputs": [],
      "source": [
        "#create Pandas df of anomalies table\n",
        "anomalies_df = anomalies_first.as_data_frame()\n",
        "\n",
        "#create a small test df - remove this code to run the model on the full df\n",
        "anomalies_df = anomalies_df.head(5)\n",
        "\n",
        "#create list of employees\n",
        "employees = anomalies_df['EmployeeNumber'].tolist()\n",
        "\n",
        "#create empty dictionary and df to populate with output from the model\n",
        "anomalies_dict = {}\n",
        "df_output = pd.DataFrame()"
      ]
    },
    {
      "cell_type": "code",
      "execution_count": 28,
      "metadata": {},
      "outputs": [
        {
          "data": {
            "text/html": [
              "<div>\n",
              "<style scoped>\n",
              "    .dataframe tbody tr th:only-of-type {\n",
              "        vertical-align: middle;\n",
              "    }\n",
              "\n",
              "    .dataframe tbody tr th {\n",
              "        vertical-align: top;\n",
              "    }\n",
              "\n",
              "    .dataframe thead th {\n",
              "        text-align: right;\n",
              "    }\n",
              "</style>\n",
              "<table border=\"1\" class=\"dataframe\">\n",
              "  <thead>\n",
              "    <tr style=\"text-align: right;\">\n",
              "      <th></th>\n",
              "      <th>C1</th>\n",
              "      <th>C2</th>\n",
              "      <th>C3</th>\n",
              "      <th>C4</th>\n",
              "    </tr>\n",
              "  </thead>\n",
              "  <tbody>\n",
              "    <tr>\n",
              "      <th>0</th>\n",
              "      <td>HourlyRate</td>\n",
              "      <td>0.833333</td>\n",
              "      <td>1.000000</td>\n",
              "      <td>0.833901</td>\n",
              "    </tr>\n",
              "    <tr>\n",
              "      <th>1</th>\n",
              "      <td>JobSatisfaction</td>\n",
              "      <td>0.135417</td>\n",
              "      <td>0.162500</td>\n",
              "      <td>0.135509</td>\n",
              "    </tr>\n",
              "    <tr>\n",
              "      <th>2</th>\n",
              "      <td>YearsInCurrentRole</td>\n",
              "      <td>0.030570</td>\n",
              "      <td>0.036684</td>\n",
              "      <td>0.030591</td>\n",
              "    </tr>\n",
              "  </tbody>\n",
              "</table>\n",
              "</div>"
            ],
            "text/plain": [
              "                   C1        C2        C3        C4\n",
              "0          HourlyRate  0.833333  1.000000  0.833901\n",
              "1     JobSatisfaction  0.135417  0.162500  0.135509\n",
              "2  YearsInCurrentRole  0.030570  0.036684  0.030591"
            ]
          },
          "execution_count": 28,
          "metadata": {},
          "output_type": "execute_result"
        }
      ],
      "source": [
        "df"
      ]
    },
    {
      "cell_type": "code",
      "execution_count": 25,
      "metadata": {
        "colab": {
          "base_uri": "https://localhost:8080/"
        },
        "id": "rBFOMhCFDKa2",
        "outputId": "692c5a44-032a-4216-9ecc-c17c41437f84"
      },
      "outputs": [
        {
          "name": "stdout",
          "output_type": "stream",
          "text": [
            "drf Model Build progress: |"
          ]
        },
        {
          "name": "stderr",
          "output_type": "stream",
          "text": [
            "c:\\Python310\\lib\\site-packages\\h2o\\estimators\\estimator_base.py:193: RuntimeWarning: Dropping bad and constant columns: [StandardHours, Over18]\n",
            "  warnings.warn(mesg[\"message\"], RuntimeWarning)\n",
            "c:\\Python310\\lib\\site-packages\\h2o\\estimators\\estimator_base.py:193: RuntimeWarning: Sample rate is 100% and no validation dataset and no cross-validation. There are no out-of-bag data to compute error estimates on the training data!\n",
            "  warnings.warn(mesg[\"message\"], RuntimeWarning)\n"
          ]
        },
        {
          "name": "stdout",
          "output_type": "stream",
          "text": [
            "██████████████████████████████████████████████████████| (done) 100%\n",
            "Parse progress: |████████████████████████████████████████████████████████████████| (done) 100%\n",
            "Employee completed:  30\n",
            "drf Model Build progress: |"
          ]
        },
        {
          "name": "stderr",
          "output_type": "stream",
          "text": [
            "C:\\Users\\asus\\AppData\\Local\\Temp\\ipykernel_21752\\4143631131.py:28: FutureWarning: The frame.append method is deprecated and will be removed from pandas in a future version. Use pandas.concat instead.\n",
            "  df_output = df_output.append(anomalies_dict, ignore_index=True)\n",
            "c:\\Python310\\lib\\site-packages\\h2o\\estimators\\estimator_base.py:193: RuntimeWarning: Dropping bad and constant columns: [StandardHours, Over18]\n",
            "  warnings.warn(mesg[\"message\"], RuntimeWarning)\n",
            "c:\\Python310\\lib\\site-packages\\h2o\\estimators\\estimator_base.py:193: RuntimeWarning: Sample rate is 100% and no validation dataset and no cross-validation. There are no out-of-bag data to compute error estimates on the training data!\n",
            "  warnings.warn(mesg[\"message\"], RuntimeWarning)\n"
          ]
        },
        {
          "name": "stdout",
          "output_type": "stream",
          "text": [
            "██████████████████████████████████████████████████████| (done) 100%\n",
            "Parse progress: |████████████████████████████████████████████████████████████████| (done) 100%\n",
            "Employee completed:  30\n",
            "drf Model Build progress: |"
          ]
        },
        {
          "name": "stderr",
          "output_type": "stream",
          "text": [
            "C:\\Users\\asus\\AppData\\Local\\Temp\\ipykernel_21752\\4143631131.py:28: FutureWarning: The frame.append method is deprecated and will be removed from pandas in a future version. Use pandas.concat instead.\n",
            "  df_output = df_output.append(anomalies_dict, ignore_index=True)\n",
            "c:\\Python310\\lib\\site-packages\\h2o\\estimators\\estimator_base.py:193: RuntimeWarning: Dropping bad and constant columns: [StandardHours, Over18]\n",
            "  warnings.warn(mesg[\"message\"], RuntimeWarning)\n",
            "c:\\Python310\\lib\\site-packages\\h2o\\estimators\\estimator_base.py:193: RuntimeWarning: Sample rate is 100% and no validation dataset and no cross-validation. There are no out-of-bag data to compute error estimates on the training data!\n",
            "  warnings.warn(mesg[\"message\"], RuntimeWarning)\n"
          ]
        },
        {
          "name": "stdout",
          "output_type": "stream",
          "text": [
            "██████████████████████████████████████████████████████| (done) 100%\n",
            "Parse progress: |████████████████████████████████████████████████████████████████| (done) 100%\n",
            "Employee completed:  30\n",
            "drf Model Build progress: |"
          ]
        },
        {
          "name": "stderr",
          "output_type": "stream",
          "text": [
            "C:\\Users\\asus\\AppData\\Local\\Temp\\ipykernel_21752\\4143631131.py:28: FutureWarning: The frame.append method is deprecated and will be removed from pandas in a future version. Use pandas.concat instead.\n",
            "  df_output = df_output.append(anomalies_dict, ignore_index=True)\n",
            "c:\\Python310\\lib\\site-packages\\h2o\\estimators\\estimator_base.py:193: RuntimeWarning: Dropping bad and constant columns: [StandardHours, Over18]\n",
            "  warnings.warn(mesg[\"message\"], RuntimeWarning)\n",
            "c:\\Python310\\lib\\site-packages\\h2o\\estimators\\estimator_base.py:193: RuntimeWarning: Sample rate is 100% and no validation dataset and no cross-validation. There are no out-of-bag data to compute error estimates on the training data!\n",
            "  warnings.warn(mesg[\"message\"], RuntimeWarning)\n"
          ]
        },
        {
          "name": "stdout",
          "output_type": "stream",
          "text": [
            "██████████████████████████████████████████████████████| (done) 100%\n",
            "Parse progress: |████████████████████████████████████████████████████████████████| (done) 100%\n",
            "Employee completed:  30\n",
            "drf Model Build progress: |"
          ]
        },
        {
          "name": "stderr",
          "output_type": "stream",
          "text": [
            "C:\\Users\\asus\\AppData\\Local\\Temp\\ipykernel_21752\\4143631131.py:28: FutureWarning: The frame.append method is deprecated and will be removed from pandas in a future version. Use pandas.concat instead.\n",
            "  df_output = df_output.append(anomalies_dict, ignore_index=True)\n",
            "c:\\Python310\\lib\\site-packages\\h2o\\estimators\\estimator_base.py:193: RuntimeWarning: Dropping bad and constant columns: [StandardHours, Over18]\n",
            "  warnings.warn(mesg[\"message\"], RuntimeWarning)\n",
            "c:\\Python310\\lib\\site-packages\\h2o\\estimators\\estimator_base.py:193: RuntimeWarning: Sample rate is 100% and no validation dataset and no cross-validation. There are no out-of-bag data to compute error estimates on the training data!\n",
            "  warnings.warn(mesg[\"message\"], RuntimeWarning)\n"
          ]
        },
        {
          "name": "stdout",
          "output_type": "stream",
          "text": [
            "██████████████████████████████████████████████████████| (done) 100%\n",
            "Parse progress: |████████████████████████████████████████████████████████████████| (done) 100%\n",
            "Employee completed:  30\n",
            "drf Model Build progress: |"
          ]
        },
        {
          "name": "stderr",
          "output_type": "stream",
          "text": [
            "C:\\Users\\asus\\AppData\\Local\\Temp\\ipykernel_21752\\4143631131.py:28: FutureWarning: The frame.append method is deprecated and will be removed from pandas in a future version. Use pandas.concat instead.\n",
            "  df_output = df_output.append(anomalies_dict, ignore_index=True)\n",
            "c:\\Python310\\lib\\site-packages\\h2o\\estimators\\estimator_base.py:193: RuntimeWarning: Dropping bad and constant columns: [StandardHours, Over18]\n",
            "  warnings.warn(mesg[\"message\"], RuntimeWarning)\n",
            "c:\\Python310\\lib\\site-packages\\h2o\\estimators\\estimator_base.py:193: RuntimeWarning: Sample rate is 100% and no validation dataset and no cross-validation. There are no out-of-bag data to compute error estimates on the training data!\n",
            "  warnings.warn(mesg[\"message\"], RuntimeWarning)\n"
          ]
        },
        {
          "name": "stdout",
          "output_type": "stream",
          "text": [
            "██████████████████████████████████████████████████████| (done) 100%\n",
            "Parse progress: |████████████████████████████████████████████████████████████████| (done) 100%\n",
            "Employee completed:  30\n",
            "drf Model Build progress: |"
          ]
        },
        {
          "name": "stderr",
          "output_type": "stream",
          "text": [
            "C:\\Users\\asus\\AppData\\Local\\Temp\\ipykernel_21752\\4143631131.py:28: FutureWarning: The frame.append method is deprecated and will be removed from pandas in a future version. Use pandas.concat instead.\n",
            "  df_output = df_output.append(anomalies_dict, ignore_index=True)\n",
            "c:\\Python310\\lib\\site-packages\\h2o\\estimators\\estimator_base.py:193: RuntimeWarning: Dropping bad and constant columns: [StandardHours, Over18]\n",
            "  warnings.warn(mesg[\"message\"], RuntimeWarning)\n",
            "c:\\Python310\\lib\\site-packages\\h2o\\estimators\\estimator_base.py:193: RuntimeWarning: Sample rate is 100% and no validation dataset and no cross-validation. There are no out-of-bag data to compute error estimates on the training data!\n",
            "  warnings.warn(mesg[\"message\"], RuntimeWarning)\n"
          ]
        },
        {
          "name": "stdout",
          "output_type": "stream",
          "text": [
            "██████████████████████████████████████████████████████| (done) 100%\n",
            "Parse progress: |████████████████████████████████████████████████████████████████| (done) 100%\n",
            "Employee completed:  30\n",
            "drf Model Build progress: |"
          ]
        },
        {
          "name": "stderr",
          "output_type": "stream",
          "text": [
            "C:\\Users\\asus\\AppData\\Local\\Temp\\ipykernel_21752\\4143631131.py:28: FutureWarning: The frame.append method is deprecated and will be removed from pandas in a future version. Use pandas.concat instead.\n",
            "  df_output = df_output.append(anomalies_dict, ignore_index=True)\n",
            "c:\\Python310\\lib\\site-packages\\h2o\\estimators\\estimator_base.py:193: RuntimeWarning: Dropping bad and constant columns: [StandardHours, Over18]\n",
            "  warnings.warn(mesg[\"message\"], RuntimeWarning)\n",
            "c:\\Python310\\lib\\site-packages\\h2o\\estimators\\estimator_base.py:193: RuntimeWarning: Sample rate is 100% and no validation dataset and no cross-validation. There are no out-of-bag data to compute error estimates on the training data!\n",
            "  warnings.warn(mesg[\"message\"], RuntimeWarning)\n"
          ]
        },
        {
          "name": "stdout",
          "output_type": "stream",
          "text": [
            "██████████████████████████████████████████████████████| (done) 100%\n",
            "Parse progress: |████████████████████████████████████████████████████████████████| (done) 100%\n",
            "Employee completed:  30\n",
            "drf Model Build progress: |"
          ]
        },
        {
          "name": "stderr",
          "output_type": "stream",
          "text": [
            "C:\\Users\\asus\\AppData\\Local\\Temp\\ipykernel_21752\\4143631131.py:28: FutureWarning: The frame.append method is deprecated and will be removed from pandas in a future version. Use pandas.concat instead.\n",
            "  df_output = df_output.append(anomalies_dict, ignore_index=True)\n",
            "c:\\Python310\\lib\\site-packages\\h2o\\estimators\\estimator_base.py:193: RuntimeWarning: Dropping bad and constant columns: [StandardHours, Over18]\n",
            "  warnings.warn(mesg[\"message\"], RuntimeWarning)\n",
            "c:\\Python310\\lib\\site-packages\\h2o\\estimators\\estimator_base.py:193: RuntimeWarning: Sample rate is 100% and no validation dataset and no cross-validation. There are no out-of-bag data to compute error estimates on the training data!\n",
            "  warnings.warn(mesg[\"message\"], RuntimeWarning)\n"
          ]
        },
        {
          "name": "stdout",
          "output_type": "stream",
          "text": [
            "██████████████████████████████████████████████████████| (done) 100%\n",
            "Parse progress: |████████████████████████████████████████████████████████████████| (done) 100%\n",
            "Employee completed:  30\n",
            "drf Model Build progress: |"
          ]
        },
        {
          "name": "stderr",
          "output_type": "stream",
          "text": [
            "C:\\Users\\asus\\AppData\\Local\\Temp\\ipykernel_21752\\4143631131.py:28: FutureWarning: The frame.append method is deprecated and will be removed from pandas in a future version. Use pandas.concat instead.\n",
            "  df_output = df_output.append(anomalies_dict, ignore_index=True)\n",
            "c:\\Python310\\lib\\site-packages\\h2o\\estimators\\estimator_base.py:193: RuntimeWarning: Dropping bad and constant columns: [StandardHours, Over18]\n",
            "  warnings.warn(mesg[\"message\"], RuntimeWarning)\n",
            "c:\\Python310\\lib\\site-packages\\h2o\\estimators\\estimator_base.py:193: RuntimeWarning: Sample rate is 100% and no validation dataset and no cross-validation. There are no out-of-bag data to compute error estimates on the training data!\n",
            "  warnings.warn(mesg[\"message\"], RuntimeWarning)\n"
          ]
        },
        {
          "name": "stdout",
          "output_type": "stream",
          "text": [
            "██████████████████████████████████████████████████████| (done) 100%\n",
            "Parse progress: |████████████████████████████████████████████████████████████████| (done) 100%\n",
            "Employee completed:  30\n",
            "drf Model Build progress: |"
          ]
        },
        {
          "name": "stderr",
          "output_type": "stream",
          "text": [
            "C:\\Users\\asus\\AppData\\Local\\Temp\\ipykernel_21752\\4143631131.py:28: FutureWarning: The frame.append method is deprecated and will be removed from pandas in a future version. Use pandas.concat instead.\n",
            "  df_output = df_output.append(anomalies_dict, ignore_index=True)\n",
            "c:\\Python310\\lib\\site-packages\\h2o\\estimators\\estimator_base.py:193: RuntimeWarning: Dropping bad and constant columns: [StandardHours, Over18]\n",
            "  warnings.warn(mesg[\"message\"], RuntimeWarning)\n",
            "c:\\Python310\\lib\\site-packages\\h2o\\estimators\\estimator_base.py:193: RuntimeWarning: Sample rate is 100% and no validation dataset and no cross-validation. There are no out-of-bag data to compute error estimates on the training data!\n",
            "  warnings.warn(mesg[\"message\"], RuntimeWarning)\n"
          ]
        },
        {
          "name": "stdout",
          "output_type": "stream",
          "text": [
            "██████████████████████████████████████████████████████| (done) 100%\n",
            "Parse progress: |████████████████████████████████████████████████████████████████| (done) 100%\n",
            "Employee completed:  33\n",
            "drf Model Build progress: |"
          ]
        },
        {
          "name": "stderr",
          "output_type": "stream",
          "text": [
            "C:\\Users\\asus\\AppData\\Local\\Temp\\ipykernel_21752\\4143631131.py:28: FutureWarning: The frame.append method is deprecated and will be removed from pandas in a future version. Use pandas.concat instead.\n",
            "  df_output = df_output.append(anomalies_dict, ignore_index=True)\n",
            "c:\\Python310\\lib\\site-packages\\h2o\\estimators\\estimator_base.py:193: RuntimeWarning: Dropping bad and constant columns: [StandardHours, Over18]\n",
            "  warnings.warn(mesg[\"message\"], RuntimeWarning)\n",
            "c:\\Python310\\lib\\site-packages\\h2o\\estimators\\estimator_base.py:193: RuntimeWarning: Sample rate is 100% and no validation dataset and no cross-validation. There are no out-of-bag data to compute error estimates on the training data!\n",
            "  warnings.warn(mesg[\"message\"], RuntimeWarning)\n"
          ]
        },
        {
          "name": "stdout",
          "output_type": "stream",
          "text": [
            "██████████████████████████████████████████████████████| (done) 100%\n",
            "Parse progress: |████████████████████████████████████████████████████████████████| (done) 100%\n",
            "Employee completed:  33\n",
            "drf Model Build progress: |"
          ]
        },
        {
          "name": "stderr",
          "output_type": "stream",
          "text": [
            "C:\\Users\\asus\\AppData\\Local\\Temp\\ipykernel_21752\\4143631131.py:28: FutureWarning: The frame.append method is deprecated and will be removed from pandas in a future version. Use pandas.concat instead.\n",
            "  df_output = df_output.append(anomalies_dict, ignore_index=True)\n",
            "c:\\Python310\\lib\\site-packages\\h2o\\estimators\\estimator_base.py:193: RuntimeWarning: Dropping bad and constant columns: [StandardHours, Over18]\n",
            "  warnings.warn(mesg[\"message\"], RuntimeWarning)\n",
            "c:\\Python310\\lib\\site-packages\\h2o\\estimators\\estimator_base.py:193: RuntimeWarning: Sample rate is 100% and no validation dataset and no cross-validation. There are no out-of-bag data to compute error estimates on the training data!\n",
            "  warnings.warn(mesg[\"message\"], RuntimeWarning)\n"
          ]
        },
        {
          "name": "stdout",
          "output_type": "stream",
          "text": [
            "██████████████████████████████████████████████████████| (done) 100%\n",
            "Parse progress: |████████████████████████████████████████████████████████████████| (done) 100%\n",
            "Employee completed:  33\n",
            "drf Model Build progress: |"
          ]
        },
        {
          "name": "stderr",
          "output_type": "stream",
          "text": [
            "C:\\Users\\asus\\AppData\\Local\\Temp\\ipykernel_21752\\4143631131.py:28: FutureWarning: The frame.append method is deprecated and will be removed from pandas in a future version. Use pandas.concat instead.\n",
            "  df_output = df_output.append(anomalies_dict, ignore_index=True)\n",
            "c:\\Python310\\lib\\site-packages\\h2o\\estimators\\estimator_base.py:193: RuntimeWarning: Dropping bad and constant columns: [StandardHours, Over18]\n",
            "  warnings.warn(mesg[\"message\"], RuntimeWarning)\n",
            "c:\\Python310\\lib\\site-packages\\h2o\\estimators\\estimator_base.py:193: RuntimeWarning: Sample rate is 100% and no validation dataset and no cross-validation. There are no out-of-bag data to compute error estimates on the training data!\n",
            "  warnings.warn(mesg[\"message\"], RuntimeWarning)\n"
          ]
        },
        {
          "name": "stdout",
          "output_type": "stream",
          "text": [
            "██████████████████████████████████████████████████████| (done) 100%\n",
            "Parse progress: |████████████████████████████████████████████████████████████████| (done) 100%\n",
            "Employee completed:  33\n",
            "drf Model Build progress: |"
          ]
        },
        {
          "name": "stderr",
          "output_type": "stream",
          "text": [
            "C:\\Users\\asus\\AppData\\Local\\Temp\\ipykernel_21752\\4143631131.py:28: FutureWarning: The frame.append method is deprecated and will be removed from pandas in a future version. Use pandas.concat instead.\n",
            "  df_output = df_output.append(anomalies_dict, ignore_index=True)\n",
            "c:\\Python310\\lib\\site-packages\\h2o\\estimators\\estimator_base.py:193: RuntimeWarning: Dropping bad and constant columns: [StandardHours, Over18]\n",
            "  warnings.warn(mesg[\"message\"], RuntimeWarning)\n",
            "c:\\Python310\\lib\\site-packages\\h2o\\estimators\\estimator_base.py:193: RuntimeWarning: Sample rate is 100% and no validation dataset and no cross-validation. There are no out-of-bag data to compute error estimates on the training data!\n",
            "  warnings.warn(mesg[\"message\"], RuntimeWarning)\n"
          ]
        },
        {
          "name": "stdout",
          "output_type": "stream",
          "text": [
            "██████████████████████████████████████████████████████| (done) 100%\n",
            "Parse progress: |████████████████████████████████████████████████████████████████| (done) 100%\n",
            "Employee completed:  33\n",
            "drf Model Build progress: |"
          ]
        },
        {
          "name": "stderr",
          "output_type": "stream",
          "text": [
            "C:\\Users\\asus\\AppData\\Local\\Temp\\ipykernel_21752\\4143631131.py:28: FutureWarning: The frame.append method is deprecated and will be removed from pandas in a future version. Use pandas.concat instead.\n",
            "  df_output = df_output.append(anomalies_dict, ignore_index=True)\n",
            "c:\\Python310\\lib\\site-packages\\h2o\\estimators\\estimator_base.py:193: RuntimeWarning: Dropping bad and constant columns: [StandardHours, Over18]\n",
            "  warnings.warn(mesg[\"message\"], RuntimeWarning)\n",
            "c:\\Python310\\lib\\site-packages\\h2o\\estimators\\estimator_base.py:193: RuntimeWarning: Sample rate is 100% and no validation dataset and no cross-validation. There are no out-of-bag data to compute error estimates on the training data!\n",
            "  warnings.warn(mesg[\"message\"], RuntimeWarning)\n"
          ]
        },
        {
          "name": "stdout",
          "output_type": "stream",
          "text": [
            "██████████████████████████████████████████████████████| (done) 100%\n",
            "Parse progress: |████████████████████████████████████████████████████████████████| (done) 100%\n",
            "Employee completed:  33\n"
          ]
        },
        {
          "name": "stderr",
          "output_type": "stream",
          "text": [
            "C:\\Users\\asus\\AppData\\Local\\Temp\\ipykernel_21752\\4143631131.py:28: FutureWarning: The frame.append method is deprecated and will be removed from pandas in a future version. Use pandas.concat instead.\n",
            "  df_output = df_output.append(anomalies_dict, ignore_index=True)\n",
            "c:\\Python310\\lib\\site-packages\\h2o\\estimators\\estimator_base.py:193: RuntimeWarning: Dropping bad and constant columns: [StandardHours, Over18]\n",
            "  warnings.warn(mesg[\"message\"], RuntimeWarning)\n",
            "c:\\Python310\\lib\\site-packages\\h2o\\estimators\\estimator_base.py:193: RuntimeWarning: Sample rate is 100% and no validation dataset and no cross-validation. There are no out-of-bag data to compute error estimates on the training data!\n",
            "  warnings.warn(mesg[\"message\"], RuntimeWarning)\n"
          ]
        },
        {
          "name": "stdout",
          "output_type": "stream",
          "text": [
            "drf Model Build progress: |██████████████████████████████████████████████████████| (done) 100%\n",
            "Parse progress: |████████████████████████████████████████████████████████████████| (done) 100%\n",
            "Employee completed:  33\n",
            "drf Model Build progress: |"
          ]
        },
        {
          "name": "stderr",
          "output_type": "stream",
          "text": [
            "C:\\Users\\asus\\AppData\\Local\\Temp\\ipykernel_21752\\4143631131.py:28: FutureWarning: The frame.append method is deprecated and will be removed from pandas in a future version. Use pandas.concat instead.\n",
            "  df_output = df_output.append(anomalies_dict, ignore_index=True)\n",
            "c:\\Python310\\lib\\site-packages\\h2o\\estimators\\estimator_base.py:193: RuntimeWarning: Dropping bad and constant columns: [StandardHours, Over18]\n",
            "  warnings.warn(mesg[\"message\"], RuntimeWarning)\n",
            "c:\\Python310\\lib\\site-packages\\h2o\\estimators\\estimator_base.py:193: RuntimeWarning: Sample rate is 100% and no validation dataset and no cross-validation. There are no out-of-bag data to compute error estimates on the training data!\n",
            "  warnings.warn(mesg[\"message\"], RuntimeWarning)\n"
          ]
        },
        {
          "name": "stdout",
          "output_type": "stream",
          "text": [
            "██████████████████████████████████████████████████████| (done) 100%\n",
            "Parse progress: |████████████████████████████████████████████████████████████████| (done) 100%\n",
            "Employee completed:  33\n",
            "drf Model Build progress: |"
          ]
        },
        {
          "name": "stderr",
          "output_type": "stream",
          "text": [
            "C:\\Users\\asus\\AppData\\Local\\Temp\\ipykernel_21752\\4143631131.py:28: FutureWarning: The frame.append method is deprecated and will be removed from pandas in a future version. Use pandas.concat instead.\n",
            "  df_output = df_output.append(anomalies_dict, ignore_index=True)\n",
            "c:\\Python310\\lib\\site-packages\\h2o\\estimators\\estimator_base.py:193: RuntimeWarning: Dropping bad and constant columns: [StandardHours, Over18]\n",
            "  warnings.warn(mesg[\"message\"], RuntimeWarning)\n",
            "c:\\Python310\\lib\\site-packages\\h2o\\estimators\\estimator_base.py:193: RuntimeWarning: Sample rate is 100% and no validation dataset and no cross-validation. There are no out-of-bag data to compute error estimates on the training data!\n",
            "  warnings.warn(mesg[\"message\"], RuntimeWarning)\n"
          ]
        },
        {
          "name": "stdout",
          "output_type": "stream",
          "text": [
            "██████████████████████████████████████████████████████| (done) 100%\n",
            "Parse progress: |████████████████████████████████████████████████████████████████| (done) 100%\n",
            "Employee completed:  33\n",
            "drf Model Build progress: |"
          ]
        },
        {
          "name": "stderr",
          "output_type": "stream",
          "text": [
            "C:\\Users\\asus\\AppData\\Local\\Temp\\ipykernel_21752\\4143631131.py:28: FutureWarning: The frame.append method is deprecated and will be removed from pandas in a future version. Use pandas.concat instead.\n",
            "  df_output = df_output.append(anomalies_dict, ignore_index=True)\n",
            "c:\\Python310\\lib\\site-packages\\h2o\\estimators\\estimator_base.py:193: RuntimeWarning: Dropping bad and constant columns: [StandardHours, Over18]\n",
            "  warnings.warn(mesg[\"message\"], RuntimeWarning)\n",
            "c:\\Python310\\lib\\site-packages\\h2o\\estimators\\estimator_base.py:193: RuntimeWarning: Sample rate is 100% and no validation dataset and no cross-validation. There are no out-of-bag data to compute error estimates on the training data!\n",
            "  warnings.warn(mesg[\"message\"], RuntimeWarning)\n"
          ]
        },
        {
          "name": "stdout",
          "output_type": "stream",
          "text": [
            "██████████████████████████████████████████████████████| (done) 100%\n",
            "Parse progress: |████████████████████████████████████████████████████████████████| (done) 100%\n",
            "Employee completed:  33\n",
            "drf Model Build progress: |"
          ]
        },
        {
          "name": "stderr",
          "output_type": "stream",
          "text": [
            "C:\\Users\\asus\\AppData\\Local\\Temp\\ipykernel_21752\\4143631131.py:28: FutureWarning: The frame.append method is deprecated and will be removed from pandas in a future version. Use pandas.concat instead.\n",
            "  df_output = df_output.append(anomalies_dict, ignore_index=True)\n",
            "c:\\Python310\\lib\\site-packages\\h2o\\estimators\\estimator_base.py:193: RuntimeWarning: Dropping bad and constant columns: [StandardHours, Over18]\n",
            "  warnings.warn(mesg[\"message\"], RuntimeWarning)\n",
            "c:\\Python310\\lib\\site-packages\\h2o\\estimators\\estimator_base.py:193: RuntimeWarning: Sample rate is 100% and no validation dataset and no cross-validation. There are no out-of-bag data to compute error estimates on the training data!\n",
            "  warnings.warn(mesg[\"message\"], RuntimeWarning)\n"
          ]
        },
        {
          "name": "stdout",
          "output_type": "stream",
          "text": [
            "██████████████████████████████████████████████████████| (done) 100%\n",
            "Parse progress: |████████████████████████████████████████████████████████████████| (done) 100%\n",
            "Employee completed:  36\n",
            "drf Model Build progress: |"
          ]
        },
        {
          "name": "stderr",
          "output_type": "stream",
          "text": [
            "C:\\Users\\asus\\AppData\\Local\\Temp\\ipykernel_21752\\4143631131.py:28: FutureWarning: The frame.append method is deprecated and will be removed from pandas in a future version. Use pandas.concat instead.\n",
            "  df_output = df_output.append(anomalies_dict, ignore_index=True)\n",
            "c:\\Python310\\lib\\site-packages\\h2o\\estimators\\estimator_base.py:193: RuntimeWarning: Dropping bad and constant columns: [StandardHours, Over18]\n",
            "  warnings.warn(mesg[\"message\"], RuntimeWarning)\n",
            "c:\\Python310\\lib\\site-packages\\h2o\\estimators\\estimator_base.py:193: RuntimeWarning: Sample rate is 100% and no validation dataset and no cross-validation. There are no out-of-bag data to compute error estimates on the training data!\n",
            "  warnings.warn(mesg[\"message\"], RuntimeWarning)\n"
          ]
        },
        {
          "name": "stdout",
          "output_type": "stream",
          "text": [
            "██████████████████████████████████████████████████████| (done) 100%\n",
            "Parse progress: |████████████████████████████████████████████████████████████████| (done) 100%\n",
            "Employee completed:  36\n",
            "drf Model Build progress: |"
          ]
        },
        {
          "name": "stderr",
          "output_type": "stream",
          "text": [
            "C:\\Users\\asus\\AppData\\Local\\Temp\\ipykernel_21752\\4143631131.py:28: FutureWarning: The frame.append method is deprecated and will be removed from pandas in a future version. Use pandas.concat instead.\n",
            "  df_output = df_output.append(anomalies_dict, ignore_index=True)\n",
            "c:\\Python310\\lib\\site-packages\\h2o\\estimators\\estimator_base.py:193: RuntimeWarning: Dropping bad and constant columns: [StandardHours, Over18]\n",
            "  warnings.warn(mesg[\"message\"], RuntimeWarning)\n",
            "c:\\Python310\\lib\\site-packages\\h2o\\estimators\\estimator_base.py:193: RuntimeWarning: Sample rate is 100% and no validation dataset and no cross-validation. There are no out-of-bag data to compute error estimates on the training data!\n",
            "  warnings.warn(mesg[\"message\"], RuntimeWarning)\n"
          ]
        },
        {
          "name": "stdout",
          "output_type": "stream",
          "text": [
            "██████████████████████████████████████████████████████| (done) 100%\n",
            "Parse progress: |████████████████████████████████████████████████████████████████| (done) 100%\n",
            "Employee completed:  36\n",
            "drf Model Build progress: |"
          ]
        },
        {
          "name": "stderr",
          "output_type": "stream",
          "text": [
            "C:\\Users\\asus\\AppData\\Local\\Temp\\ipykernel_21752\\4143631131.py:28: FutureWarning: The frame.append method is deprecated and will be removed from pandas in a future version. Use pandas.concat instead.\n",
            "  df_output = df_output.append(anomalies_dict, ignore_index=True)\n",
            "c:\\Python310\\lib\\site-packages\\h2o\\estimators\\estimator_base.py:193: RuntimeWarning: Dropping bad and constant columns: [StandardHours, Over18]\n",
            "  warnings.warn(mesg[\"message\"], RuntimeWarning)\n",
            "c:\\Python310\\lib\\site-packages\\h2o\\estimators\\estimator_base.py:193: RuntimeWarning: Sample rate is 100% and no validation dataset and no cross-validation. There are no out-of-bag data to compute error estimates on the training data!\n",
            "  warnings.warn(mesg[\"message\"], RuntimeWarning)\n"
          ]
        },
        {
          "name": "stdout",
          "output_type": "stream",
          "text": [
            "██████████████████████████████████████████████████████| (done) 100%\n",
            "Parse progress: |████████████████████████████████████████████████████████████████| (done) 100%\n",
            "Employee completed:  36\n",
            "drf Model Build progress: |"
          ]
        },
        {
          "name": "stderr",
          "output_type": "stream",
          "text": [
            "C:\\Users\\asus\\AppData\\Local\\Temp\\ipykernel_21752\\4143631131.py:28: FutureWarning: The frame.append method is deprecated and will be removed from pandas in a future version. Use pandas.concat instead.\n",
            "  df_output = df_output.append(anomalies_dict, ignore_index=True)\n",
            "c:\\Python310\\lib\\site-packages\\h2o\\estimators\\estimator_base.py:193: RuntimeWarning: Dropping bad and constant columns: [StandardHours, Over18]\n",
            "  warnings.warn(mesg[\"message\"], RuntimeWarning)\n",
            "c:\\Python310\\lib\\site-packages\\h2o\\estimators\\estimator_base.py:193: RuntimeWarning: Sample rate is 100% and no validation dataset and no cross-validation. There are no out-of-bag data to compute error estimates on the training data!\n",
            "  warnings.warn(mesg[\"message\"], RuntimeWarning)\n"
          ]
        },
        {
          "name": "stdout",
          "output_type": "stream",
          "text": [
            "██████████████████████████████████████████████████████| (done) 100%\n",
            "Parse progress: |████████████████████████████████████████████████████████████████| (done) 100%\n",
            "Employee completed:  36\n",
            "drf Model Build progress: |"
          ]
        },
        {
          "name": "stderr",
          "output_type": "stream",
          "text": [
            "C:\\Users\\asus\\AppData\\Local\\Temp\\ipykernel_21752\\4143631131.py:28: FutureWarning: The frame.append method is deprecated and will be removed from pandas in a future version. Use pandas.concat instead.\n",
            "  df_output = df_output.append(anomalies_dict, ignore_index=True)\n",
            "c:\\Python310\\lib\\site-packages\\h2o\\estimators\\estimator_base.py:193: RuntimeWarning: Dropping bad and constant columns: [StandardHours, Over18]\n",
            "  warnings.warn(mesg[\"message\"], RuntimeWarning)\n",
            "c:\\Python310\\lib\\site-packages\\h2o\\estimators\\estimator_base.py:193: RuntimeWarning: Sample rate is 100% and no validation dataset and no cross-validation. There are no out-of-bag data to compute error estimates on the training data!\n",
            "  warnings.warn(mesg[\"message\"], RuntimeWarning)\n"
          ]
        },
        {
          "name": "stdout",
          "output_type": "stream",
          "text": [
            "██████████████████████████████████████████████████████| (done) 100%\n",
            "Parse progress: |████████████████████████████████████████████████████████████████| (done) 100%\n",
            "Employee completed:  36\n",
            "drf Model Build progress: |"
          ]
        },
        {
          "name": "stderr",
          "output_type": "stream",
          "text": [
            "C:\\Users\\asus\\AppData\\Local\\Temp\\ipykernel_21752\\4143631131.py:28: FutureWarning: The frame.append method is deprecated and will be removed from pandas in a future version. Use pandas.concat instead.\n",
            "  df_output = df_output.append(anomalies_dict, ignore_index=True)\n",
            "c:\\Python310\\lib\\site-packages\\h2o\\estimators\\estimator_base.py:193: RuntimeWarning: Dropping bad and constant columns: [StandardHours, Over18]\n",
            "  warnings.warn(mesg[\"message\"], RuntimeWarning)\n",
            "c:\\Python310\\lib\\site-packages\\h2o\\estimators\\estimator_base.py:193: RuntimeWarning: Sample rate is 100% and no validation dataset and no cross-validation. There are no out-of-bag data to compute error estimates on the training data!\n",
            "  warnings.warn(mesg[\"message\"], RuntimeWarning)\n"
          ]
        },
        {
          "name": "stdout",
          "output_type": "stream",
          "text": [
            "██████████████████████████████████████████████████████| (done) 100%\n",
            "Parse progress: |████████████████████████████████████████████████████████████████| (done) 100%\n",
            "Employee completed:  36\n",
            "drf Model Build progress: |"
          ]
        },
        {
          "name": "stderr",
          "output_type": "stream",
          "text": [
            "C:\\Users\\asus\\AppData\\Local\\Temp\\ipykernel_21752\\4143631131.py:28: FutureWarning: The frame.append method is deprecated and will be removed from pandas in a future version. Use pandas.concat instead.\n",
            "  df_output = df_output.append(anomalies_dict, ignore_index=True)\n",
            "c:\\Python310\\lib\\site-packages\\h2o\\estimators\\estimator_base.py:193: RuntimeWarning: Dropping bad and constant columns: [StandardHours, Over18]\n",
            "  warnings.warn(mesg[\"message\"], RuntimeWarning)\n",
            "c:\\Python310\\lib\\site-packages\\h2o\\estimators\\estimator_base.py:193: RuntimeWarning: Sample rate is 100% and no validation dataset and no cross-validation. There are no out-of-bag data to compute error estimates on the training data!\n",
            "  warnings.warn(mesg[\"message\"], RuntimeWarning)\n"
          ]
        },
        {
          "name": "stdout",
          "output_type": "stream",
          "text": [
            "██████████████████████████████████████████████████████| (done) 100%\n",
            "Parse progress: |████████████████████████████████████████████████████████████████| (done) 100%\n",
            "Employee completed:  36\n",
            "drf Model Build progress: |"
          ]
        },
        {
          "name": "stderr",
          "output_type": "stream",
          "text": [
            "C:\\Users\\asus\\AppData\\Local\\Temp\\ipykernel_21752\\4143631131.py:28: FutureWarning: The frame.append method is deprecated and will be removed from pandas in a future version. Use pandas.concat instead.\n",
            "  df_output = df_output.append(anomalies_dict, ignore_index=True)\n",
            "c:\\Python310\\lib\\site-packages\\h2o\\estimators\\estimator_base.py:193: RuntimeWarning: Dropping bad and constant columns: [StandardHours, Over18]\n",
            "  warnings.warn(mesg[\"message\"], RuntimeWarning)\n",
            "c:\\Python310\\lib\\site-packages\\h2o\\estimators\\estimator_base.py:193: RuntimeWarning: Sample rate is 100% and no validation dataset and no cross-validation. There are no out-of-bag data to compute error estimates on the training data!\n",
            "  warnings.warn(mesg[\"message\"], RuntimeWarning)\n"
          ]
        },
        {
          "name": "stdout",
          "output_type": "stream",
          "text": [
            "██████████████████████████████████████████████████████| (done) 100%\n",
            "Parse progress: |████████████████████████████████████████████████████████████████| (done) 100%\n",
            "Employee completed:  36\n",
            "drf Model Build progress: |"
          ]
        },
        {
          "name": "stderr",
          "output_type": "stream",
          "text": [
            "C:\\Users\\asus\\AppData\\Local\\Temp\\ipykernel_21752\\4143631131.py:28: FutureWarning: The frame.append method is deprecated and will be removed from pandas in a future version. Use pandas.concat instead.\n",
            "  df_output = df_output.append(anomalies_dict, ignore_index=True)\n",
            "c:\\Python310\\lib\\site-packages\\h2o\\estimators\\estimator_base.py:193: RuntimeWarning: Dropping bad and constant columns: [StandardHours, Over18]\n",
            "  warnings.warn(mesg[\"message\"], RuntimeWarning)\n",
            "c:\\Python310\\lib\\site-packages\\h2o\\estimators\\estimator_base.py:193: RuntimeWarning: Sample rate is 100% and no validation dataset and no cross-validation. There are no out-of-bag data to compute error estimates on the training data!\n",
            "  warnings.warn(mesg[\"message\"], RuntimeWarning)\n"
          ]
        },
        {
          "name": "stdout",
          "output_type": "stream",
          "text": [
            "██████████████████████████████████████████████████████| (done) 100%\n",
            "Parse progress: |████████████████████████████████████████████████████████████████| (done) 100%\n",
            "Employee completed:  36\n",
            "drf Model Build progress: |"
          ]
        },
        {
          "name": "stderr",
          "output_type": "stream",
          "text": [
            "C:\\Users\\asus\\AppData\\Local\\Temp\\ipykernel_21752\\4143631131.py:28: FutureWarning: The frame.append method is deprecated and will be removed from pandas in a future version. Use pandas.concat instead.\n",
            "  df_output = df_output.append(anomalies_dict, ignore_index=True)\n",
            "c:\\Python310\\lib\\site-packages\\h2o\\estimators\\estimator_base.py:193: RuntimeWarning: Dropping bad and constant columns: [StandardHours, Over18]\n",
            "  warnings.warn(mesg[\"message\"], RuntimeWarning)\n",
            "c:\\Python310\\lib\\site-packages\\h2o\\estimators\\estimator_base.py:193: RuntimeWarning: Sample rate is 100% and no validation dataset and no cross-validation. There are no out-of-bag data to compute error estimates on the training data!\n",
            "  warnings.warn(mesg[\"message\"], RuntimeWarning)\n"
          ]
        },
        {
          "name": "stdout",
          "output_type": "stream",
          "text": [
            "██████████████████████████████████████████████████████| (done) 100%\n",
            "Parse progress: |████████████████████████████████████████████████████████████████| (done) 100%\n",
            "Employee completed:  58\n",
            "drf Model Build progress: |"
          ]
        },
        {
          "name": "stderr",
          "output_type": "stream",
          "text": [
            "C:\\Users\\asus\\AppData\\Local\\Temp\\ipykernel_21752\\4143631131.py:28: FutureWarning: The frame.append method is deprecated and will be removed from pandas in a future version. Use pandas.concat instead.\n",
            "  df_output = df_output.append(anomalies_dict, ignore_index=True)\n",
            "c:\\Python310\\lib\\site-packages\\h2o\\estimators\\estimator_base.py:193: RuntimeWarning: Dropping bad and constant columns: [StandardHours, Over18]\n",
            "  warnings.warn(mesg[\"message\"], RuntimeWarning)\n",
            "c:\\Python310\\lib\\site-packages\\h2o\\estimators\\estimator_base.py:193: RuntimeWarning: Sample rate is 100% and no validation dataset and no cross-validation. There are no out-of-bag data to compute error estimates on the training data!\n",
            "  warnings.warn(mesg[\"message\"], RuntimeWarning)\n"
          ]
        },
        {
          "name": "stdout",
          "output_type": "stream",
          "text": [
            "██████████████████████████████████████████████████████| (done) 100%\n",
            "Parse progress: |████████████████████████████████████████████████████████████████| (done) 100%\n",
            "Employee completed:  58\n",
            "drf Model Build progress: |"
          ]
        },
        {
          "name": "stderr",
          "output_type": "stream",
          "text": [
            "C:\\Users\\asus\\AppData\\Local\\Temp\\ipykernel_21752\\4143631131.py:28: FutureWarning: The frame.append method is deprecated and will be removed from pandas in a future version. Use pandas.concat instead.\n",
            "  df_output = df_output.append(anomalies_dict, ignore_index=True)\n",
            "c:\\Python310\\lib\\site-packages\\h2o\\estimators\\estimator_base.py:193: RuntimeWarning: Dropping bad and constant columns: [StandardHours, Over18]\n",
            "  warnings.warn(mesg[\"message\"], RuntimeWarning)\n",
            "c:\\Python310\\lib\\site-packages\\h2o\\estimators\\estimator_base.py:193: RuntimeWarning: Sample rate is 100% and no validation dataset and no cross-validation. There are no out-of-bag data to compute error estimates on the training data!\n",
            "  warnings.warn(mesg[\"message\"], RuntimeWarning)\n"
          ]
        },
        {
          "name": "stdout",
          "output_type": "stream",
          "text": [
            "██████████████████████████████████████████████████████| (done) 100%\n",
            "Parse progress: |████████████████████████████████████████████████████████████████| (done) 100%\n",
            "Employee completed:  58\n",
            "drf Model Build progress: |"
          ]
        },
        {
          "name": "stderr",
          "output_type": "stream",
          "text": [
            "C:\\Users\\asus\\AppData\\Local\\Temp\\ipykernel_21752\\4143631131.py:28: FutureWarning: The frame.append method is deprecated and will be removed from pandas in a future version. Use pandas.concat instead.\n",
            "  df_output = df_output.append(anomalies_dict, ignore_index=True)\n",
            "c:\\Python310\\lib\\site-packages\\h2o\\estimators\\estimator_base.py:193: RuntimeWarning: Dropping bad and constant columns: [StandardHours, Over18]\n",
            "  warnings.warn(mesg[\"message\"], RuntimeWarning)\n",
            "c:\\Python310\\lib\\site-packages\\h2o\\estimators\\estimator_base.py:193: RuntimeWarning: Sample rate is 100% and no validation dataset and no cross-validation. There are no out-of-bag data to compute error estimates on the training data!\n",
            "  warnings.warn(mesg[\"message\"], RuntimeWarning)\n"
          ]
        },
        {
          "name": "stdout",
          "output_type": "stream",
          "text": [
            "██████████████████████████████████████████████████████| (done) 100%\n",
            "Parse progress: |████████████████████████████████████████████████████████████████| (done) 100%\n",
            "Employee completed:  58\n",
            "drf Model Build progress: |"
          ]
        },
        {
          "name": "stderr",
          "output_type": "stream",
          "text": [
            "C:\\Users\\asus\\AppData\\Local\\Temp\\ipykernel_21752\\4143631131.py:28: FutureWarning: The frame.append method is deprecated and will be removed from pandas in a future version. Use pandas.concat instead.\n",
            "  df_output = df_output.append(anomalies_dict, ignore_index=True)\n",
            "c:\\Python310\\lib\\site-packages\\h2o\\estimators\\estimator_base.py:193: RuntimeWarning: Dropping bad and constant columns: [StandardHours, Over18]\n",
            "  warnings.warn(mesg[\"message\"], RuntimeWarning)\n",
            "c:\\Python310\\lib\\site-packages\\h2o\\estimators\\estimator_base.py:193: RuntimeWarning: Sample rate is 100% and no validation dataset and no cross-validation. There are no out-of-bag data to compute error estimates on the training data!\n",
            "  warnings.warn(mesg[\"message\"], RuntimeWarning)\n"
          ]
        },
        {
          "name": "stdout",
          "output_type": "stream",
          "text": [
            "██████████████████████████████████████████████████████| (done) 100%\n",
            "Parse progress: |████████████████████████████████████████████████████████████████| (done) 100%\n",
            "Employee completed:  58\n",
            "drf Model Build progress: |"
          ]
        },
        {
          "name": "stderr",
          "output_type": "stream",
          "text": [
            "C:\\Users\\asus\\AppData\\Local\\Temp\\ipykernel_21752\\4143631131.py:28: FutureWarning: The frame.append method is deprecated and will be removed from pandas in a future version. Use pandas.concat instead.\n",
            "  df_output = df_output.append(anomalies_dict, ignore_index=True)\n",
            "c:\\Python310\\lib\\site-packages\\h2o\\estimators\\estimator_base.py:193: RuntimeWarning: Dropping bad and constant columns: [StandardHours, Over18]\n",
            "  warnings.warn(mesg[\"message\"], RuntimeWarning)\n",
            "c:\\Python310\\lib\\site-packages\\h2o\\estimators\\estimator_base.py:193: RuntimeWarning: Sample rate is 100% and no validation dataset and no cross-validation. There are no out-of-bag data to compute error estimates on the training data!\n",
            "  warnings.warn(mesg[\"message\"], RuntimeWarning)\n"
          ]
        },
        {
          "name": "stdout",
          "output_type": "stream",
          "text": [
            "██████████████████████████████████████████████████████| (done) 100%\n",
            "Parse progress: |████████████████████████████████████████████████████████████████| (done) 100%\n",
            "Employee completed:  58\n",
            "drf Model Build progress: |"
          ]
        },
        {
          "name": "stderr",
          "output_type": "stream",
          "text": [
            "C:\\Users\\asus\\AppData\\Local\\Temp\\ipykernel_21752\\4143631131.py:28: FutureWarning: The frame.append method is deprecated and will be removed from pandas in a future version. Use pandas.concat instead.\n",
            "  df_output = df_output.append(anomalies_dict, ignore_index=True)\n",
            "c:\\Python310\\lib\\site-packages\\h2o\\estimators\\estimator_base.py:193: RuntimeWarning: Dropping bad and constant columns: [StandardHours, Over18]\n",
            "  warnings.warn(mesg[\"message\"], RuntimeWarning)\n",
            "c:\\Python310\\lib\\site-packages\\h2o\\estimators\\estimator_base.py:193: RuntimeWarning: Sample rate is 100% and no validation dataset and no cross-validation. There are no out-of-bag data to compute error estimates on the training data!\n",
            "  warnings.warn(mesg[\"message\"], RuntimeWarning)\n"
          ]
        },
        {
          "name": "stdout",
          "output_type": "stream",
          "text": [
            "██████████████████████████████████████████████████████| (done) 100%\n",
            "Parse progress: |████████████████████████████████████████████████████████████████| (done) 100%\n",
            "Employee completed:  58\n",
            "drf Model Build progress: |"
          ]
        },
        {
          "name": "stderr",
          "output_type": "stream",
          "text": [
            "C:\\Users\\asus\\AppData\\Local\\Temp\\ipykernel_21752\\4143631131.py:28: FutureWarning: The frame.append method is deprecated and will be removed from pandas in a future version. Use pandas.concat instead.\n",
            "  df_output = df_output.append(anomalies_dict, ignore_index=True)\n",
            "c:\\Python310\\lib\\site-packages\\h2o\\estimators\\estimator_base.py:193: RuntimeWarning: Dropping bad and constant columns: [StandardHours, Over18]\n",
            "  warnings.warn(mesg[\"message\"], RuntimeWarning)\n",
            "c:\\Python310\\lib\\site-packages\\h2o\\estimators\\estimator_base.py:193: RuntimeWarning: Sample rate is 100% and no validation dataset and no cross-validation. There are no out-of-bag data to compute error estimates on the training data!\n",
            "  warnings.warn(mesg[\"message\"], RuntimeWarning)\n"
          ]
        },
        {
          "name": "stdout",
          "output_type": "stream",
          "text": [
            "██████████████████████████████████████████████████████| (done) 100%\n",
            "Parse progress: |████████████████████████████████████████████████████████████████| (done) 100%\n",
            "Employee completed:  58\n",
            "drf Model Build progress: |"
          ]
        },
        {
          "name": "stderr",
          "output_type": "stream",
          "text": [
            "C:\\Users\\asus\\AppData\\Local\\Temp\\ipykernel_21752\\4143631131.py:28: FutureWarning: The frame.append method is deprecated and will be removed from pandas in a future version. Use pandas.concat instead.\n",
            "  df_output = df_output.append(anomalies_dict, ignore_index=True)\n",
            "c:\\Python310\\lib\\site-packages\\h2o\\estimators\\estimator_base.py:193: RuntimeWarning: Dropping bad and constant columns: [StandardHours, Over18]\n",
            "  warnings.warn(mesg[\"message\"], RuntimeWarning)\n",
            "c:\\Python310\\lib\\site-packages\\h2o\\estimators\\estimator_base.py:193: RuntimeWarning: Sample rate is 100% and no validation dataset and no cross-validation. There are no out-of-bag data to compute error estimates on the training data!\n",
            "  warnings.warn(mesg[\"message\"], RuntimeWarning)\n"
          ]
        },
        {
          "name": "stdout",
          "output_type": "stream",
          "text": [
            "██████████████████████████████████████████████████████| (done) 100%\n",
            "Parse progress: |████████████████████████████████████████████████████████████████| (done) 100%\n",
            "Employee completed:  58\n",
            "drf Model Build progress: |"
          ]
        },
        {
          "name": "stderr",
          "output_type": "stream",
          "text": [
            "C:\\Users\\asus\\AppData\\Local\\Temp\\ipykernel_21752\\4143631131.py:28: FutureWarning: The frame.append method is deprecated and will be removed from pandas in a future version. Use pandas.concat instead.\n",
            "  df_output = df_output.append(anomalies_dict, ignore_index=True)\n",
            "c:\\Python310\\lib\\site-packages\\h2o\\estimators\\estimator_base.py:193: RuntimeWarning: Dropping bad and constant columns: [StandardHours, Over18]\n",
            "  warnings.warn(mesg[\"message\"], RuntimeWarning)\n",
            "c:\\Python310\\lib\\site-packages\\h2o\\estimators\\estimator_base.py:193: RuntimeWarning: Sample rate is 100% and no validation dataset and no cross-validation. There are no out-of-bag data to compute error estimates on the training data!\n",
            "  warnings.warn(mesg[\"message\"], RuntimeWarning)\n"
          ]
        },
        {
          "name": "stdout",
          "output_type": "stream",
          "text": [
            "██████████████████████████████████████████████████████| (done) 100%\n",
            "Parse progress: |████████████████████████████████████████████████████████████████| (done) 100%\n",
            "Employee completed:  58\n",
            "drf Model Build progress: |"
          ]
        },
        {
          "name": "stderr",
          "output_type": "stream",
          "text": [
            "C:\\Users\\asus\\AppData\\Local\\Temp\\ipykernel_21752\\4143631131.py:28: FutureWarning: The frame.append method is deprecated and will be removed from pandas in a future version. Use pandas.concat instead.\n",
            "  df_output = df_output.append(anomalies_dict, ignore_index=True)\n",
            "c:\\Python310\\lib\\site-packages\\h2o\\estimators\\estimator_base.py:193: RuntimeWarning: Dropping bad and constant columns: [StandardHours, Over18]\n",
            "  warnings.warn(mesg[\"message\"], RuntimeWarning)\n",
            "c:\\Python310\\lib\\site-packages\\h2o\\estimators\\estimator_base.py:193: RuntimeWarning: Sample rate is 100% and no validation dataset and no cross-validation. There are no out-of-bag data to compute error estimates on the training data!\n",
            "  warnings.warn(mesg[\"message\"], RuntimeWarning)\n"
          ]
        },
        {
          "name": "stdout",
          "output_type": "stream",
          "text": [
            "██████████████████████████████████████████████████████| (done) 100%\n",
            "Parse progress: |████████████████████████████████████████████████████████████████| (done) 100%\n",
            "Employee completed:  73\n",
            "drf Model Build progress: |"
          ]
        },
        {
          "name": "stderr",
          "output_type": "stream",
          "text": [
            "C:\\Users\\asus\\AppData\\Local\\Temp\\ipykernel_21752\\4143631131.py:28: FutureWarning: The frame.append method is deprecated and will be removed from pandas in a future version. Use pandas.concat instead.\n",
            "  df_output = df_output.append(anomalies_dict, ignore_index=True)\n",
            "c:\\Python310\\lib\\site-packages\\h2o\\estimators\\estimator_base.py:193: RuntimeWarning: Dropping bad and constant columns: [StandardHours, Over18]\n",
            "  warnings.warn(mesg[\"message\"], RuntimeWarning)\n",
            "c:\\Python310\\lib\\site-packages\\h2o\\estimators\\estimator_base.py:193: RuntimeWarning: Sample rate is 100% and no validation dataset and no cross-validation. There are no out-of-bag data to compute error estimates on the training data!\n",
            "  warnings.warn(mesg[\"message\"], RuntimeWarning)\n"
          ]
        },
        {
          "name": "stdout",
          "output_type": "stream",
          "text": [
            "██████████████████████████████████████████████████████| (done) 100%\n",
            "Parse progress: |████████████████████████████████████████████████████████████████| (done) 100%\n",
            "Employee completed:  73\n",
            "drf Model Build progress: |"
          ]
        },
        {
          "name": "stderr",
          "output_type": "stream",
          "text": [
            "C:\\Users\\asus\\AppData\\Local\\Temp\\ipykernel_21752\\4143631131.py:28: FutureWarning: The frame.append method is deprecated and will be removed from pandas in a future version. Use pandas.concat instead.\n",
            "  df_output = df_output.append(anomalies_dict, ignore_index=True)\n",
            "c:\\Python310\\lib\\site-packages\\h2o\\estimators\\estimator_base.py:193: RuntimeWarning: Dropping bad and constant columns: [StandardHours, Over18]\n",
            "  warnings.warn(mesg[\"message\"], RuntimeWarning)\n",
            "c:\\Python310\\lib\\site-packages\\h2o\\estimators\\estimator_base.py:193: RuntimeWarning: Sample rate is 100% and no validation dataset and no cross-validation. There are no out-of-bag data to compute error estimates on the training data!\n",
            "  warnings.warn(mesg[\"message\"], RuntimeWarning)\n"
          ]
        },
        {
          "name": "stdout",
          "output_type": "stream",
          "text": [
            "██████████████████████████████████████████████████████| (done) 100%\n",
            "Parse progress: |████████████████████████████████████████████████████████████████| (done) 100%\n",
            "Employee completed:  73\n",
            "drf Model Build progress: |"
          ]
        },
        {
          "name": "stderr",
          "output_type": "stream",
          "text": [
            "C:\\Users\\asus\\AppData\\Local\\Temp\\ipykernel_21752\\4143631131.py:28: FutureWarning: The frame.append method is deprecated and will be removed from pandas in a future version. Use pandas.concat instead.\n",
            "  df_output = df_output.append(anomalies_dict, ignore_index=True)\n",
            "c:\\Python310\\lib\\site-packages\\h2o\\estimators\\estimator_base.py:193: RuntimeWarning: Dropping bad and constant columns: [StandardHours, Over18]\n",
            "  warnings.warn(mesg[\"message\"], RuntimeWarning)\n",
            "c:\\Python310\\lib\\site-packages\\h2o\\estimators\\estimator_base.py:193: RuntimeWarning: Sample rate is 100% and no validation dataset and no cross-validation. There are no out-of-bag data to compute error estimates on the training data!\n",
            "  warnings.warn(mesg[\"message\"], RuntimeWarning)\n"
          ]
        },
        {
          "name": "stdout",
          "output_type": "stream",
          "text": [
            "██████████████████████████████████████████████████████| (done) 100%\n",
            "Parse progress: |████████████████████████████████████████████████████████████████| (done) 100%\n",
            "Employee completed:  73\n",
            "drf Model Build progress: |"
          ]
        },
        {
          "name": "stderr",
          "output_type": "stream",
          "text": [
            "C:\\Users\\asus\\AppData\\Local\\Temp\\ipykernel_21752\\4143631131.py:28: FutureWarning: The frame.append method is deprecated and will be removed from pandas in a future version. Use pandas.concat instead.\n",
            "  df_output = df_output.append(anomalies_dict, ignore_index=True)\n",
            "c:\\Python310\\lib\\site-packages\\h2o\\estimators\\estimator_base.py:193: RuntimeWarning: Dropping bad and constant columns: [StandardHours, Over18]\n",
            "  warnings.warn(mesg[\"message\"], RuntimeWarning)\n",
            "c:\\Python310\\lib\\site-packages\\h2o\\estimators\\estimator_base.py:193: RuntimeWarning: Sample rate is 100% and no validation dataset and no cross-validation. There are no out-of-bag data to compute error estimates on the training data!\n",
            "  warnings.warn(mesg[\"message\"], RuntimeWarning)\n"
          ]
        },
        {
          "name": "stdout",
          "output_type": "stream",
          "text": [
            "██████████████████████████████████████████████████████| (done) 100%\n",
            "Parse progress: |████████████████████████████████████████████████████████████████| (done) 100%\n",
            "Employee completed:  73\n"
          ]
        },
        {
          "name": "stderr",
          "output_type": "stream",
          "text": [
            "C:\\Users\\asus\\AppData\\Local\\Temp\\ipykernel_21752\\4143631131.py:28: FutureWarning: The frame.append method is deprecated and will be removed from pandas in a future version. Use pandas.concat instead.\n",
            "  df_output = df_output.append(anomalies_dict, ignore_index=True)\n"
          ]
        },
        {
          "name": "stdout",
          "output_type": "stream",
          "text": [
            "drf Model Build progress: |"
          ]
        },
        {
          "name": "stderr",
          "output_type": "stream",
          "text": [
            "c:\\Python310\\lib\\site-packages\\h2o\\estimators\\estimator_base.py:193: RuntimeWarning: Dropping bad and constant columns: [StandardHours, Over18]\n",
            "  warnings.warn(mesg[\"message\"], RuntimeWarning)\n",
            "c:\\Python310\\lib\\site-packages\\h2o\\estimators\\estimator_base.py:193: RuntimeWarning: Sample rate is 100% and no validation dataset and no cross-validation. There are no out-of-bag data to compute error estimates on the training data!\n",
            "  warnings.warn(mesg[\"message\"], RuntimeWarning)\n"
          ]
        },
        {
          "name": "stdout",
          "output_type": "stream",
          "text": [
            "██████████████████████████████████████████████████████| (done) 100%\n",
            "Parse progress: |████████████████████████████████████████████████████████████████| (done) 100%\n",
            "Employee completed:  73\n"
          ]
        },
        {
          "name": "stderr",
          "output_type": "stream",
          "text": [
            "C:\\Users\\asus\\AppData\\Local\\Temp\\ipykernel_21752\\4143631131.py:28: FutureWarning: The frame.append method is deprecated and will be removed from pandas in a future version. Use pandas.concat instead.\n",
            "  df_output = df_output.append(anomalies_dict, ignore_index=True)\n"
          ]
        },
        {
          "name": "stdout",
          "output_type": "stream",
          "text": [
            "drf Model Build progress: |"
          ]
        },
        {
          "name": "stderr",
          "output_type": "stream",
          "text": [
            "c:\\Python310\\lib\\site-packages\\h2o\\estimators\\estimator_base.py:193: RuntimeWarning: Dropping bad and constant columns: [StandardHours, Over18]\n",
            "  warnings.warn(mesg[\"message\"], RuntimeWarning)\n",
            "c:\\Python310\\lib\\site-packages\\h2o\\estimators\\estimator_base.py:193: RuntimeWarning: Sample rate is 100% and no validation dataset and no cross-validation. There are no out-of-bag data to compute error estimates on the training data!\n",
            "  warnings.warn(mesg[\"message\"], RuntimeWarning)\n"
          ]
        },
        {
          "name": "stdout",
          "output_type": "stream",
          "text": [
            "██████████████████████████████████████████████████████| (done) 100%\n",
            "Parse progress: |████████████████████████████████████████████████████████████████| (done) 100%\n",
            "Employee completed:  73\n"
          ]
        },
        {
          "name": "stderr",
          "output_type": "stream",
          "text": [
            "C:\\Users\\asus\\AppData\\Local\\Temp\\ipykernel_21752\\4143631131.py:28: FutureWarning: The frame.append method is deprecated and will be removed from pandas in a future version. Use pandas.concat instead.\n",
            "  df_output = df_output.append(anomalies_dict, ignore_index=True)\n",
            "c:\\Python310\\lib\\site-packages\\h2o\\estimators\\estimator_base.py:193: RuntimeWarning: Dropping bad and constant columns: [StandardHours, Over18]\n",
            "  warnings.warn(mesg[\"message\"], RuntimeWarning)\n",
            "c:\\Python310\\lib\\site-packages\\h2o\\estimators\\estimator_base.py:193: RuntimeWarning: Sample rate is 100% and no validation dataset and no cross-validation. There are no out-of-bag data to compute error estimates on the training data!\n",
            "  warnings.warn(mesg[\"message\"], RuntimeWarning)\n"
          ]
        },
        {
          "name": "stdout",
          "output_type": "stream",
          "text": [
            "drf Model Build progress: |██████████████████████████████████████████████████████| (done) 100%\n",
            "Parse progress: |████████████████████████████████████████████████████████████████| (done) 100%\n",
            "Employee completed:  73\n"
          ]
        },
        {
          "name": "stderr",
          "output_type": "stream",
          "text": [
            "C:\\Users\\asus\\AppData\\Local\\Temp\\ipykernel_21752\\4143631131.py:28: FutureWarning: The frame.append method is deprecated and will be removed from pandas in a future version. Use pandas.concat instead.\n",
            "  df_output = df_output.append(anomalies_dict, ignore_index=True)\n"
          ]
        },
        {
          "name": "stdout",
          "output_type": "stream",
          "text": [
            "drf Model Build progress: |"
          ]
        },
        {
          "name": "stderr",
          "output_type": "stream",
          "text": [
            "c:\\Python310\\lib\\site-packages\\h2o\\estimators\\estimator_base.py:193: RuntimeWarning: Dropping bad and constant columns: [StandardHours, Over18]\n",
            "  warnings.warn(mesg[\"message\"], RuntimeWarning)\n",
            "c:\\Python310\\lib\\site-packages\\h2o\\estimators\\estimator_base.py:193: RuntimeWarning: Sample rate is 100% and no validation dataset and no cross-validation. There are no out-of-bag data to compute error estimates on the training data!\n",
            "  warnings.warn(mesg[\"message\"], RuntimeWarning)\n"
          ]
        },
        {
          "name": "stdout",
          "output_type": "stream",
          "text": [
            "██████████████████████████████████████████████████████| (done) 100%\n",
            "Parse progress: |████████████████████████████████████████████████████████████████| (done) 100%\n",
            "Employee completed:  73\n",
            "drf Model Build progress: |"
          ]
        },
        {
          "name": "stderr",
          "output_type": "stream",
          "text": [
            "C:\\Users\\asus\\AppData\\Local\\Temp\\ipykernel_21752\\4143631131.py:28: FutureWarning: The frame.append method is deprecated and will be removed from pandas in a future version. Use pandas.concat instead.\n",
            "  df_output = df_output.append(anomalies_dict, ignore_index=True)\n",
            "c:\\Python310\\lib\\site-packages\\h2o\\estimators\\estimator_base.py:193: RuntimeWarning: Dropping bad and constant columns: [StandardHours, Over18]\n",
            "  warnings.warn(mesg[\"message\"], RuntimeWarning)\n",
            "c:\\Python310\\lib\\site-packages\\h2o\\estimators\\estimator_base.py:193: RuntimeWarning: Sample rate is 100% and no validation dataset and no cross-validation. There are no out-of-bag data to compute error estimates on the training data!\n",
            "  warnings.warn(mesg[\"message\"], RuntimeWarning)\n"
          ]
        },
        {
          "name": "stdout",
          "output_type": "stream",
          "text": [
            "██████████████████████████████████████████████████████| (done) 100%\n",
            "Parse progress: |████████████████████████████████████████████████████████████████| (done) 100%\n",
            "Employee completed:  73\n"
          ]
        },
        {
          "name": "stderr",
          "output_type": "stream",
          "text": [
            "C:\\Users\\asus\\AppData\\Local\\Temp\\ipykernel_21752\\4143631131.py:28: FutureWarning: The frame.append method is deprecated and will be removed from pandas in a future version. Use pandas.concat instead.\n",
            "  df_output = df_output.append(anomalies_dict, ignore_index=True)\n",
            "C:\\Users\\asus\\AppData\\Local\\Temp\\ipykernel_21752\\4143631131.py:36: FutureWarning: In a future version of pandas all arguments of DataFrame.drop except for the argument 'labels' will be keyword-only.\n",
            "  df_output = df_output.drop('Result', 1)\n"
          ]
        }
      ],
      "source": [
        "#create loop to run model and extract variables with anomalies\n",
        "for E in employees: \n",
        "  num = 10\n",
        "  for x in range(num):\n",
        "    \n",
        "    #train model on anomaly record\n",
        "    local_surrogate_data[\"anomaly_record\"] = (local_surrogate_data[\"EmployeeNumber\"] == E).ifelse(\"Anomaly\", \"NotAnomaly\")\n",
        "\n",
        "    local_surrogate_dt = H2ORandomForestEstimator(model_id = \"local_level_surrogate_decision_tree.hex\", \n",
        "                                                ntrees = 1, max_depth = 4,\n",
        "                                                sample_rate = 1)\n",
        "    local_surrogate_dt.train(training_frame = local_surrogate_data, x = x_var, y = \"anomaly_record\")\n",
        "\n",
        "    #isolate variables with importance and create a frame\n",
        "    local_table = local_surrogate_dt.varimp()\n",
        "    frame = h2o.H2OFrame(local_table, header=-1)\n",
        "\n",
        "    #convert frame to Pandas df to manipulate and populate dictionary\n",
        "    df = frame.as_data_frame()\n",
        "    df = df[df.C4 != 0]\n",
        "\n",
        "    #calculate C4 - C2 to identify variables that need to be checked\n",
        "    diff = (df['C4'].sum()) - (df['C2'].sum())\n",
        "\n",
        "    #add values to dictionary and append to df \n",
        "    cols = df['C1'].tolist()\n",
        "    anomalies_dict = {'EmployeeNumber': E, 'Variables': cols, 'Result': diff}\n",
        "    df_output = df_output.append(anomalies_dict, ignore_index=True)\n",
        "\n",
        "    print('Employee completed: ', E)\n",
        "\n",
        "#drop rows where the result is >0.001\n",
        "df_output = df_output[df_output.Result < 0.001]\n",
        "\n",
        "#drop Result column\n",
        "df_output = df_output.drop('Result', 1)"
      ]
    },
    {
      "cell_type": "markdown",
      "metadata": {
        "id": "aZKfabJwDc9m"
      },
      "source": [
        "We now have a Pandas df of the employee number and variables that were flagged as anomalous by the model. Let's now group the variables by employee number and only keep those that came up more than once. "
      ]
    },
    {
      "cell_type": "code",
      "execution_count": 27,
      "metadata": {},
      "outputs": [
        {
          "data": {
            "text/html": [
              "<table class='dataframe'>\n",
              "<thead>\n",
              "<tr><th style=\"text-align: right;\">  Age</th><th>Attrition  </th><th>BusinessTravel   </th><th style=\"text-align: right;\">  DailyRate</th><th>Department            </th><th style=\"text-align: right;\">  DistanceFromHome</th><th style=\"text-align: right;\">  Education</th><th>EducationField  </th><th style=\"text-align: right;\">  EmployeeCount</th><th style=\"text-align: right;\">  EmployeeNumber</th><th style=\"text-align: right;\">  EnvironmentSatisfaction</th><th>Gender  </th><th style=\"text-align: right;\">  HourlyRate</th><th style=\"text-align: right;\">  JobInvolvement</th><th style=\"text-align: right;\">  JobLevel</th><th>JobRole                  </th><th style=\"text-align: right;\">  JobSatisfaction</th><th>MaritalStatus  </th><th style=\"text-align: right;\">  MonthlyIncome</th><th style=\"text-align: right;\">  MonthlyRate</th><th style=\"text-align: right;\">  NumCompaniesWorked</th><th>Over18  </th><th>OverTime  </th><th style=\"text-align: right;\">  PercentSalaryHike</th><th style=\"text-align: right;\">  PerformanceRating</th><th style=\"text-align: right;\">  RelationshipSatisfaction</th><th style=\"text-align: right;\">  StandardHours</th><th style=\"text-align: right;\">  StockOptionLevel</th><th style=\"text-align: right;\">  TotalWorkingYears</th><th style=\"text-align: right;\">  TrainingTimesLastYear</th><th style=\"text-align: right;\">  WorkLifeBalance</th><th style=\"text-align: right;\">  YearsAtCompany</th><th style=\"text-align: right;\">  YearsInCurrentRole</th><th style=\"text-align: right;\">  YearsSinceLastPromotion</th><th style=\"text-align: right;\">  YearsWithCurrManager</th><th>anomaly_record  </th></tr>\n",
              "</thead>\n",
              "<tbody>\n",
              "<tr><td style=\"text-align: right;\">   41</td><td>Yes        </td><td>Travel_Rarely    </td><td style=\"text-align: right;\">       1102</td><td>Sales                 </td><td style=\"text-align: right;\">               nan</td><td style=\"text-align: right;\">          2</td><td>Life Sciences   </td><td style=\"text-align: right;\">              1</td><td style=\"text-align: right;\">               1</td><td style=\"text-align: right;\">                        2</td><td>Female  </td><td style=\"text-align: right;\">          94</td><td style=\"text-align: right;\">               3</td><td style=\"text-align: right;\">         2</td><td>Sales Executive          </td><td style=\"text-align: right;\">                4</td><td>Single         </td><td style=\"text-align: right;\">           5993</td><td style=\"text-align: right;\">        19479</td><td style=\"text-align: right;\">                   8</td><td>Y       </td><td>Yes       </td><td style=\"text-align: right;\">                 11</td><td style=\"text-align: right;\">                  3</td><td style=\"text-align: right;\">                         1</td><td style=\"text-align: right;\">             80</td><td style=\"text-align: right;\">                 0</td><td style=\"text-align: right;\">                  8</td><td style=\"text-align: right;\">                      0</td><td style=\"text-align: right;\">                1</td><td style=\"text-align: right;\">               6</td><td style=\"text-align: right;\">                   4</td><td style=\"text-align: right;\">                        0</td><td style=\"text-align: right;\">                     5</td><td>NotAnomaly      </td></tr>\n",
              "<tr><td style=\"text-align: right;\">   49</td><td>No         </td><td>Travel_Frequently</td><td style=\"text-align: right;\">        279</td><td>Research &amp; Development</td><td style=\"text-align: right;\">                 8</td><td style=\"text-align: right;\">          1</td><td>Life Sciences   </td><td style=\"text-align: right;\">              1</td><td style=\"text-align: right;\">               2</td><td style=\"text-align: right;\">                        3</td><td>Male    </td><td style=\"text-align: right;\">          61</td><td style=\"text-align: right;\">               2</td><td style=\"text-align: right;\">         2</td><td>Research Scientist       </td><td style=\"text-align: right;\">                2</td><td>Married        </td><td style=\"text-align: right;\">           5130</td><td style=\"text-align: right;\">        24907</td><td style=\"text-align: right;\">                   1</td><td>Y       </td><td>No        </td><td style=\"text-align: right;\">                 23</td><td style=\"text-align: right;\">                  4</td><td style=\"text-align: right;\">                         4</td><td style=\"text-align: right;\">             80</td><td style=\"text-align: right;\">                 1</td><td style=\"text-align: right;\">                 10</td><td style=\"text-align: right;\">                      3</td><td style=\"text-align: right;\">                3</td><td style=\"text-align: right;\">              10</td><td style=\"text-align: right;\">                   7</td><td style=\"text-align: right;\">                        1</td><td style=\"text-align: right;\">                     7</td><td>NotAnomaly      </td></tr>\n",
              "<tr><td style=\"text-align: right;\">   37</td><td>Yes        </td><td>Travel_Rarely    </td><td style=\"text-align: right;\">       1373</td><td>Research &amp; Development</td><td style=\"text-align: right;\">                 2</td><td style=\"text-align: right;\">          2</td><td>Other           </td><td style=\"text-align: right;\">              1</td><td style=\"text-align: right;\">               4</td><td style=\"text-align: right;\">                        4</td><td>Male    </td><td style=\"text-align: right;\">          92</td><td style=\"text-align: right;\">               2</td><td style=\"text-align: right;\">         1</td><td>Laboratory Technician    </td><td style=\"text-align: right;\">                3</td><td>Single         </td><td style=\"text-align: right;\">           2090</td><td style=\"text-align: right;\">         2396</td><td style=\"text-align: right;\">                   6</td><td>Y       </td><td>Yes       </td><td style=\"text-align: right;\">                 15</td><td style=\"text-align: right;\">                  3</td><td style=\"text-align: right;\">                         2</td><td style=\"text-align: right;\">             80</td><td style=\"text-align: right;\">                 0</td><td style=\"text-align: right;\">                  7</td><td style=\"text-align: right;\">                      3</td><td style=\"text-align: right;\">                3</td><td style=\"text-align: right;\">               0</td><td style=\"text-align: right;\">                   0</td><td style=\"text-align: right;\">                        0</td><td style=\"text-align: right;\">                     0</td><td>NotAnomaly      </td></tr>\n",
              "<tr><td style=\"text-align: right;\">   33</td><td>No         </td><td>Travel_Frequently</td><td style=\"text-align: right;\">       1392</td><td>Research &amp; Development</td><td style=\"text-align: right;\">                 3</td><td style=\"text-align: right;\">          4</td><td>Life Sciences   </td><td style=\"text-align: right;\">              1</td><td style=\"text-align: right;\">               5</td><td style=\"text-align: right;\">                        4</td><td>Female  </td><td style=\"text-align: right;\">          56</td><td style=\"text-align: right;\">               3</td><td style=\"text-align: right;\">         1</td><td>Research Scientist       </td><td style=\"text-align: right;\">                3</td><td>Married        </td><td style=\"text-align: right;\">           2909</td><td style=\"text-align: right;\">        23159</td><td style=\"text-align: right;\">                   1</td><td>Y       </td><td>Yes       </td><td style=\"text-align: right;\">                 11</td><td style=\"text-align: right;\">                  3</td><td style=\"text-align: right;\">                         3</td><td style=\"text-align: right;\">             80</td><td style=\"text-align: right;\">                 0</td><td style=\"text-align: right;\">                  8</td><td style=\"text-align: right;\">                      3</td><td style=\"text-align: right;\">                3</td><td style=\"text-align: right;\">               8</td><td style=\"text-align: right;\">                   7</td><td style=\"text-align: right;\">                        3</td><td style=\"text-align: right;\">                     0</td><td>NotAnomaly      </td></tr>\n",
              "<tr><td style=\"text-align: right;\">   27</td><td>No         </td><td>Travel_Rarely    </td><td style=\"text-align: right;\">        591</td><td>Research &amp; Development</td><td style=\"text-align: right;\">                 2</td><td style=\"text-align: right;\">          1</td><td>Medical         </td><td style=\"text-align: right;\">              1</td><td style=\"text-align: right;\">               7</td><td style=\"text-align: right;\">                        1</td><td>Male    </td><td style=\"text-align: right;\">          40</td><td style=\"text-align: right;\">               3</td><td style=\"text-align: right;\">         1</td><td>Laboratory Technician    </td><td style=\"text-align: right;\">                2</td><td>Married        </td><td style=\"text-align: right;\">           3468</td><td style=\"text-align: right;\">        16632</td><td style=\"text-align: right;\">                   9</td><td>Y       </td><td>No        </td><td style=\"text-align: right;\">                 12</td><td style=\"text-align: right;\">                  3</td><td style=\"text-align: right;\">                         4</td><td style=\"text-align: right;\">             80</td><td style=\"text-align: right;\">                 1</td><td style=\"text-align: right;\">                  6</td><td style=\"text-align: right;\">                      3</td><td style=\"text-align: right;\">                3</td><td style=\"text-align: right;\">               2</td><td style=\"text-align: right;\">                   2</td><td style=\"text-align: right;\">                        2</td><td style=\"text-align: right;\">                     2</td><td>NotAnomaly      </td></tr>\n",
              "<tr><td style=\"text-align: right;\">   32</td><td>No         </td><td>Travel_Frequently</td><td style=\"text-align: right;\">       1005</td><td>Research &amp; Development</td><td style=\"text-align: right;\">                 2</td><td style=\"text-align: right;\">          2</td><td>Life Sciences   </td><td style=\"text-align: right;\">              1</td><td style=\"text-align: right;\">               8</td><td style=\"text-align: right;\">                        4</td><td>Male    </td><td style=\"text-align: right;\">          79</td><td style=\"text-align: right;\">               3</td><td style=\"text-align: right;\">         1</td><td>Laboratory Technician    </td><td style=\"text-align: right;\">                4</td><td>Single         </td><td style=\"text-align: right;\">           3068</td><td style=\"text-align: right;\">        11864</td><td style=\"text-align: right;\">                   0</td><td>Y       </td><td>No        </td><td style=\"text-align: right;\">                 13</td><td style=\"text-align: right;\">                  3</td><td style=\"text-align: right;\">                         3</td><td style=\"text-align: right;\">             80</td><td style=\"text-align: right;\">                 0</td><td style=\"text-align: right;\">                  8</td><td style=\"text-align: right;\">                      2</td><td style=\"text-align: right;\">                2</td><td style=\"text-align: right;\">               7</td><td style=\"text-align: right;\">                   7</td><td style=\"text-align: right;\">                        3</td><td style=\"text-align: right;\">                     6</td><td>NotAnomaly      </td></tr>\n",
              "<tr><td style=\"text-align: right;\">   59</td><td>No         </td><td>Travel_Rarely    </td><td style=\"text-align: right;\">       1324</td><td>Research &amp; Development</td><td style=\"text-align: right;\">                 3</td><td style=\"text-align: right;\">          3</td><td>Medical         </td><td style=\"text-align: right;\">              1</td><td style=\"text-align: right;\">              10</td><td style=\"text-align: right;\">                        3</td><td>Female  </td><td style=\"text-align: right;\">          81</td><td style=\"text-align: right;\">               4</td><td style=\"text-align: right;\">         1</td><td>Laboratory Technician    </td><td style=\"text-align: right;\">                1</td><td>Married        </td><td style=\"text-align: right;\">           2670</td><td style=\"text-align: right;\">         9964</td><td style=\"text-align: right;\">                   4</td><td>Y       </td><td>Yes       </td><td style=\"text-align: right;\">                 20</td><td style=\"text-align: right;\">                  4</td><td style=\"text-align: right;\">                         1</td><td style=\"text-align: right;\">             80</td><td style=\"text-align: right;\">                 3</td><td style=\"text-align: right;\">                 12</td><td style=\"text-align: right;\">                      3</td><td style=\"text-align: right;\">                2</td><td style=\"text-align: right;\">               1</td><td style=\"text-align: right;\">                   0</td><td style=\"text-align: right;\">                        0</td><td style=\"text-align: right;\">                     0</td><td>NotAnomaly      </td></tr>\n",
              "<tr><td style=\"text-align: right;\">   30</td><td>No         </td><td>Travel_Rarely    </td><td style=\"text-align: right;\">       1358</td><td>Research &amp; Development</td><td style=\"text-align: right;\">                24</td><td style=\"text-align: right;\">          1</td><td>Life Sciences   </td><td style=\"text-align: right;\">              1</td><td style=\"text-align: right;\">              11</td><td style=\"text-align: right;\">                        4</td><td>Male    </td><td style=\"text-align: right;\">          67</td><td style=\"text-align: right;\">               3</td><td style=\"text-align: right;\">         1</td><td>Laboratory Technician    </td><td style=\"text-align: right;\">                3</td><td>Divorced       </td><td style=\"text-align: right;\">           2693</td><td style=\"text-align: right;\">        13335</td><td style=\"text-align: right;\">                   1</td><td>Y       </td><td>No        </td><td style=\"text-align: right;\">                 22</td><td style=\"text-align: right;\">                  4</td><td style=\"text-align: right;\">                         2</td><td style=\"text-align: right;\">             80</td><td style=\"text-align: right;\">                 1</td><td style=\"text-align: right;\">                  1</td><td style=\"text-align: right;\">                      2</td><td style=\"text-align: right;\">                3</td><td style=\"text-align: right;\">               1</td><td style=\"text-align: right;\">                   0</td><td style=\"text-align: right;\">                        0</td><td style=\"text-align: right;\">                     0</td><td>NotAnomaly      </td></tr>\n",
              "<tr><td style=\"text-align: right;\">   38</td><td>No         </td><td>Travel_Frequently</td><td style=\"text-align: right;\">        216</td><td>Research &amp; Development</td><td style=\"text-align: right;\">                23</td><td style=\"text-align: right;\">          3</td><td>Life Sciences   </td><td style=\"text-align: right;\">              1</td><td style=\"text-align: right;\">              12</td><td style=\"text-align: right;\">                        4</td><td>Male    </td><td style=\"text-align: right;\">          44</td><td style=\"text-align: right;\">               2</td><td style=\"text-align: right;\">         3</td><td>Manufacturing Director   </td><td style=\"text-align: right;\">                3</td><td>Single         </td><td style=\"text-align: right;\">           9526</td><td style=\"text-align: right;\">         8787</td><td style=\"text-align: right;\">                   0</td><td>Y       </td><td>No        </td><td style=\"text-align: right;\">                 21</td><td style=\"text-align: right;\">                  4</td><td style=\"text-align: right;\">                         2</td><td style=\"text-align: right;\">             80</td><td style=\"text-align: right;\">                 0</td><td style=\"text-align: right;\">                 10</td><td style=\"text-align: right;\">                      2</td><td style=\"text-align: right;\">                3</td><td style=\"text-align: right;\">               9</td><td style=\"text-align: right;\">                   7</td><td style=\"text-align: right;\">                        1</td><td style=\"text-align: right;\">                     8</td><td>NotAnomaly      </td></tr>\n",
              "<tr><td style=\"text-align: right;\">   36</td><td>No         </td><td>Travel_Rarely    </td><td style=\"text-align: right;\">       1299</td><td>Research &amp; Development</td><td style=\"text-align: right;\">                27</td><td style=\"text-align: right;\">          3</td><td>Medical         </td><td style=\"text-align: right;\">              1</td><td style=\"text-align: right;\">              13</td><td style=\"text-align: right;\">                        3</td><td>Male    </td><td style=\"text-align: right;\">          94</td><td style=\"text-align: right;\">               3</td><td style=\"text-align: right;\">         2</td><td>Healthcare Representative</td><td style=\"text-align: right;\">                3</td><td>Married        </td><td style=\"text-align: right;\">           5237</td><td style=\"text-align: right;\">        16577</td><td style=\"text-align: right;\">                   6</td><td>Y       </td><td>No        </td><td style=\"text-align: right;\">                 13</td><td style=\"text-align: right;\">                  3</td><td style=\"text-align: right;\">                         2</td><td style=\"text-align: right;\">             80</td><td style=\"text-align: right;\">                 2</td><td style=\"text-align: right;\">                 17</td><td style=\"text-align: right;\">                      3</td><td style=\"text-align: right;\">                2</td><td style=\"text-align: right;\">               7</td><td style=\"text-align: right;\">                   7</td><td style=\"text-align: right;\">                        7</td><td style=\"text-align: right;\">                     7</td><td>NotAnomaly      </td></tr>\n",
              "</tbody>\n",
              "</table><pre style='font-size: smaller; margin-bottom: 1em;'>[1470 rows x 36 columns]</pre>"
            ],
            "text/plain": [
              "  Age  Attrition    BusinessTravel       DailyRate  Department                DistanceFromHome    Education  EducationField      EmployeeCount    EmployeeNumber    EnvironmentSatisfaction  Gender      HourlyRate    JobInvolvement    JobLevel  JobRole                      JobSatisfaction  MaritalStatus      MonthlyIncome    MonthlyRate    NumCompaniesWorked  Over18    OverTime      PercentSalaryHike    PerformanceRating    RelationshipSatisfaction    StandardHours    StockOptionLevel    TotalWorkingYears    TrainingTimesLastYear    WorkLifeBalance    YearsAtCompany    YearsInCurrentRole    YearsSinceLastPromotion    YearsWithCurrManager  anomaly_record\n",
              "-----  -----------  -----------------  -----------  ----------------------  ------------------  -----------  ----------------  ---------------  ----------------  -------------------------  --------  ------------  ----------------  ----------  -------------------------  -----------------  ---------------  ---------------  -------------  --------------------  --------  ----------  -------------------  -------------------  --------------------------  ---------------  ------------------  -------------------  -----------------------  -----------------  ----------------  --------------------  -------------------------  ----------------------  ----------------\n",
              "   41  Yes          Travel_Rarely             1102  Sales                                  nan            2  Life Sciences                   1                 1                          2  Female              94                 3           2  Sales Executive                            4  Single                      5993          19479                     8  Y         Yes                          11                    3                           1               80                   0                    8                        0                  1                 6                     4                          0                       5  NotAnomaly\n",
              "   49  No           Travel_Frequently          279  Research & Development                   8            1  Life Sciences                   1                 2                          3  Male                61                 2           2  Research Scientist                         2  Married                     5130          24907                     1  Y         No                           23                    4                           4               80                   1                   10                        3                  3                10                     7                          1                       7  NotAnomaly\n",
              "   37  Yes          Travel_Rarely             1373  Research & Development                   2            2  Other                           1                 4                          4  Male                92                 2           1  Laboratory Technician                      3  Single                      2090           2396                     6  Y         Yes                          15                    3                           2               80                   0                    7                        3                  3                 0                     0                          0                       0  NotAnomaly\n",
              "   33  No           Travel_Frequently         1392  Research & Development                   3            4  Life Sciences                   1                 5                          4  Female              56                 3           1  Research Scientist                         3  Married                     2909          23159                     1  Y         Yes                          11                    3                           3               80                   0                    8                        3                  3                 8                     7                          3                       0  NotAnomaly\n",
              "   27  No           Travel_Rarely              591  Research & Development                   2            1  Medical                         1                 7                          1  Male                40                 3           1  Laboratory Technician                      2  Married                     3468          16632                     9  Y         No                           12                    3                           4               80                   1                    6                        3                  3                 2                     2                          2                       2  NotAnomaly\n",
              "   32  No           Travel_Frequently         1005  Research & Development                   2            2  Life Sciences                   1                 8                          4  Male                79                 3           1  Laboratory Technician                      4  Single                      3068          11864                     0  Y         No                           13                    3                           3               80                   0                    8                        2                  2                 7                     7                          3                       6  NotAnomaly\n",
              "   59  No           Travel_Rarely             1324  Research & Development                   3            3  Medical                         1                10                          3  Female              81                 4           1  Laboratory Technician                      1  Married                     2670           9964                     4  Y         Yes                          20                    4                           1               80                   3                   12                        3                  2                 1                     0                          0                       0  NotAnomaly\n",
              "   30  No           Travel_Rarely             1358  Research & Development                  24            1  Life Sciences                   1                11                          4  Male                67                 3           1  Laboratory Technician                      3  Divorced                    2693          13335                     1  Y         No                           22                    4                           2               80                   1                    1                        2                  3                 1                     0                          0                       0  NotAnomaly\n",
              "   38  No           Travel_Frequently          216  Research & Development                  23            3  Life Sciences                   1                12                          4  Male                44                 2           3  Manufacturing Director                     3  Single                      9526           8787                     0  Y         No                           21                    4                           2               80                   0                   10                        2                  3                 9                     7                          1                       8  NotAnomaly\n",
              "   36  No           Travel_Rarely             1299  Research & Development                  27            3  Medical                         1                13                          3  Male                94                 3           2  Healthcare Representative                  3  Married                     5237          16577                     6  Y         No                           13                    3                           2               80                   2                   17                        3                  2                 7                     7                          7                       7  NotAnomaly\n",
              "[1470 rows x 36 columns]\n"
            ]
          },
          "execution_count": 27,
          "metadata": {},
          "output_type": "execute_result"
        }
      ],
      "source": [
        "local_surrogate_data"
      ]
    },
    {
      "cell_type": "code",
      "execution_count": 26,
      "metadata": {
        "colab": {
          "base_uri": "https://localhost:8080/",
          "height": 206
        },
        "id": "w-yVvQ20DRAf",
        "outputId": "810853a1-55db-4dea-aa18-85357a2dba14"
      },
      "outputs": [
        {
          "data": {
            "text/html": [
              "<div>\n",
              "<style scoped>\n",
              "    .dataframe tbody tr th:only-of-type {\n",
              "        vertical-align: middle;\n",
              "    }\n",
              "\n",
              "    .dataframe tbody tr th {\n",
              "        vertical-align: top;\n",
              "    }\n",
              "\n",
              "    .dataframe thead th {\n",
              "        text-align: right;\n",
              "    }\n",
              "</style>\n",
              "<table border=\"1\" class=\"dataframe\">\n",
              "  <thead>\n",
              "    <tr style=\"text-align: right;\">\n",
              "      <th></th>\n",
              "      <th>EmployeeNumber</th>\n",
              "      <th>Variables</th>\n",
              "    </tr>\n",
              "  </thead>\n",
              "  <tbody>\n",
              "    <tr>\n",
              "      <th>0</th>\n",
              "      <td>30</td>\n",
              "      <td>[TrainingTimesLastYear, MonthlyIncome, DailyRa...</td>\n",
              "    </tr>\n",
              "    <tr>\n",
              "      <th>1</th>\n",
              "      <td>33</td>\n",
              "      <td>[JobInvolvement, MonthlyRate, JobSatisfaction,...</td>\n",
              "    </tr>\n",
              "    <tr>\n",
              "      <th>2</th>\n",
              "      <td>36</td>\n",
              "      <td>[MonthlyRate, YearsWithCurrManager, Age, Hourl...</td>\n",
              "    </tr>\n",
              "    <tr>\n",
              "      <th>3</th>\n",
              "      <td>58</td>\n",
              "      <td>[EducationField, YearsAtCompany, YearsInCurren...</td>\n",
              "    </tr>\n",
              "    <tr>\n",
              "      <th>4</th>\n",
              "      <td>73</td>\n",
              "      <td>[Age, TrainingTimesLastYear, YearsInCurrentRol...</td>\n",
              "    </tr>\n",
              "  </tbody>\n",
              "</table>\n",
              "</div>"
            ],
            "text/plain": [
              "   EmployeeNumber                                          Variables\n",
              "0              30  [TrainingTimesLastYear, MonthlyIncome, DailyRa...\n",
              "1              33  [JobInvolvement, MonthlyRate, JobSatisfaction,...\n",
              "2              36  [MonthlyRate, YearsWithCurrManager, Age, Hourl...\n",
              "3              58  [EducationField, YearsAtCompany, YearsInCurren...\n",
              "4              73  [Age, TrainingTimesLastYear, YearsInCurrentRol..."
            ]
          },
          "execution_count": 26,
          "metadata": {},
          "output_type": "execute_result"
        }
      ],
      "source": [
        "#explode lists into rows for each row\n",
        "df_final = df_output.explode('Variables')\n",
        "\n",
        "#group the df by employee number and count the number of times the variable comes up\n",
        "df_final = df_final.groupby(['EmployeeNumber', 'Variables']).size().reset_index(name='Count')\n",
        "\n",
        "#sort by employee number then by count (descending)\n",
        "df_final = df_final.sort_values(['EmployeeNumber', 'Count'], ascending = [True, False ])\n",
        "\n",
        "#drop rows where count < 2\n",
        "df_final = df_final[df_final.Count > 1]\n",
        "\n",
        "#group by EmployeeNumber and create list of variables, in rank order by highest frequency to lowest\n",
        "df_final = df_final.groupby('EmployeeNumber')['Variables'].apply(list).reset_index()\n",
        "\n",
        "\n",
        "df_final.head(20)"
      ]
    },
    {
      "cell_type": "markdown",
      "metadata": {
        "id": "legwdnEVD2wL"
      },
      "source": [
        "### **Results** <a name=\"results\"></a>"
      ]
    },
    {
      "cell_type": "markdown",
      "metadata": {
        "id": "dB2SrfczD6Fk"
      },
      "source": [
        "The output from our model has created a Pandas Dataframe with two fields: \n",
        "\n",
        "1. A unique identifier, in our case the employee number from the original dataset, which is critical to enabling identification and access to the original record that needs changing. \n",
        "\n",
        "2. A list of variables contributing to each records anomaly status, ranked from most important to least. \n",
        "\n",
        "This dataframe can now be saved as a csv to be shared with those that will be responsible for checking the employee records and updating the records as needed. "
      ]
    },
    {
      "cell_type": "markdown",
      "metadata": {
        "id": "6-LP8g8ND904"
      },
      "source": [
        "### **Conclusion** <a name=\"conclusion\"></a>"
      ]
    },
    {
      "cell_type": "markdown",
      "metadata": {
        "id": "Hzq8NGWiD-fi"
      },
      "source": [
        "Unsupervised Machine Learning algorithms such as Isolation Forests can be an excellent way of automating and scaling the review of data to monitor for quality concerns. \n",
        "\n",
        "The major advantage of this approach is that the Isolation Forest can identify a record as anomalous, despite no one variable in the record being out of acceptable limits. Instead, the algorithm assesses the combination of multiple variables to determine if the combination makes it seem anomalous. This is like having human intelligence review each record quickly, at scale, and without destroying anyone’s job satisfaction! \n",
        "\n",
        "We propose that this approach has the potential to significantly reduce time spent on direct data quality evaluations, which has considerable direct benefits (i.e., better quality data, more representative analyses and interpretation, etc.) as well as indirect benefits (i.e., time can be spent on other value-add initiatives). This is particularly true for smaller teams."
      ]
    }
  ],
  "metadata": {
    "colab": {
      "collapsed_sections": [],
      "name": "Final Isolation Trees_IBM Attrition Data.ipynb",
      "provenance": []
    },
    "kernelspec": {
      "display_name": "Python 3.10.6 64-bit",
      "language": "python",
      "name": "python3"
    },
    "language_info": {
      "codemirror_mode": {
        "name": "ipython",
        "version": 3
      },
      "file_extension": ".py",
      "mimetype": "text/x-python",
      "name": "python",
      "nbconvert_exporter": "python",
      "pygments_lexer": "ipython3",
      "version": "3.10.6"
    },
    "vscode": {
      "interpreter": {
        "hash": "369f2c481f4da34e4445cda3fffd2e751bd1c4d706f27375911949ba6bb62e1c"
      }
    }
  },
  "nbformat": 4,
  "nbformat_minor": 0
}
