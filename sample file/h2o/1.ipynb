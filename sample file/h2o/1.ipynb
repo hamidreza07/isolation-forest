{
  "cells": [
    {
      "cell_type": "markdown",
      "metadata": {
        "id": "OK521MiQ7kU9"
      },
      "source": [
        "# **Using Isolation Trees to Identify Anomalies in HR Data**\n",
        "Adam McKinnon and I decided to explore the use of isolation trees to identify anomalies in HR data. We used the IBM Attrition dataset available on the Kaggle website to demonstrate how this work can be done. \n",
        "\n",
        "This project is done all in Python, using the [H2O library](https://docs.h2o.ai/h2o/latest-stable/h2o-docs/data-science/if.html#). \n",
        "\n",
        "## **Table of Contents**\n",
        "\n",
        "* [Introduction & Business Problem](#introduction)\n",
        "* [Data & Libraries](#data)\n",
        "* [Methodology](#methodology)\n",
        "* [Analysis](#analysis)\n",
        "* [Results](#results)\n",
        "* [Conclusion](#conclusion)\n",
        "\n",
        "(This project was a collaboration between myself and Adam McKinnon.)"
      ]
    },
    {
      "cell_type": "markdown",
      "metadata": {
        "id": "5z2yJdHl9UDI"
      },
      "source": [
        "### **Introduction & Business Problem** <a name=\"introduction\"></a>"
      ]
    },
    {
      "cell_type": "markdown",
      "metadata": {
        "id": "APsfuPwr9Yi9"
      },
      "source": [
        "**Business Problem**\n",
        "\n",
        "The topic of data quality is like that of I.T. services generally… you only ever hear about it when there’s a problem! There appears a universal and implicit assumption among stakeholders receiving the findings of people analytics initiatives that your data is “good”. Failure to observe this assumption of high-quality data can significantly (and rapidly) undermine the credibility of findings, irrespective of how small the data quality deviation! \n",
        "\n",
        "From an analytical perspective, the quality of your insights can be potentially limited by flawed data. As the saying goes “garbage in, garbage out”. Coupled with stakeholder expectations, it becomes increasingly important that analytics practitioners invest time and energy in the assessment and curation of high-quality data to maximise the influence of analytics on decision making in their organisations. \n",
        "\n",
        "At the same time, monitoring data quality can be immensely time consuming, simplistic in execution (i.e., simple evaluation criteria such as age ranges), highly repetitive, and utterly devoid of ANY professional enjoyment! To overcome these shortcomings, we have developed an automated, sophisticated, multi-dimensional and scalable approach to data quality evaluation using unsupervised machine learning—Isolation Forests. \n",
        "\n",
        "**The Process**\n",
        "\n",
        "We will use Isolation Forests, an unsupervised machine learning approach, to scan employee data for potentially anomalous records.  \n"
      ]
    },
    {
      "cell_type": "markdown",
      "metadata": {
        "id": "CBOt0Ybh9ZDL"
      },
      "source": [
        "### **Data & Libraries** <a name=\"data\"></a>"
      ]
    },
    {
      "cell_type": "markdown",
      "metadata": {
        "id": "wSonXYKj9cBC"
      },
      "source": [
        "For this project, we used the IBM HR Attrition dataset ([available on the Kaggle website](https:/https://www.kaggle.com/datasets/pavansubhasht/ibm-hr-analytics-attrition-dataset)). This particular set of data has 35 variables, including a mixture of quantitative and qualitative. \n",
        "\n",
        "There are a few options when it comes to packages that support use of the isolation forrest algorithm (our model of choice for this project - more on that later). We decided to use the H2O package because it limits the amount of data transformation that needs to be done. Alternative packages require you to one-hot-encode the data, whereas the H2O package works with a mixture of quantiative and qualitative data. \n",
        "\n",
        "After installing the H2O and Pandas libraries, we ingested the HR data and did some minor cleanup of column names. \n",
        "\n"
      ]
    },
    {
      "cell_type": "markdown",
      "metadata": {
        "id": "13YJ4k2Z-IgV"
      },
      "source": [
        "####Install h20 and import libraries"
      ]
    },
    {
      "cell_type": "code",
      "execution_count": 1,
      "metadata": {
        "colab": {
          "base_uri": "https://localhost:8080/"
        },
        "id": "F-4N0K2B-aix",
        "outputId": "f9b938a3-50ec-4b75-a7ef-218759586168"
      },
      "outputs": [
        {
          "name": "stdout",
          "output_type": "stream",
          "text": [
            "^C\n"
          ]
        }
      ],
      "source": [
        "!pip install -f http://h2o-release.s3.amazonaws.com/h2o/latest_stable_Py.html h2o"
      ]
    },
    {
      "cell_type": "code",
      "execution_count": 1,
      "metadata": {
        "colab": {
          "base_uri": "https://localhost:8080/"
        },
        "id": "QhOxC8459Tru",
        "outputId": "2cfa358e-08e9-4e40-f173-e4d0db860c1e"
      },
      "outputs": [
        {
          "name": "stdout",
          "output_type": "stream",
          "text": [
            "Checking whether there is an H2O instance running at http://localhost:54321 ..... not found.\n",
            "Attempting to start a local H2O server...\n",
            "; Java HotSpot(TM) 64-Bit Server VM (build 25.341-b10, mixed mode)\n",
            "  Starting server from C:\\Python310\\Lib\\site-packages\\h2o\\backend\\bin\\h2o.jar\n",
            "  Ice root: C:\\Users\\asus\\AppData\\Local\\Temp\\tmp44lxg7s1\n",
            "  JVM stdout: C:\\Users\\asus\\AppData\\Local\\Temp\\tmp44lxg7s1\\h2o_asus_started_from_python.out\n",
            "  JVM stderr: C:\\Users\\asus\\AppData\\Local\\Temp\\tmp44lxg7s1\\h2o_asus_started_from_python.err\n",
            "  Server is running at http://127.0.0.1:54321\n",
            "Connecting to H2O server at http://127.0.0.1:54321 ... successful.\n"
          ]
        },
        {
          "data": {
            "text/html": [
              "\n",
              "<style>\n",
              "\n",
              "#h2o-table-1.h2o-container {\n",
              "  overflow-x: auto;\n",
              "}\n",
              "#h2o-table-1 .h2o-table {\n",
              "  /* width: 100%; */\n",
              "  margin-top: 1em;\n",
              "  margin-bottom: 1em;\n",
              "}\n",
              "#h2o-table-1 .h2o-table caption {\n",
              "  white-space: nowrap;\n",
              "  caption-side: top;\n",
              "  text-align: left;\n",
              "  /* margin-left: 1em; */\n",
              "  margin: 0;\n",
              "  font-size: larger;\n",
              "}\n",
              "#h2o-table-1 .h2o-table thead {\n",
              "  white-space: nowrap; \n",
              "  position: sticky;\n",
              "  top: 0;\n",
              "  box-shadow: 0 -1px inset;\n",
              "}\n",
              "#h2o-table-1 .h2o-table tbody {\n",
              "  overflow: auto;\n",
              "}\n",
              "#h2o-table-1 .h2o-table th,\n",
              "#h2o-table-1 .h2o-table td {\n",
              "  text-align: right;\n",
              "  /* border: 1px solid; */\n",
              "}\n",
              "#h2o-table-1 .h2o-table tr:nth-child(even) {\n",
              "  /* background: #F5F5F5 */\n",
              "}\n",
              "\n",
              "</style>      \n",
              "<div id=\"h2o-table-1\" class=\"h2o-container\">\n",
              "  <table class=\"h2o-table\">\n",
              "    <caption></caption>\n",
              "    <thead></thead>\n",
              "    <tbody><tr><td>H2O_cluster_uptime:</td>\n",
              "<td>03 secs</td></tr>\n",
              "<tr><td>H2O_cluster_timezone:</td>\n",
              "<td>Asia/Tehran</td></tr>\n",
              "<tr><td>H2O_data_parsing_timezone:</td>\n",
              "<td>UTC</td></tr>\n",
              "<tr><td>H2O_cluster_version:</td>\n",
              "<td>3.38.0.1</td></tr>\n",
              "<tr><td>H2O_cluster_version_age:</td>\n",
              "<td>22 days </td></tr>\n",
              "<tr><td>H2O_cluster_name:</td>\n",
              "<td>H2O_from_python_asus_7zzfnn</td></tr>\n",
              "<tr><td>H2O_cluster_total_nodes:</td>\n",
              "<td>1</td></tr>\n",
              "<tr><td>H2O_cluster_free_memory:</td>\n",
              "<td>3.490 Gb</td></tr>\n",
              "<tr><td>H2O_cluster_total_cores:</td>\n",
              "<td>8</td></tr>\n",
              "<tr><td>H2O_cluster_allowed_cores:</td>\n",
              "<td>8</td></tr>\n",
              "<tr><td>H2O_cluster_status:</td>\n",
              "<td>locked, healthy</td></tr>\n",
              "<tr><td>H2O_connection_url:</td>\n",
              "<td>http://127.0.0.1:54321</td></tr>\n",
              "<tr><td>H2O_connection_proxy:</td>\n",
              "<td>{\"http\": null, \"https\": null}</td></tr>\n",
              "<tr><td>H2O_internal_security:</td>\n",
              "<td>False</td></tr>\n",
              "<tr><td>Python_version:</td>\n",
              "<td>3.10.6 final</td></tr></tbody>\n",
              "  </table>\n",
              "</div>\n"
            ],
            "text/plain": [
              "--------------------------  -----------------------------\n",
              "H2O_cluster_uptime:         03 secs\n",
              "H2O_cluster_timezone:       Asia/Tehran\n",
              "H2O_data_parsing_timezone:  UTC\n",
              "H2O_cluster_version:        3.38.0.1\n",
              "H2O_cluster_version_age:    22 days\n",
              "H2O_cluster_name:           H2O_from_python_asus_7zzfnn\n",
              "H2O_cluster_total_nodes:    1\n",
              "H2O_cluster_free_memory:    3.490 Gb\n",
              "H2O_cluster_total_cores:    8\n",
              "H2O_cluster_allowed_cores:  8\n",
              "H2O_cluster_status:         locked, healthy\n",
              "H2O_connection_url:         http://127.0.0.1:54321\n",
              "H2O_connection_proxy:       {\"http\": null, \"https\": null}\n",
              "H2O_internal_security:      False\n",
              "Python_version:             3.10.6 final\n",
              "--------------------------  -----------------------------"
            ]
          },
          "metadata": {},
          "output_type": "display_data"
        }
      ],
      "source": [
        "import pandas as pd\n",
        "import h2o\n",
        "h2o.init()\n",
        "\n",
        "from h2o.estimators import H2OIsolationForestEstimator\n",
        "from h2o.estimators import H2ORandomForestEstimator"
      ]
    },
    {
      "cell_type": "markdown",
      "metadata": {
        "id": "12x8hjX8-xk4"
      },
      "source": [
        "####Download data"
      ]
    },
    {
      "cell_type": "code",
      "execution_count": 2,
      "metadata": {
        "colab": {
          "base_uri": "https://localhost:8080/"
        },
        "id": "k52aM0AA7eRa",
        "outputId": "f81de869-97e7-4a55-d4fb-85cb312c3719"
      },
      "outputs": [
        {
          "name": "stdout",
          "output_type": "stream",
          "text": [
            "Parse progress: |████████████████████████████████████████████████████████████████| (done) 100%\n"
          ]
        },
        {
          "data": {
            "text/plain": [
              "['PassengerId',\n",
              " 'Survived',\n",
              " 'Pclass',\n",
              " 'Name',\n",
              " 'Sex',\n",
              " 'Age',\n",
              " 'SibSp',\n",
              " 'Parch',\n",
              " 'Ticket',\n",
              " 'Fare',\n",
              " 'Cabin',\n",
              " 'Embarked']"
            ]
          },
          "execution_count": 2,
          "metadata": {},
          "output_type": "execute_result"
        }
      ],
      "source": [
        "#load IBM attrition data using h20\n",
        "employee_data = h2o.import_file('train.csv')\n",
        "\n",
        "#preview the column names to select those to be included in the analysis\n",
        "employee_data.columns"
      ]
    },
    {
      "cell_type": "code",
      "execution_count": 3,
      "metadata": {
        "colab": {
          "base_uri": "https://localhost:8080/"
        },
        "id": "-fOIO7la-2Ao",
        "outputId": "2d0f86dc-e887-4963-ca28-726573b79229"
      },
      "outputs": [
        {
          "name": "stdout",
          "output_type": "stream",
          "text": [
            "(891, 12)\n"
          ]
        },
        {
          "data": {
            "text/html": [
              "<table class='dataframe'>\n",
              "<thead>\n",
              "<tr><th style=\"text-align: right;\">  PassengerId</th><th style=\"text-align: right;\">  Survived</th><th style=\"text-align: right;\">  Pclass</th><th>Name                                               </th><th>Sex   </th><th style=\"text-align: right;\">  Age</th><th style=\"text-align: right;\">  SibSp</th><th style=\"text-align: right;\">  Parch</th><th style=\"text-align: right;\">  Ticket</th><th style=\"text-align: right;\">   Fare</th><th>Cabin  </th><th>Embarked  </th></tr>\n",
              "</thead>\n",
              "<tbody>\n",
              "<tr><td style=\"text-align: right;\">            1</td><td style=\"text-align: right;\">         0</td><td style=\"text-align: right;\">       3</td><td>Braund, Mr. Owen Harris                            </td><td>male  </td><td style=\"text-align: right;\">   22</td><td style=\"text-align: right;\">      1</td><td style=\"text-align: right;\">      0</td><td style=\"text-align: right;\">     nan</td><td style=\"text-align: right;\"> 7.25  </td><td>       </td><td>S         </td></tr>\n",
              "<tr><td style=\"text-align: right;\">            2</td><td style=\"text-align: right;\">         1</td><td style=\"text-align: right;\">       1</td><td>Cumings, Mrs. John Bradley (Florence Briggs Thayer)</td><td>female</td><td style=\"text-align: right;\">   38</td><td style=\"text-align: right;\">      1</td><td style=\"text-align: right;\">      0</td><td style=\"text-align: right;\">     nan</td><td style=\"text-align: right;\">71.2833</td><td>C85    </td><td>C         </td></tr>\n",
              "<tr><td style=\"text-align: right;\">            3</td><td style=\"text-align: right;\">         1</td><td style=\"text-align: right;\">       3</td><td>Heikkinen, Miss. Laina                             </td><td>female</td><td style=\"text-align: right;\">   26</td><td style=\"text-align: right;\">      0</td><td style=\"text-align: right;\">      0</td><td style=\"text-align: right;\">     nan</td><td style=\"text-align: right;\"> 7.925 </td><td>       </td><td>S         </td></tr>\n",
              "<tr><td style=\"text-align: right;\">            4</td><td style=\"text-align: right;\">         1</td><td style=\"text-align: right;\">       1</td><td>Futrelle, Mrs. Jacques Heath (Lily May Peel)       </td><td>female</td><td style=\"text-align: right;\">   35</td><td style=\"text-align: right;\">      1</td><td style=\"text-align: right;\">      0</td><td style=\"text-align: right;\">  113803</td><td style=\"text-align: right;\">53.1   </td><td>C123   </td><td>S         </td></tr>\n",
              "<tr><td style=\"text-align: right;\">            5</td><td style=\"text-align: right;\">         0</td><td style=\"text-align: right;\">       3</td><td>Allen, Mr. William Henry                           </td><td>male  </td><td style=\"text-align: right;\">   35</td><td style=\"text-align: right;\">      0</td><td style=\"text-align: right;\">      0</td><td style=\"text-align: right;\">  373450</td><td style=\"text-align: right;\"> 8.05  </td><td>       </td><td>S         </td></tr>\n",
              "<tr><td style=\"text-align: right;\">            6</td><td style=\"text-align: right;\">         0</td><td style=\"text-align: right;\">       3</td><td>Moran, Mr. James                                   </td><td>male  </td><td style=\"text-align: right;\">  nan</td><td style=\"text-align: right;\">      0</td><td style=\"text-align: right;\">      0</td><td style=\"text-align: right;\">  330877</td><td style=\"text-align: right;\"> 8.4583</td><td>       </td><td>Q         </td></tr>\n",
              "<tr><td style=\"text-align: right;\">            7</td><td style=\"text-align: right;\">         0</td><td style=\"text-align: right;\">       1</td><td>McCarthy, Mr. Timothy J                            </td><td>male  </td><td style=\"text-align: right;\">   54</td><td style=\"text-align: right;\">      0</td><td style=\"text-align: right;\">      0</td><td style=\"text-align: right;\">   17463</td><td style=\"text-align: right;\">51.8625</td><td>E46    </td><td>S         </td></tr>\n",
              "<tr><td style=\"text-align: right;\">            8</td><td style=\"text-align: right;\">         0</td><td style=\"text-align: right;\">       3</td><td>Palsson, Master. Gosta Leonard                     </td><td>male  </td><td style=\"text-align: right;\">    2</td><td style=\"text-align: right;\">      3</td><td style=\"text-align: right;\">      1</td><td style=\"text-align: right;\">  349909</td><td style=\"text-align: right;\">21.075 </td><td>       </td><td>S         </td></tr>\n",
              "<tr><td style=\"text-align: right;\">            9</td><td style=\"text-align: right;\">         1</td><td style=\"text-align: right;\">       3</td><td>Johnson, Mrs. Oscar W (Elisabeth Vilhelmina Berg)  </td><td>female</td><td style=\"text-align: right;\">   27</td><td style=\"text-align: right;\">      0</td><td style=\"text-align: right;\">      2</td><td style=\"text-align: right;\">  347742</td><td style=\"text-align: right;\">11.1333</td><td>       </td><td>S         </td></tr>\n",
              "<tr><td style=\"text-align: right;\">           10</td><td style=\"text-align: right;\">         1</td><td style=\"text-align: right;\">       2</td><td>Nasser, Mrs. Nicholas (Adele Achem)                </td><td>female</td><td style=\"text-align: right;\">   14</td><td style=\"text-align: right;\">      1</td><td style=\"text-align: right;\">      0</td><td style=\"text-align: right;\">  237736</td><td style=\"text-align: right;\">30.0708</td><td>       </td><td>C         </td></tr>\n",
              "</tbody>\n",
              "</table><pre style='font-size: smaller; margin-bottom: 1em;'>[10 rows x 12 columns]</pre>"
            ],
            "text/plain": [
              "  PassengerId    Survived    Pclass  Name                                                 Sex       Age    SibSp    Parch    Ticket     Fare  Cabin    Embarked\n",
              "-------------  ----------  --------  ---------------------------------------------------  ------  -----  -------  -------  --------  -------  -------  ----------\n",
              "            1           0         3  Braund, Mr. Owen Harris                              male       22        1        0       nan   7.25             S\n",
              "            2           1         1  Cumings, Mrs. John Bradley (Florence Briggs Thayer)  female     38        1        0       nan  71.2833  C85      C\n",
              "            3           1         3  Heikkinen, Miss. Laina                               female     26        0        0       nan   7.925            S\n",
              "            4           1         1  Futrelle, Mrs. Jacques Heath (Lily May Peel)         female     35        1        0    113803  53.1     C123     S\n",
              "            5           0         3  Allen, Mr. William Henry                             male       35        0        0    373450   8.05             S\n",
              "            6           0         3  Moran, Mr. James                                     male      nan        0        0    330877   8.4583           Q\n",
              "            7           0         1  McCarthy, Mr. Timothy J                              male       54        0        0     17463  51.8625  E46      S\n",
              "            8           0         3  Palsson, Master. Gosta Leonard                       male        2        3        1    349909  21.075            S\n",
              "            9           1         3  Johnson, Mrs. Oscar W (Elisabeth Vilhelmina Berg)    female     27        0        2    347742  11.1333           S\n",
              "           10           1         2  Nasser, Mrs. Nicholas (Adele Achem)                  female     14        1        0    237736  30.0708           C\n",
              "[10 rows x 12 columns]\n"
            ]
          },
          "execution_count": 3,
          "metadata": {},
          "output_type": "execute_result"
        }
      ],
      "source": [
        "#rename the first column since it imported with extra characters\n",
        "# employee_data = employee_data.rename({'ÃƒÆ’Ã†â€™Ãƒâ€šÃ‚Â¯ÃƒÆ’Ã¢â‚¬Å¡Ãƒâ€šÃ‚Â»ÃƒÆ’Ã¢â‚¬Å¡Ãƒâ€šÃ‚Â¿Age': 'Age'})\n",
        "\n",
        "#print the dataframe shape and preview the table\n",
        "print(employee_data.shape)\n",
        "employee_data.head()"
      ]
    },
    {
      "cell_type": "code",
      "execution_count": 121,
      "metadata": {},
      "outputs": [],
      "source": [
        "# employee_data=employee_data.drop([0],axis=0)"
      ]
    },
    {
      "cell_type": "markdown",
      "metadata": {
        "id": "fGtLfRZs_I_j"
      },
      "source": [
        "### **Methodology** <a name=\"methodology\"></a>"
      ]
    },
    {
      "cell_type": "markdown",
      "metadata": {
        "id": "N4DRwW4l_N6K"
      },
      "source": [
        "The Isolation Forest algorithm partitions data through a forest of decision trees. Each split of the data is made randomly and the number of splits it takes to isolate a record indicates whether the record is an anomaly. When a forest of random trees collectively produces shorter path lengths for particular samples, they are highly likely to be anomalies [(see their site for a more detailed explanation)](https://github.com/h2oai/h2o-tutorials/blob/master/tutorials/isolation-forest/interpreting_isolation-forest.ipynb). \n",
        "\n",
        "In the end, the Isolation Forest algorithm allows us to separate potentially anomalous data points from the rest. \n"
      ]
    },
    {
      "cell_type": "markdown",
      "metadata": {
        "id": "rsxXQZ95_dDY"
      },
      "source": [
        "### **Analysis** <a name=\"analysis\"></a>"
      ]
    },
    {
      "cell_type": "markdown",
      "metadata": {
        "id": "eHJeho-B_e6b"
      },
      "source": [
        "####Run Isolation Trees algorithm on the data"
      ]
    },
    {
      "cell_type": "markdown",
      "metadata": {
        "id": "MLGTdqQo_oJs"
      },
      "source": [
        "Before running the algorithm, we will select the dataset columns we want to include in the data quality assessment. Then, we will train the isolation tree algorithm on the selected data. "
      ]
    },
    {
      "cell_type": "code",
      "execution_count": 4,
      "metadata": {
        "colab": {
          "base_uri": "https://localhost:8080/"
        },
        "id": "TcSLTWmG_4Hw",
        "outputId": "abcca4eb-2b25-47d9-9206-ad77a6d79ee9"
      },
      "outputs": [
        {
          "name": "stdout",
          "output_type": "stream",
          "text": [
            "isolationforest Model Build progress: |"
          ]
        },
        {
          "name": "stderr",
          "output_type": "stream",
          "text": [
            "c:\\Python310\\lib\\site-packages\\h2o\\estimators\\estimator_base.py:193: RuntimeWarning: Dropping bad and constant columns: [Name]\n",
            "  warnings.warn(mesg[\"message\"], RuntimeWarning)\n"
          ]
        },
        {
          "name": "stdout",
          "output_type": "stream",
          "text": [
            "██████████████████████████████████████████| (done) 100%\n"
          ]
        },
        {
          "data": {
            "text/html": [
              "<pre style='margin: 1em 0 1em 0;'>Model Details\n",
              "=============\n",
              "H2OIsolationForestEstimator : Isolation Forest\n",
              "Model Key: isolation_forest.hex\n",
              "</pre>\n",
              "<div style='margin: 1em 0 1em 0;'>\n",
              "<style>\n",
              "\n",
              "#h2o-table-2.h2o-container {\n",
              "  overflow-x: auto;\n",
              "}\n",
              "#h2o-table-2 .h2o-table {\n",
              "  /* width: 100%; */\n",
              "  margin-top: 1em;\n",
              "  margin-bottom: 1em;\n",
              "}\n",
              "#h2o-table-2 .h2o-table caption {\n",
              "  white-space: nowrap;\n",
              "  caption-side: top;\n",
              "  text-align: left;\n",
              "  /* margin-left: 1em; */\n",
              "  margin: 0;\n",
              "  font-size: larger;\n",
              "}\n",
              "#h2o-table-2 .h2o-table thead {\n",
              "  white-space: nowrap; \n",
              "  position: sticky;\n",
              "  top: 0;\n",
              "  box-shadow: 0 -1px inset;\n",
              "}\n",
              "#h2o-table-2 .h2o-table tbody {\n",
              "  overflow: auto;\n",
              "}\n",
              "#h2o-table-2 .h2o-table th,\n",
              "#h2o-table-2 .h2o-table td {\n",
              "  text-align: right;\n",
              "  /* border: 1px solid; */\n",
              "}\n",
              "#h2o-table-2 .h2o-table tr:nth-child(even) {\n",
              "  /* background: #F5F5F5 */\n",
              "}\n",
              "\n",
              "</style>      \n",
              "<div id=\"h2o-table-2\" class=\"h2o-container\">\n",
              "  <table class=\"h2o-table\">\n",
              "    <caption>Model Summary: </caption>\n",
              "    <thead><tr><th></th>\n",
              "<th>number_of_trees</th>\n",
              "<th>number_of_internal_trees</th>\n",
              "<th>model_size_in_bytes</th>\n",
              "<th>min_depth</th>\n",
              "<th>max_depth</th>\n",
              "<th>mean_depth</th>\n",
              "<th>min_leaves</th>\n",
              "<th>max_leaves</th>\n",
              "<th>mean_leaves</th></tr></thead>\n",
              "    <tbody><tr><td></td>\n",
              "<td>50.0</td>\n",
              "<td>50.0</td>\n",
              "<td>34757.0</td>\n",
              "<td>8.0</td>\n",
              "<td>8.0</td>\n",
              "<td>8.0</td>\n",
              "<td>15.0</td>\n",
              "<td>94.0</td>\n",
              "<td>51.42</td></tr></tbody>\n",
              "  </table>\n",
              "</div>\n",
              "</div>\n",
              "<div style='margin: 1em 0 1em 0;'><pre style='margin: 1em 0 1em 0;'>ModelMetricsAnomaly: isolationforest\n",
              "** Reported on train data. **\n",
              "\n",
              "Anomaly Score: 5.715754864781612\n",
              "Normalized Anomaly Score: 0.3819194773629686</pre></div>\n",
              "<div style='margin: 1em 0 1em 0;'>\n",
              "<style>\n",
              "\n",
              "#h2o-table-3.h2o-container {\n",
              "  overflow-x: auto;\n",
              "}\n",
              "#h2o-table-3 .h2o-table {\n",
              "  /* width: 100%; */\n",
              "  margin-top: 1em;\n",
              "  margin-bottom: 1em;\n",
              "}\n",
              "#h2o-table-3 .h2o-table caption {\n",
              "  white-space: nowrap;\n",
              "  caption-side: top;\n",
              "  text-align: left;\n",
              "  /* margin-left: 1em; */\n",
              "  margin: 0;\n",
              "  font-size: larger;\n",
              "}\n",
              "#h2o-table-3 .h2o-table thead {\n",
              "  white-space: nowrap; \n",
              "  position: sticky;\n",
              "  top: 0;\n",
              "  box-shadow: 0 -1px inset;\n",
              "}\n",
              "#h2o-table-3 .h2o-table tbody {\n",
              "  overflow: auto;\n",
              "}\n",
              "#h2o-table-3 .h2o-table th,\n",
              "#h2o-table-3 .h2o-table td {\n",
              "  text-align: right;\n",
              "  /* border: 1px solid; */\n",
              "}\n",
              "#h2o-table-3 .h2o-table tr:nth-child(even) {\n",
              "  /* background: #F5F5F5 */\n",
              "}\n",
              "\n",
              "</style>      \n",
              "<div id=\"h2o-table-3\" class=\"h2o-container\">\n",
              "  <table class=\"h2o-table\">\n",
              "    <caption>Scoring History: </caption>\n",
              "    <thead><tr><th></th>\n",
              "<th>timestamp</th>\n",
              "<th>duration</th>\n",
              "<th>number_of_trees</th>\n",
              "<th>mean_tree_path_length</th>\n",
              "<th>mean_anomaly_score</th></tr></thead>\n",
              "    <tbody><tr><td></td>\n",
              "<td>2022-10-12 12:53:20</td>\n",
              "<td> 0.046 sec</td>\n",
              "<td>0.0</td>\n",
              "<td>nan</td>\n",
              "<td>nan</td></tr>\n",
              "<tr><td></td>\n",
              "<td>2022-10-12 12:53:20</td>\n",
              "<td> 0.204 sec</td>\n",
              "<td>1.0</td>\n",
              "<td>5.6583851</td>\n",
              "<td>0.2683230</td></tr>\n",
              "<tr><td></td>\n",
              "<td>2022-10-12 12:53:20</td>\n",
              "<td> 0.247 sec</td>\n",
              "<td>2.0</td>\n",
              "<td>5.8460606</td>\n",
              "<td>0.2307879</td></tr>\n",
              "<tr><td></td>\n",
              "<td>2022-10-12 12:53:20</td>\n",
              "<td> 0.270 sec</td>\n",
              "<td>3.0</td>\n",
              "<td>6.0884511</td>\n",
              "<td>0.1953319</td></tr>\n",
              "<tr><td></td>\n",
              "<td>2022-10-12 12:53:20</td>\n",
              "<td> 0.294 sec</td>\n",
              "<td>4.0</td>\n",
              "<td>6.0886124</td>\n",
              "<td>0.2430367</td></tr>\n",
              "<tr><td></td>\n",
              "<td>2022-10-12 12:53:20</td>\n",
              "<td> 0.326 sec</td>\n",
              "<td>5.0</td>\n",
              "<td>6.1407574</td>\n",
              "<td>0.2685133</td></tr>\n",
              "<tr><td></td>\n",
              "<td>2022-10-12 12:53:20</td>\n",
              "<td> 0.338 sec</td>\n",
              "<td>6.0</td>\n",
              "<td>6.2033483</td>\n",
              "<td>0.2389955</td></tr>\n",
              "<tr><td></td>\n",
              "<td>2022-10-12 12:53:20</td>\n",
              "<td> 0.350 sec</td>\n",
              "<td>7.0</td>\n",
              "<td>6.2710598</td>\n",
              "<td>0.2551291</td></tr>\n",
              "<tr><td></td>\n",
              "<td>2022-10-12 12:53:20</td>\n",
              "<td> 0.358 sec</td>\n",
              "<td>8.0</td>\n",
              "<td>6.1838945</td>\n",
              "<td>0.2967656</td></tr>\n",
              "<tr><td></td>\n",
              "<td>2022-10-12 12:53:20</td>\n",
              "<td> 0.367 sec</td>\n",
              "<td>9.0</td>\n",
              "<td>6.2209275</td>\n",
              "<td>0.2921522</td></tr>\n",
              "<tr><td>---</td>\n",
              "<td>---</td>\n",
              "<td>---</td>\n",
              "<td>---</td>\n",
              "<td>---</td>\n",
              "<td>---</td></tr>\n",
              "<tr><td></td>\n",
              "<td>2022-10-12 12:53:21</td>\n",
              "<td> 0.714 sec</td>\n",
              "<td>41.0</td>\n",
              "<td>5.7141927</td>\n",
              "<td>0.3734465</td></tr>\n",
              "<tr><td></td>\n",
              "<td>2022-10-12 12:53:21</td>\n",
              "<td> 0.726 sec</td>\n",
              "<td>42.0</td>\n",
              "<td>5.7363357</td>\n",
              "<td>0.3769693</td></tr>\n",
              "<tr><td></td>\n",
              "<td>2022-10-12 12:53:21</td>\n",
              "<td> 0.740 sec</td>\n",
              "<td>43.0</td>\n",
              "<td>5.7517684</td>\n",
              "<td>0.3587996</td></tr>\n",
              "<tr><td></td>\n",
              "<td>2022-10-12 12:53:21</td>\n",
              "<td> 0.760 sec</td>\n",
              "<td>44.0</td>\n",
              "<td>5.7634410</td>\n",
              "<td>0.3523724</td></tr>\n",
              "<tr><td></td>\n",
              "<td>2022-10-12 12:53:21</td>\n",
              "<td> 0.780 sec</td>\n",
              "<td>45.0</td>\n",
              "<td>5.7863398</td>\n",
              "<td>0.3542634</td></tr>\n",
              "<tr><td></td>\n",
              "<td>2022-10-12 12:53:21</td>\n",
              "<td> 0.797 sec</td>\n",
              "<td>46.0</td>\n",
              "<td>5.7928614</td>\n",
              "<td>0.3626457</td></tr>\n",
              "<tr><td></td>\n",
              "<td>2022-10-12 12:53:21</td>\n",
              "<td> 0.807 sec</td>\n",
              "<td>47.0</td>\n",
              "<td>5.8095669</td>\n",
              "<td>0.3606514</td></tr>\n",
              "<tr><td></td>\n",
              "<td>2022-10-12 12:53:21</td>\n",
              "<td> 0.819 sec</td>\n",
              "<td>48.0</td>\n",
              "<td>5.7198405</td>\n",
              "<td>0.3865014</td></tr>\n",
              "<tr><td></td>\n",
              "<td>2022-10-12 12:53:21</td>\n",
              "<td> 0.827 sec</td>\n",
              "<td>49.0</td>\n",
              "<td>5.7040772</td>\n",
              "<td>0.4043497</td></tr>\n",
              "<tr><td></td>\n",
              "<td>2022-10-12 12:53:21</td>\n",
              "<td> 0.836 sec</td>\n",
              "<td>50.0</td>\n",
              "<td>5.7157549</td>\n",
              "<td>0.3819195</td></tr></tbody>\n",
              "  </table>\n",
              "</div>\n",
              "<pre style='font-size: smaller; margin-bottom: 1em;'>[51 rows x 6 columns]</pre></div><pre style=\"font-size: smaller; margin: 1em 0 0 0;\">\n",
              "\n",
              "[tips]\n",
              "Use `model.explain()` to inspect the model.\n",
              "--\n",
              "Use `h2o.display.toggle_user_tips()` to switch on/off this section.</pre>"
            ],
            "text/plain": [
              "Model Details\n",
              "=============\n",
              "H2OIsolationForestEstimator : Isolation Forest\n",
              "Model Key: isolation_forest.hex\n",
              "\n",
              "\n",
              "Model Summary: \n",
              "    number_of_trees    number_of_internal_trees    model_size_in_bytes    min_depth    max_depth    mean_depth    min_leaves    max_leaves    mean_leaves\n",
              "--  -----------------  --------------------------  ---------------------  -----------  -----------  ------------  ------------  ------------  -------------\n",
              "    50                 50                          34757                  8            8            8             15            94            51.42\n",
              "\n",
              "ModelMetricsAnomaly: isolationforest\n",
              "** Reported on train data. **\n",
              "\n",
              "Anomaly Score: 5.715754864781612\n",
              "Normalized Anomaly Score: 0.3819194773629686\n",
              "\n",
              "Scoring History: \n",
              "     timestamp            duration    number_of_trees    mean_tree_path_length    mean_anomaly_score\n",
              "---  -------------------  ----------  -----------------  -----------------------  --------------------\n",
              "     2022-10-12 12:53:20  0.046 sec   0.0                nan                      nan\n",
              "     2022-10-12 12:53:20  0.204 sec   1.0                5.658385093167702        0.26832298136646\n",
              "     2022-10-12 12:53:20  0.247 sec   2.0                5.846060606060606        0.23078787878787901\n",
              "     2022-10-12 12:53:20  0.270 sec   3.0                6.088451139436075        0.1953318986922694\n",
              "     2022-10-12 12:53:20  0.294 sec   4.0                6.088612368024137        0.2430367018602321\n",
              "     2022-10-12 12:53:20  0.326 sec   5.0                6.140757405324337        0.2685133108361454\n",
              "     2022-10-12 12:53:20  0.338 sec   6.0                6.203348297792746        0.23899551066217783\n",
              "     2022-10-12 12:53:20  0.350 sec   7.0                6.271059804393131        0.25512906846240135\n",
              "     2022-10-12 12:53:20  0.358 sec   8.0                6.183894500561166        0.29676563615957646\n",
              "     2022-10-12 12:53:20  0.367 sec   9.0                6.220927529260871        0.29215217652717634\n",
              "---  ---                  ---         ---                ---                      ---\n",
              "     2022-10-12 12:53:21  0.714 sec   41.0               5.714192652908785        0.37344654683901013\n",
              "     2022-10-12 12:53:21  0.726 sec   42.0               5.736335732956997        0.37696929916639643\n",
              "     2022-10-12 12:53:21  0.740 sec   43.0               5.7517684419933195       0.35879959042178255\n",
              "     2022-10-12 12:53:21  0.760 sec   44.0               5.763441009775677        0.3523724364208278\n",
              "     2022-10-12 12:53:21  0.780 sec   45.0               5.78633982663668         0.3542633743243097\n",
              "     2022-10-12 12:53:21  0.797 sec   46.0               5.792861384397748        0.36264565429085993\n",
              "     2022-10-12 12:53:21  0.807 sec   47.0               5.80956689182062         0.36065144522621456\n",
              "     2022-10-12 12:53:21  0.819 sec   48.0               5.719840494795796        0.38650135869392993\n",
              "     2022-10-12 12:53:21  0.827 sec   49.0               5.704077194859069        0.4043497169730921\n",
              "     2022-10-12 12:53:21  0.836 sec   50.0               5.715754864781612        0.3819194773629686\n",
              "[51 rows x 6 columns]\n",
              "\n",
              "\n",
              "[tips]\n",
              "Use `model.explain()` to inspect the model.\n",
              "--\n",
              "Use `h2o.display.toggle_user_tips()` to switch on/off this section."
            ]
          },
          "execution_count": 4,
          "metadata": {},
          "output_type": "execute_result"
        }
      ],
      "source": [
        "#define the columns of data we will use in our analysis\n",
        "# x_var = ['Age', 'BusinessTravel', 'DailyRate', 'Department', 'DistanceFromHome', 'Education', 'EducationField', 'EnvironmentSatisfaction', \n",
        "#          'Gender', 'HourlyRate', 'JobInvolvement', 'JobLevel', 'JobSatisfaction', 'MaritalStatus', 'MonthlyIncome', 'MonthlyRate',\n",
        "#          'NumCompaniesWorked', 'Over18', 'OverTime', 'PercentSalaryHike', 'PerformanceRating', 'StandardHours', \n",
        "#          'StockOptionLevel', 'TotalWorkingYears', 'TrainingTimesLastYear', 'WorkLifeBalance', 'YearsAtCompany', 'YearsInCurrentRole',\n",
        "#          'YearsSinceLastPromotion', 'YearsWithCurrManager']\n",
        "x_var=employee_data.columns[1:]\n",
        "#train the isolation trees model\n",
        "isolation_model = H2OIsolationForestEstimator(model_id = 'isolation_forest.hex', seed = 1234)\n",
        "training = isolation_model.train(training_frame = employee_data, x = x_var)\n",
        "training"
      ]
    },
    {
      "cell_type": "markdown",
      "metadata": {
        "id": "UP-3LTHuBLtL"
      },
      "source": [
        "Using the trained Isolation Forest model (above), we see an anamoly score of 6.69140874713062. We will use this value as the cutoff when labeling records that are likely anomalies. \n",
        "\n",
        "First, let's visualize the predictions using a histogram. "
      ]
    },
    {
      "cell_type": "code",
      "execution_count": 123,
      "metadata": {},
      "outputs": [
        {
          "data": {
            "text/plain": [
              "['Survived',\n",
              " 'Pclass',\n",
              " 'Name',\n",
              " 'Sex',\n",
              " 'Age',\n",
              " 'SibSp',\n",
              " 'Parch',\n",
              " 'Ticket',\n",
              " 'Fare',\n",
              " 'Cabin',\n",
              " 'Embarked']"
            ]
          },
          "execution_count": 123,
          "metadata": {},
          "output_type": "execute_result"
        }
      ],
      "source": [
        "x_var"
      ]
    },
    {
      "cell_type": "code",
      "execution_count": 5,
      "metadata": {
        "colab": {
          "base_uri": "https://localhost:8080/"
        },
        "id": "hscXIpKJAHNN",
        "outputId": "4c530011-c372-4ee0-b3e8-f796b178269d"
      },
      "outputs": [
        {
          "name": "stdout",
          "output_type": "stream",
          "text": [
            "isolationforest prediction progress: |███████████████████████████████████████████| (done) 100%\n"
          ]
        },
        {
          "data": {
            "image/png": "[encoded data removed]",
            "text/plain": [
              "<Figure size 640x480 with 1 Axes>"
            ]
          },
          "metadata": {},
          "output_type": "display_data"
        },
        {
          "data": {
            "text/html": [
              "<table class='dataframe'>\n",
              "<thead>\n",
              "<tr><th style=\"text-align: right;\">  breaks</th><th style=\"text-align: right;\">  counts</th><th style=\"text-align: right;\">  mids_true</th><th style=\"text-align: right;\">  mids</th><th style=\"text-align: right;\">  widths</th></tr>\n",
              "</thead>\n",
              "<tbody>\n",
              "<tr><td style=\"text-align: right;\">    4.44</td><td style=\"text-align: right;\">     nan</td><td style=\"text-align: right;\">     nan   </td><td style=\"text-align: right;\">nan   </td><td style=\"text-align: right;\">  nan   </td></tr>\n",
              "<tr><td style=\"text-align: right;\">    4.66</td><td style=\"text-align: right;\">       7</td><td style=\"text-align: right;\">       2.11</td><td style=\"text-align: right;\">  4.55</td><td style=\"text-align: right;\">    0.22</td></tr>\n",
              "<tr><td style=\"text-align: right;\">    4.88</td><td style=\"text-align: right;\">       6</td><td style=\"text-align: right;\">       2.29</td><td style=\"text-align: right;\">  4.77</td><td style=\"text-align: right;\">    0.22</td></tr>\n",
              "<tr><td style=\"text-align: right;\">    5.1 </td><td style=\"text-align: right;\">      15</td><td style=\"text-align: right;\">       2.33</td><td style=\"text-align: right;\">  4.99</td><td style=\"text-align: right;\">    0.22</td></tr>\n",
              "<tr><td style=\"text-align: right;\">    5.32</td><td style=\"text-align: right;\">      22</td><td style=\"text-align: right;\">       2.44</td><td style=\"text-align: right;\">  5.21</td><td style=\"text-align: right;\">    0.22</td></tr>\n",
              "<tr><td style=\"text-align: right;\">    5.54</td><td style=\"text-align: right;\">      56</td><td style=\"text-align: right;\">       2.56</td><td style=\"text-align: right;\">  5.43</td><td style=\"text-align: right;\">    0.22</td></tr>\n",
              "<tr><td style=\"text-align: right;\">    5.76</td><td style=\"text-align: right;\">     106</td><td style=\"text-align: right;\">       2.66</td><td style=\"text-align: right;\">  5.65</td><td style=\"text-align: right;\">    0.22</td></tr>\n",
              "<tr><td style=\"text-align: right;\">    5.98</td><td style=\"text-align: right;\">     224</td><td style=\"text-align: right;\">       2.77</td><td style=\"text-align: right;\">  5.87</td><td style=\"text-align: right;\">    0.22</td></tr>\n",
              "<tr><td style=\"text-align: right;\">    6.2 </td><td style=\"text-align: right;\">     284</td><td style=\"text-align: right;\">       2.88</td><td style=\"text-align: right;\">  6.09</td><td style=\"text-align: right;\">    0.22</td></tr>\n",
              "<tr><td style=\"text-align: right;\">    6.42</td><td style=\"text-align: right;\">      67</td><td style=\"text-align: right;\">       2.99</td><td style=\"text-align: right;\">  6.31</td><td style=\"text-align: right;\">    0.22</td></tr>\n",
              "</tbody>\n",
              "</table><pre style='font-size: smaller; margin-bottom: 1em;'>[11 rows x 5 columns]</pre>"
            ],
            "text/plain": [
              "  breaks    counts    mids_true    mids    widths\n",
              "--------  --------  -----------  ------  --------\n",
              "    4.44       nan       nan     nan       nan\n",
              "    4.66         7         2.11    4.55      0.22\n",
              "    4.88         6         2.29    4.77      0.22\n",
              "    5.1         15         2.33    4.99      0.22\n",
              "    5.32        22         2.44    5.21      0.22\n",
              "    5.54        56         2.56    5.43      0.22\n",
              "    5.76       106         2.66    5.65      0.22\n",
              "    5.98       224         2.77    5.87      0.22\n",
              "    6.2        284         2.88    6.09      0.22\n",
              "    6.42        67         2.99    6.31      0.22\n",
              "[11 rows x 5 columns]\n"
            ]
          },
          "execution_count": 5,
          "metadata": {},
          "output_type": "execute_result"
        }
      ],
      "source": [
        "#define the preductions\n",
        "predictions = isolation_model.predict(employee_data)\n",
        "\n",
        "#plot a histogram of the mean_length scores to identify the cutoff for anomalies\n",
        "predictions['mean_length'].hist()"
      ]
    },
    {
      "cell_type": "markdown",
      "metadata": {
        "id": "1eMTYhSnAMys"
      },
      "source": [
        "####Define the anomalies"
      ]
    },
    {
      "cell_type": "markdown",
      "metadata": {
        "id": "rIPl9GIkAQqD"
      },
      "source": [
        "Let's now see how many records have been identified as an anomaly using the anomaly score from the model above."
      ]
    },
    {
      "cell_type": "code",
      "execution_count": 6,
      "metadata": {},
      "outputs": [
        {
          "data": {
            "text/plain": [
              "(891, 12)"
            ]
          },
          "execution_count": 6,
          "metadata": {},
          "output_type": "execute_result"
        }
      ],
      "source": [
        "employee_data.shape"
      ]
    },
    {
      "cell_type": "code",
      "execution_count": 7,
      "metadata": {
        "colab": {
          "base_uri": "https://localhost:8080/"
        },
        "id": "qUyHRlpjAIt3",
        "outputId": "2bc8cc2e-5b9b-4b68-ed17-66436b16c73b"
      },
      "outputs": [
        {
          "name": "stdout",
          "output_type": "stream",
          "text": [
            "Number of Anomalies: 212\n",
            "Number of Anomalies as Percent of Total:  0.23793490460157127\n"
          ]
        },
        {
          "data": {
            "text/html": [
              "<table class='dataframe'>\n",
              "<thead>\n",
              "<tr><th style=\"text-align: right;\">  PassengerId</th><th style=\"text-align: right;\">  Survived</th><th style=\"text-align: right;\">  Pclass</th><th>Name                                                     </th><th>Sex   </th><th style=\"text-align: right;\">  Age</th><th style=\"text-align: right;\">  SibSp</th><th style=\"text-align: right;\">  Parch</th><th style=\"text-align: right;\">  Ticket</th><th style=\"text-align: right;\">    Fare</th><th>Cabin      </th><th>Embarked  </th></tr>\n",
              "</thead>\n",
              "<tbody>\n",
              "<tr><td style=\"text-align: right;\">            6</td><td style=\"text-align: right;\">         0</td><td style=\"text-align: right;\">       3</td><td>Moran, Mr. James                                         </td><td>male  </td><td style=\"text-align: right;\">  nan</td><td style=\"text-align: right;\">      0</td><td style=\"text-align: right;\">      0</td><td style=\"text-align: right;\">  330877</td><td style=\"text-align: right;\">  8.4583</td><td>           </td><td>Q         </td></tr>\n",
              "<tr><td style=\"text-align: right;\">            8</td><td style=\"text-align: right;\">         0</td><td style=\"text-align: right;\">       3</td><td>Palsson, Master. Gosta Leonard                           </td><td>male  </td><td style=\"text-align: right;\">    2</td><td style=\"text-align: right;\">      3</td><td style=\"text-align: right;\">      1</td><td style=\"text-align: right;\">  349909</td><td style=\"text-align: right;\"> 21.075 </td><td>           </td><td>S         </td></tr>\n",
              "<tr><td style=\"text-align: right;\">           10</td><td style=\"text-align: right;\">         1</td><td style=\"text-align: right;\">       2</td><td>Nasser, Mrs. Nicholas (Adele Achem)                      </td><td>female</td><td style=\"text-align: right;\">   14</td><td style=\"text-align: right;\">      1</td><td style=\"text-align: right;\">      0</td><td style=\"text-align: right;\">  237736</td><td style=\"text-align: right;\"> 30.0708</td><td>           </td><td>C         </td></tr>\n",
              "<tr><td style=\"text-align: right;\">           11</td><td style=\"text-align: right;\">         1</td><td style=\"text-align: right;\">       3</td><td>Sandstrom, Miss. Marguerite Rut                          </td><td>female</td><td style=\"text-align: right;\">    4</td><td style=\"text-align: right;\">      1</td><td style=\"text-align: right;\">      1</td><td style=\"text-align: right;\">     nan</td><td style=\"text-align: right;\"> 16.7   </td><td>G6         </td><td>S         </td></tr>\n",
              "<tr><td style=\"text-align: right;\">           14</td><td style=\"text-align: right;\">         0</td><td style=\"text-align: right;\">       3</td><td>Andersson, Mr. Anders Johan                              </td><td>male  </td><td style=\"text-align: right;\">   39</td><td style=\"text-align: right;\">      1</td><td style=\"text-align: right;\">      5</td><td style=\"text-align: right;\">  347082</td><td style=\"text-align: right;\"> 31.275 </td><td>           </td><td>S         </td></tr>\n",
              "<tr><td style=\"text-align: right;\">           16</td><td style=\"text-align: right;\">         1</td><td style=\"text-align: right;\">       2</td><td>Hewlett, Mrs. (Mary D Kingcome)                          </td><td>female</td><td style=\"text-align: right;\">   55</td><td style=\"text-align: right;\">      0</td><td style=\"text-align: right;\">      0</td><td style=\"text-align: right;\">  248706</td><td style=\"text-align: right;\"> 16     </td><td>           </td><td>S         </td></tr>\n",
              "<tr><td style=\"text-align: right;\">           17</td><td style=\"text-align: right;\">         0</td><td style=\"text-align: right;\">       3</td><td>Rice, Master. Eugene                                     </td><td>male  </td><td style=\"text-align: right;\">    2</td><td style=\"text-align: right;\">      4</td><td style=\"text-align: right;\">      1</td><td style=\"text-align: right;\">  382652</td><td style=\"text-align: right;\"> 29.125 </td><td>           </td><td>Q         </td></tr>\n",
              "<tr><td style=\"text-align: right;\">           26</td><td style=\"text-align: right;\">         1</td><td style=\"text-align: right;\">       3</td><td>Asplund, Mrs. Carl Oscar (Selma Augusta Emilia Johansson)</td><td>female</td><td style=\"text-align: right;\">   38</td><td style=\"text-align: right;\">      1</td><td style=\"text-align: right;\">      5</td><td style=\"text-align: right;\">  347077</td><td style=\"text-align: right;\"> 31.3875</td><td>           </td><td>S         </td></tr>\n",
              "<tr><td style=\"text-align: right;\">           28</td><td style=\"text-align: right;\">         0</td><td style=\"text-align: right;\">       1</td><td>Fortune, Mr. Charles Alexander                           </td><td>male  </td><td style=\"text-align: right;\">   19</td><td style=\"text-align: right;\">      3</td><td style=\"text-align: right;\">      2</td><td style=\"text-align: right;\">   19950</td><td style=\"text-align: right;\">263     </td><td>C23 C25 C27</td><td>S         </td></tr>\n",
              "<tr><td style=\"text-align: right;\">           31</td><td style=\"text-align: right;\">         0</td><td style=\"text-align: right;\">       1</td><td>Uruchurtu, Don. Manuel E                                 </td><td>male  </td><td style=\"text-align: right;\">   40</td><td style=\"text-align: right;\">      0</td><td style=\"text-align: right;\">      0</td><td style=\"text-align: right;\">     nan</td><td style=\"text-align: right;\"> 27.7208</td><td>           </td><td>C         </td></tr>\n",
              "</tbody>\n",
              "</table><pre style='font-size: smaller; margin-bottom: 1em;'>[212 rows x 12 columns]</pre>"
            ],
            "text/plain": [
              "  PassengerId    Survived    Pclass  Name                                                       Sex       Age    SibSp    Parch    Ticket      Fare  Cabin        Embarked\n",
              "-------------  ----------  --------  ---------------------------------------------------------  ------  -----  -------  -------  --------  --------  -----------  ----------\n",
              "            6           0         3  Moran, Mr. James                                           male      nan        0        0    330877    8.4583               Q\n",
              "            8           0         3  Palsson, Master. Gosta Leonard                             male        2        3        1    349909   21.075                S\n",
              "           10           1         2  Nasser, Mrs. Nicholas (Adele Achem)                        female     14        1        0    237736   30.0708               C\n",
              "           11           1         3  Sandstrom, Miss. Marguerite Rut                            female      4        1        1       nan   16.7     G6           S\n",
              "           14           0         3  Andersson, Mr. Anders Johan                                male       39        1        5    347082   31.275                S\n",
              "           16           1         2  Hewlett, Mrs. (Mary D Kingcome)                            female     55        0        0    248706   16                    S\n",
              "           17           0         3  Rice, Master. Eugene                                       male        2        4        1    382652   29.125                Q\n",
              "           26           1         3  Asplund, Mrs. Carl Oscar (Selma Augusta Emilia Johansson)  female     38        1        5    347077   31.3875               S\n",
              "           28           0         1  Fortune, Mr. Charles Alexander                             male       19        3        2     19950  263       C23 C25 C27  S\n",
              "           31           0         1  Uruchurtu, Don. Manuel E                                   male       40        0        0       nan   27.7208               C\n",
              "[212 rows x 12 columns]\n"
            ]
          },
          "execution_count": 7,
          "metadata": {},
          "output_type": "execute_result"
        }
      ],
      "source": [
        "#print the number of anomalies identified by the model\n",
        "anomalies = employee_data[predictions['mean_length'] < 5.54]\n",
        "print('Number of Anomalies: ' + str(anomalies.nrow))\n",
        "print('Number of Anomalies as Percent of Total: ', str(anomalies.nrow/891))\n",
        "anomalies"
      ]
    },
    {
      "cell_type": "markdown",
      "metadata": {},
      "source": [
        "two time get prediction from model:"
      ]
    },
    {
      "cell_type": "code",
      "execution_count": 8,
      "metadata": {},
      "outputs": [
        {
          "name": "stdout",
          "output_type": "stream",
          "text": [
            "isolationforest prediction progress: |███████████████████████████████████████████| (done) 100%\n",
            "isolationforest prediction progress: |███████████████████████████████████████████| (done) 100%\n"
          ]
        },
        {
          "data": {
            "text/html": [
              "<table class='dataframe'>\n",
              "<thead>\n",
              "<tr><th style=\"text-align: right;\">  predict</th><th style=\"text-align: right;\">  mean_length</th></tr>\n",
              "</thead>\n",
              "<tbody>\n",
              "<tr><td style=\"text-align: right;\"> 0.479339</td><td style=\"text-align: right;\">         5.48</td></tr>\n",
              "<tr><td style=\"text-align: right;\"> 0.520661</td><td style=\"text-align: right;\">         5.38</td></tr>\n",
              "<tr><td style=\"text-align: right;\"> 0.487603</td><td style=\"text-align: right;\">         5.46</td></tr>\n",
              "<tr><td style=\"text-align: right;\"> 0.528926</td><td style=\"text-align: right;\">         5.36</td></tr>\n",
              "<tr><td style=\"text-align: right;\"> 0.710744</td><td style=\"text-align: right;\">         4.92</td></tr>\n",
              "<tr><td style=\"text-align: right;\"> 0.528926</td><td style=\"text-align: right;\">         5.36</td></tr>\n",
              "<tr><td style=\"text-align: right;\"> 0.785124</td><td style=\"text-align: right;\">         4.74</td></tr>\n",
              "<tr><td style=\"text-align: right;\"> 0.61157 </td><td style=\"text-align: right;\">         5.16</td></tr>\n",
              "<tr><td style=\"text-align: right;\"> 0.545455</td><td style=\"text-align: right;\">         5.32</td></tr>\n",
              "<tr><td style=\"text-align: right;\"> 0.570248</td><td style=\"text-align: right;\">         5.26</td></tr>\n",
              "</tbody>\n",
              "</table><pre style='font-size: smaller; margin-bottom: 1em;'>[212 rows x 2 columns]</pre>"
            ],
            "text/plain": [
              "  predict    mean_length\n",
              "---------  -------------\n",
              " 0.479339           5.48\n",
              " 0.520661           5.38\n",
              " 0.487603           5.46\n",
              " 0.528926           5.36\n",
              " 0.710744           4.92\n",
              " 0.528926           5.36\n",
              " 0.785124           4.74\n",
              " 0.61157            5.16\n",
              " 0.545455           5.32\n",
              " 0.570248           5.26\n",
              "[212 rows x 2 columns]\n"
            ]
          },
          "execution_count": 8,
          "metadata": {},
          "output_type": "execute_result"
        }
      ],
      "source": [
        "isolation_model.predict(employee_data[isolation_model.predict(employee_data)['mean_length'] < 5.54])"
      ]
    },
    {
      "cell_type": "code",
      "execution_count": 9,
      "metadata": {
        "colab": {
          "base_uri": "https://localhost:8080/"
        },
        "id": "Vtje85GkAVXM",
        "outputId": "f7762fa9-9a26-459b-a2cc-dd91af78fde5"
      },
      "outputs": [
        {
          "name": "stdout",
          "output_type": "stream",
          "text": [
            "isolationforest prediction progress: |███████████████████████████████████████████| (done) 100%\n",
            "(212, 12)\n"
          ]
        },
        {
          "data": {
            "text/html": [
              "<table class='dataframe'>\n",
              "<thead>\n",
              "<tr><th style=\"text-align: right;\">  mean_length</th><th style=\"text-align: right;\">  Survived</th><th style=\"text-align: right;\">  Pclass</th><th>Name                                                     </th><th>Sex   </th><th style=\"text-align: right;\">  Age</th><th style=\"text-align: right;\">  SibSp</th><th style=\"text-align: right;\">  Parch</th><th style=\"text-align: right;\">  Ticket</th><th style=\"text-align: right;\">    Fare</th><th>Cabin      </th><th>Embarked  </th></tr>\n",
              "</thead>\n",
              "<tbody>\n",
              "<tr><td style=\"text-align: right;\">         5.48</td><td style=\"text-align: right;\">         0</td><td style=\"text-align: right;\">       3</td><td>Moran, Mr. James                                         </td><td>male  </td><td style=\"text-align: right;\">  nan</td><td style=\"text-align: right;\">      0</td><td style=\"text-align: right;\">      0</td><td style=\"text-align: right;\">  330877</td><td style=\"text-align: right;\">  8.4583</td><td>           </td><td>Q         </td></tr>\n",
              "<tr><td style=\"text-align: right;\">         5.38</td><td style=\"text-align: right;\">         0</td><td style=\"text-align: right;\">       3</td><td>Palsson, Master. Gosta Leonard                           </td><td>male  </td><td style=\"text-align: right;\">    2</td><td style=\"text-align: right;\">      3</td><td style=\"text-align: right;\">      1</td><td style=\"text-align: right;\">  349909</td><td style=\"text-align: right;\"> 21.075 </td><td>           </td><td>S         </td></tr>\n",
              "<tr><td style=\"text-align: right;\">         5.46</td><td style=\"text-align: right;\">         1</td><td style=\"text-align: right;\">       2</td><td>Nasser, Mrs. Nicholas (Adele Achem)                      </td><td>female</td><td style=\"text-align: right;\">   14</td><td style=\"text-align: right;\">      1</td><td style=\"text-align: right;\">      0</td><td style=\"text-align: right;\">  237736</td><td style=\"text-align: right;\"> 30.0708</td><td>           </td><td>C         </td></tr>\n",
              "<tr><td style=\"text-align: right;\">         5.36</td><td style=\"text-align: right;\">         1</td><td style=\"text-align: right;\">       3</td><td>Sandstrom, Miss. Marguerite Rut                          </td><td>female</td><td style=\"text-align: right;\">    4</td><td style=\"text-align: right;\">      1</td><td style=\"text-align: right;\">      1</td><td style=\"text-align: right;\">     nan</td><td style=\"text-align: right;\"> 16.7   </td><td>G6         </td><td>S         </td></tr>\n",
              "<tr><td style=\"text-align: right;\">         4.92</td><td style=\"text-align: right;\">         0</td><td style=\"text-align: right;\">       3</td><td>Andersson, Mr. Anders Johan                              </td><td>male  </td><td style=\"text-align: right;\">   39</td><td style=\"text-align: right;\">      1</td><td style=\"text-align: right;\">      5</td><td style=\"text-align: right;\">  347082</td><td style=\"text-align: right;\"> 31.275 </td><td>           </td><td>S         </td></tr>\n",
              "<tr><td style=\"text-align: right;\">         5.36</td><td style=\"text-align: right;\">         1</td><td style=\"text-align: right;\">       2</td><td>Hewlett, Mrs. (Mary D Kingcome)                          </td><td>female</td><td style=\"text-align: right;\">   55</td><td style=\"text-align: right;\">      0</td><td style=\"text-align: right;\">      0</td><td style=\"text-align: right;\">  248706</td><td style=\"text-align: right;\"> 16     </td><td>           </td><td>S         </td></tr>\n",
              "<tr><td style=\"text-align: right;\">         4.74</td><td style=\"text-align: right;\">         0</td><td style=\"text-align: right;\">       3</td><td>Rice, Master. Eugene                                     </td><td>male  </td><td style=\"text-align: right;\">    2</td><td style=\"text-align: right;\">      4</td><td style=\"text-align: right;\">      1</td><td style=\"text-align: right;\">  382652</td><td style=\"text-align: right;\"> 29.125 </td><td>           </td><td>Q         </td></tr>\n",
              "<tr><td style=\"text-align: right;\">         5.16</td><td style=\"text-align: right;\">         1</td><td style=\"text-align: right;\">       3</td><td>Asplund, Mrs. Carl Oscar (Selma Augusta Emilia Johansson)</td><td>female</td><td style=\"text-align: right;\">   38</td><td style=\"text-align: right;\">      1</td><td style=\"text-align: right;\">      5</td><td style=\"text-align: right;\">  347077</td><td style=\"text-align: right;\"> 31.3875</td><td>           </td><td>S         </td></tr>\n",
              "<tr><td style=\"text-align: right;\">         5.32</td><td style=\"text-align: right;\">         0</td><td style=\"text-align: right;\">       1</td><td>Fortune, Mr. Charles Alexander                           </td><td>male  </td><td style=\"text-align: right;\">   19</td><td style=\"text-align: right;\">      3</td><td style=\"text-align: right;\">      2</td><td style=\"text-align: right;\">   19950</td><td style=\"text-align: right;\">263     </td><td>C23 C25 C27</td><td>S         </td></tr>\n",
              "<tr><td style=\"text-align: right;\">         5.26</td><td style=\"text-align: right;\">         0</td><td style=\"text-align: right;\">       1</td><td>Uruchurtu, Don. Manuel E                                 </td><td>male  </td><td style=\"text-align: right;\">   40</td><td style=\"text-align: right;\">      0</td><td style=\"text-align: right;\">      0</td><td style=\"text-align: right;\">     nan</td><td style=\"text-align: right;\"> 27.7208</td><td>           </td><td>C         </td></tr>\n",
              "</tbody>\n",
              "</table><pre style='font-size: smaller; margin-bottom: 1em;'>[10 rows x 12 columns]</pre>"
            ],
            "text/plain": [
              "  mean_length    Survived    Pclass  Name                                                       Sex       Age    SibSp    Parch    Ticket      Fare  Cabin        Embarked\n",
              "-------------  ----------  --------  ---------------------------------------------------------  ------  -----  -------  -------  --------  --------  -----------  ----------\n",
              "         5.48           0         3  Moran, Mr. James                                           male      nan        0        0    330877    8.4583               Q\n",
              "         5.38           0         3  Palsson, Master. Gosta Leonard                             male        2        3        1    349909   21.075                S\n",
              "         5.46           1         2  Nasser, Mrs. Nicholas (Adele Achem)                        female     14        1        0    237736   30.0708               C\n",
              "         5.36           1         3  Sandstrom, Miss. Marguerite Rut                            female      4        1        1       nan   16.7     G6           S\n",
              "         4.92           0         3  Andersson, Mr. Anders Johan                                male       39        1        5    347082   31.275                S\n",
              "         5.36           1         2  Hewlett, Mrs. (Mary D Kingcome)                            female     55        0        0    248706   16                    S\n",
              "         4.74           0         3  Rice, Master. Eugene                                       male        2        4        1    382652   29.125                Q\n",
              "         5.16           1         3  Asplund, Mrs. Carl Oscar (Selma Augusta Emilia Johansson)  female     38        1        5    347077   31.3875               S\n",
              "         5.32           0         1  Fortune, Mr. Charles Alexander                             male       19        3        2     19950  263       C23 C25 C27  S\n",
              "         5.26           0         1  Uruchurtu, Don. Manuel E                                   male       40        0        0       nan   27.7208               C\n",
              "[10 rows x 12 columns]\n"
            ]
          },
          "execution_count": 9,
          "metadata": {},
          "output_type": "execute_result"
        }
      ],
      "source": [
        "#create a dataframe of the records identified as an anomaly from the model\n",
        "anomaly_records = isolation_model.predict(anomalies)['mean_length'].cbind(anomalies[x_var])\n",
        "print(anomaly_records.shape)\n",
        "anomaly_records.head()"
      ]
    },
    {
      "cell_type": "markdown",
      "metadata": {
        "id": "JuBdZtivBjkd"
      },
      "source": [
        "Next, we divide the anomalies into quartiles, allowing us to prioritize those that are most likely an anomaly over others that may be. This step is of course optional, depending on the number of anomalies identified, the standard of data quality that's needed, and the resources available to check the anomalies. "
      ]
    },
    {
      "cell_type": "code",
      "execution_count": 10,
      "metadata": {
        "colab": {
          "base_uri": "https://localhost:8080/"
        },
        "id": "bvsDyEOFBsf5",
        "outputId": "8b851be7-0b10-4d75-c6a4-7ddd82fd17f5"
      },
      "outputs": [
        {
          "name": "stdout",
          "output_type": "stream",
          "text": [
            "Quartile Values:  [(5.44, 5.52], (5.31, 5.44], (4.218999999999999, 5.135], (5.135, 5.31]]\n",
            "Categories (4, interval[float64, right]): [(4.218999999999999, 5.135] < (5.135, 5.31] < (5.31, 5.44] < (5.44, 5.52]]\n"
          ]
        },
        {
          "data": {
            "text/plain": [
              "(212, 13)"
            ]
          },
          "execution_count": 10,
          "metadata": {},
          "output_type": "execute_result"
        }
      ],
      "source": [
        "#convert anomaly_records to Pandas dataframe to manipulate and calculate quartiles\n",
        "anomalies_df = h2o.as_list(anomaly_records)\n",
        "anomalies_df.head()\n",
        "\n",
        "#create a column for quartiles\n",
        "anomalies_df.insert(1, 'Quartile', '')\n",
        "\n",
        "#calculate the quartile of each mean_length\n",
        "anomalies_df['Quartile'] = pd.qcut(anomalies_df['mean_length'], q=4)\n",
        "\n",
        "print(\"Quartile Values: \", anomalies_df['Quartile'].unique())\n",
        "anomalies_df.shape"
      ]
    },
    {
      "cell_type": "code",
      "execution_count": 12,
      "metadata": {
        "colab": {
          "base_uri": "https://localhost:8080/"
        },
        "id": "oc1Hpg3yCF9D",
        "outputId": "13d4ae08-643d-42cd-c2fd-2c4b11da0886"
      },
      "outputs": [
        {
          "name": "stdout",
          "output_type": "stream",
          "text": [
            "# of 1st quartile:  (53, 13)\n",
            "# of 2nd quartile:  (53, 13)\n",
            "# of 3rd quartile:  (45, 13)\n",
            "# of 4th quartile:  (51, 13)\n"
          ]
        }
      ],
      "source": [
        "#create a df of each quartile and print the shape of each\n",
        "first = anomalies_df.loc[anomalies_df['mean_length'] <5.135]\n",
        "second = anomalies_df.loc[(anomalies_df['mean_length'] > 5.135) & (anomalies_df['mean_length'] < 5.31)]\n",
        "third = anomalies_df.loc[(anomalies_df['mean_length'] > 5.31) & (anomalies_df['mean_length'] <5.44)]\n",
        "fourth = anomalies_df.loc[anomalies_df['mean_length'] > 5.44]\n",
        "\n",
        "print('# of 1st quartile: ', first.shape)\n",
        "print('# of 2nd quartile: ', second.shape)\n",
        "print('# of 3rd quartile: ', third.shape)\n",
        "print('# of 4th quartile: ', fourth.shape)"
      ]
    },
    {
      "cell_type": "code",
      "execution_count": 13,
      "metadata": {
        "id": "gtp9j65NB1JA"
      },
      "outputs": [],
      "source": [
        "#redefine the anomalies df using the first quartile cutoff\n",
        "anomalies_first = employee_data[(predictions['mean_length'] > 4.96) & (predictions['mean_length'] < 5.14)]\n",
        "\n",
        "#copy employee data dataframe to analyize a single record previously identified as an anomaly\n",
        "local_surrogate_data = employee_data[:, :]"
      ]
    },
    {
      "cell_type": "code",
      "execution_count": 19,
      "metadata": {
        "id": "5CULwAU5DIYW"
      },
      "outputs": [],
      "source": [
        "#create Pandas df of anomalies table\n",
        "anomalies_df = anomalies_first.as_data_frame()\n",
        "\n",
        "#create a small test df - remove this code to run the model on the full df\n",
        "anomalies_df = anomalies_df.head(20)\n",
        "\n",
        "#create list of employees\n",
        "df_id = anomalies_df['PassengerId'].tolist()\n",
        "\n",
        "#create empty dictionary and df to populate with output from the model\n",
        "anomalies_dict = {}\n",
        "df_output = pd.DataFrame()"
      ]
    },
    {
      "cell_type": "code",
      "execution_count": 20,
      "metadata": {},
      "outputs": [
        {
          "data": {
            "text/plain": [
              "[44, 117, 180, 272, 281, 361, 374, 470, 484, 546, 558, 611, 634, 645, 775, 828]"
            ]
          },
          "execution_count": 20,
          "metadata": {},
          "output_type": "execute_result"
        }
      ],
      "source": [
        "df_id"
      ]
    },
    {
      "cell_type": "code",
      "execution_count": 16,
      "metadata": {},
      "outputs": [],
      "source": [
        "import warnings\n",
        "warnings.filterwarnings(\"ignore\")"
      ]
    },
    {
      "cell_type": "code",
      "execution_count": 21,
      "metadata": {
        "colab": {
          "base_uri": "https://localhost:8080/"
        },
        "id": "rBFOMhCFDKa2",
        "outputId": "692c5a44-032a-4216-9ecc-c17c41437f84"
      },
      "outputs": [
        {
          "name": "stdout",
          "output_type": "stream",
          "text": [
            "drf Model Build progress: |██████████████████████████████████████████████████████| (done) 100%\n",
            "Parse progress: |████████████████████████████████████████████████████████████████| (done) 100%\n",
            "id 44  completed: \n",
            "drf Model Build progress: |██████████████████████████████████████████████████████| (done) 100%\n",
            "Parse progress: |████████████████████████████████████████████████████████████████| (done) 100%\n",
            "id 44  completed: \n",
            "drf Model Build progress: |██████████████████████████████████████████████████████| (done) 100%\n",
            "Parse progress: |████████████████████████████████████████████████████████████████| (done) 100%\n",
            "id 44  completed: \n",
            "drf Model Build progress: |██████████████████████████████████████████████████████| (done) 100%\n",
            "Parse progress: |████████████████████████████████████████████████████████████████| (done) 100%\n",
            "id 117  completed: \n",
            "drf Model Build progress: |██████████████████████████████████████████████████████| (done) 100%\n",
            "Parse progress: |████████████████████████████████████████████████████████████████| (done) 100%\n",
            "id 117  completed: \n",
            "drf Model Build progress: |██████████████████████████████████████████████████████| (done) 100%\n",
            "Parse progress: |████████████████████████████████████████████████████████████████| (done) 100%\n",
            "id 117  completed: \n",
            "drf Model Build progress: |██████████████████████████████████████████████████████| (done) 100%\n",
            "Parse progress: |████████████████████████████████████████████████████████████████| (done) 100%\n",
            "id 180  completed: \n",
            "drf Model Build progress: |██████████████████████████████████████████████████████| (done) 100%\n",
            "Parse progress: |████████████████████████████████████████████████████████████████| (done) 100%\n",
            "id 180  completed: \n",
            "drf Model Build progress: |██████████████████████████████████████████████████████| (done) 100%\n",
            "Parse progress: |████████████████████████████████████████████████████████████████| (done) 100%\n",
            "id 180  completed: \n",
            "drf Model Build progress: |██████████████████████████████████████████████████████| (done) 100%\n",
            "Parse progress: |████████████████████████████████████████████████████████████████| (done) 100%\n",
            "id 272  completed: \n",
            "drf Model Build progress: |██████████████████████████████████████████████████████| (done) 100%\n",
            "Parse progress: |████████████████████████████████████████████████████████████████| (done) 100%\n",
            "id 272  completed: \n",
            "drf Model Build progress: |██████████████████████████████████████████████████████| (done) 100%\n",
            "Parse progress: |████████████████████████████████████████████████████████████████| (done) 100%\n",
            "id 272  completed: \n",
            "drf Model Build progress: |██████████████████████████████████████████████████████| (done) 100%\n",
            "Parse progress: |████████████████████████████████████████████████████████████████| (done) 100%\n",
            "id 281  completed: \n",
            "drf Model Build progress: |██████████████████████████████████████████████████████| (done) 100%\n",
            "Parse progress: |████████████████████████████████████████████████████████████████| (done) 100%\n",
            "id 281  completed: \n",
            "drf Model Build progress: |██████████████████████████████████████████████████████| (done) 100%\n",
            "Parse progress: |████████████████████████████████████████████████████████████████| (done) 100%\n",
            "id 281  completed: \n",
            "drf Model Build progress: |██████████████████████████████████████████████████████| (done) 100%\n",
            "Parse progress: |████████████████████████████████████████████████████████████████| (done) 100%\n",
            "id 361  completed: \n",
            "drf Model Build progress: |██████████████████████████████████████████████████████| (done) 100%\n",
            "Parse progress: |████████████████████████████████████████████████████████████████| (done) 100%\n",
            "id 361  completed: \n",
            "drf Model Build progress: |██████████████████████████████████████████████████████| (done) 100%\n",
            "Parse progress: |████████████████████████████████████████████████████████████████| (done) 100%\n",
            "id 361  completed: \n",
            "drf Model Build progress: |██████████████████████████████████████████████████████| (done) 100%\n",
            "Parse progress: |████████████████████████████████████████████████████████████████| (done) 100%\n",
            "id 374  completed: \n",
            "drf Model Build progress: |██████████████████████████████████████████████████████| (done) 100%\n",
            "Parse progress: |████████████████████████████████████████████████████████████████| (done) 100%\n",
            "id 374  completed: \n",
            "drf Model Build progress: |██████████████████████████████████████████████████████| (done) 100%\n",
            "Parse progress: |████████████████████████████████████████████████████████████████| (done) 100%\n",
            "id 374  completed: \n",
            "drf Model Build progress: |██████████████████████████████████████████████████████| (done) 100%\n",
            "Parse progress: |████████████████████████████████████████████████████████████████| (done) 100%\n",
            "id 470  completed: \n",
            "drf Model Build progress: |██████████████████████████████████████████████████████| (done) 100%\n",
            "Parse progress: |████████████████████████████████████████████████████████████████| (done) 100%\n",
            "id 470  completed: \n",
            "drf Model Build progress: |██████████████████████████████████████████████████████| (done) 100%\n",
            "Parse progress: |████████████████████████████████████████████████████████████████| (done) 100%\n",
            "id 470  completed: \n",
            "drf Model Build progress: |██████████████████████████████████████████████████████| (done) 100%\n",
            "Parse progress: |████████████████████████████████████████████████████████████████| (done) 100%\n",
            "id 484  completed: \n",
            "drf Model Build progress: |██████████████████████████████████████████████████████| (done) 100%\n",
            "Parse progress: |████████████████████████████████████████████████████████████████| (done) 100%\n",
            "id 484  completed: \n",
            "drf Model Build progress: |██████████████████████████████████████████████████████| (done) 100%\n",
            "Parse progress: |████████████████████████████████████████████████████████████████| (done) 100%\n",
            "id 484  completed: \n",
            "drf Model Build progress: |██████████████████████████████████████████████████████| (done) 100%\n",
            "Parse progress: |████████████████████████████████████████████████████████████████| (done) 100%\n",
            "id 546  completed: \n",
            "drf Model Build progress: |██████████████████████████████████████████████████████| (done) 100%\n",
            "Parse progress: |████████████████████████████████████████████████████████████████| (done) 100%\n",
            "id 546  completed: \n",
            "drf Model Build progress: |██████████████████████████████████████████████████████| (done) 100%\n",
            "Parse progress: |████████████████████████████████████████████████████████████████| (done) 100%\n",
            "id 546  completed: \n",
            "drf Model Build progress: |██████████████████████████████████████████████████████| (done) 100%\n",
            "Parse progress: |████████████████████████████████████████████████████████████████| (done) 100%\n",
            "id 558  completed: \n",
            "drf Model Build progress: |██████████████████████████████████████████████████████| (done) 100%\n",
            "Parse progress: |████████████████████████████████████████████████████████████████| (done) 100%\n",
            "id 558  completed: \n",
            "drf Model Build progress: |██████████████████████████████████████████████████████| (done) 100%\n",
            "Parse progress: |████████████████████████████████████████████████████████████████| (done) 100%\n",
            "id 558  completed: \n",
            "drf Model Build progress: |██████████████████████████████████████████████████████| (done) 100%\n",
            "Parse progress: |████████████████████████████████████████████████████████████████| (done) 100%\n",
            "id 611  completed: \n",
            "drf Model Build progress: |██████████████████████████████████████████████████████| (done) 100%\n",
            "Parse progress: |████████████████████████████████████████████████████████████████| (done) 100%\n",
            "id 611  completed: \n",
            "drf Model Build progress: |██████████████████████████████████████████████████████| (done) 100%\n",
            "Parse progress: |████████████████████████████████████████████████████████████████| (done) 100%\n",
            "id 611  completed: \n",
            "drf Model Build progress: |██████████████████████████████████████████████████████| (done) 100%\n",
            "Parse progress: |████████████████████████████████████████████████████████████████| (done) 100%\n",
            "id 634  completed: \n",
            "drf Model Build progress: |██████████████████████████████████████████████████████| (done) 100%\n",
            "Parse progress: |████████████████████████████████████████████████████████████████| (done) 100%\n",
            "id 634  completed: \n",
            "drf Model Build progress: |██████████████████████████████████████████████████████| (done) 100%\n",
            "Parse progress: |████████████████████████████████████████████████████████████████| (done) 100%\n",
            "id 634  completed: \n",
            "drf Model Build progress: |██████████████████████████████████████████████████████| (done) 100%\n",
            "Parse progress: |████████████████████████████████████████████████████████████████| (done) 100%\n",
            "id 645  completed: \n",
            "drf Model Build progress: |██████████████████████████████████████████████████████| (done) 100%\n",
            "Parse progress: |████████████████████████████████████████████████████████████████| (done) 100%\n",
            "id 645  completed: \n",
            "drf Model Build progress: |██████████████████████████████████████████████████████| (done) 100%\n",
            "Parse progress: |████████████████████████████████████████████████████████████████| (done) 100%\n",
            "id 645  completed: \n",
            "drf Model Build progress: |██████████████████████████████████████████████████████| (done) 100%\n",
            "Parse progress: |████████████████████████████████████████████████████████████████| (done) 100%\n",
            "id 775  completed: \n",
            "drf Model Build progress: |██████████████████████████████████████████████████████| (done) 100%\n",
            "Parse progress: |████████████████████████████████████████████████████████████████| (done) 100%\n",
            "id 775  completed: \n",
            "drf Model Build progress: |██████████████████████████████████████████████████████| (done) 100%\n",
            "Parse progress: |████████████████████████████████████████████████████████████████| (done) 100%\n",
            "id 775  completed: \n",
            "drf Model Build progress: |██████████████████████████████████████████████████████| (done) 100%\n",
            "Parse progress: |████████████████████████████████████████████████████████████████| (done) 100%\n",
            "id 828  completed: \n",
            "drf Model Build progress: |██████████████████████████████████████████████████████| (done) 100%\n",
            "Parse progress: |████████████████████████████████████████████████████████████████| (done) 100%\n",
            "id 828  completed: \n",
            "drf Model Build progress: |██████████████████████████████████████████████████████| (done) 100%\n",
            "Parse progress: |████████████████████████████████████████████████████████████████| (done) 100%\n",
            "id 828  completed: \n"
          ]
        }
      ],
      "source": [
        "#create loop to run model and extract variables with anomalies\n",
        "anomalies_dict = {}\n",
        "df_output = pd.DataFrame()\n",
        "for E in df_id: \n",
        "  num = 3\n",
        "  for x in range(num):\n",
        "    \n",
        "    #train model on anomaly record\n",
        "    local_surrogate_data[\"anomaly_record\"] = (local_surrogate_data[\"PassengerId\"] == E).ifelse(\"Anomaly\", \"NotAnomaly\")\n",
        "\n",
        "    local_surrogate_dt = H2ORandomForestEstimator(model_id = \"local_level_surrogate_decision_tree.hex\", \n",
        "                                                ntrees = 1, max_depth = 4,\n",
        "                                                sample_rate = 1)\n",
        "    local_surrogate_dt.train(training_frame = local_surrogate_data, x = x_var, y = \"anomaly_record\")\n",
        "\n",
        "    #isolate variables with importance and create a frame\n",
        "    local_table = local_surrogate_dt.varimp()\n",
        "    frame = h2o.H2OFrame(local_table, header=-1)\n",
        "\n",
        "    #convert frame to Pandas df to manipulate and populate dictionary\n",
        "    df = frame.as_data_frame()\n",
        "    df = df[df.C4 != 0]\n",
        "\n",
        "    #calculate C4 - C2 to identify variables that need to be checked\n",
        "    diff = (df['C4'].sum()) - (df['C2'].sum())\n",
        "\n",
        "    #add values to dictionary and append to df \n",
        "    cols = df['C1'].tolist()\n",
        "    anomalies_dict = {'PassengerId': E, 'Variables': cols, 'Result': diff}\n",
        "    df_output = df_output.append(anomalies_dict, ignore_index=True)\n",
        "\n",
        "    print(f'id {E}  completed: ')\n",
        "\n",
        "\n",
        "df_output = df_output[df_output.Result!=None]"
      ]
    },
    {
      "cell_type": "markdown",
      "metadata": {
        "id": "aZKfabJwDc9m"
      },
      "source": [
        "We now have a Pandas df of the employee number and variables that were flagged as anomalous by the model. Let's now group the variables by employee number and only keep those that came up more than once. "
      ]
    },
    {
      "cell_type": "code",
      "execution_count": 22,
      "metadata": {},
      "outputs": [
        {
          "data": {
            "text/html": [
              "<div>\n",
              "<style scoped>\n",
              "    .dataframe tbody tr th:only-of-type {\n",
              "        vertical-align: middle;\n",
              "    }\n",
              "\n",
              "    .dataframe tbody tr th {\n",
              "        vertical-align: top;\n",
              "    }\n",
              "\n",
              "    .dataframe thead th {\n",
              "        text-align: right;\n",
              "    }\n",
              "</style>\n",
              "<table border=\"1\" class=\"dataframe\">\n",
              "  <thead>\n",
              "    <tr style=\"text-align: right;\">\n",
              "      <th></th>\n",
              "      <th>PassengerId</th>\n",
              "      <th>Variables</th>\n",
              "      <th>Result</th>\n",
              "    </tr>\n",
              "  </thead>\n",
              "  <tbody>\n",
              "    <tr>\n",
              "      <th>0</th>\n",
              "      <td>44</td>\n",
              "      <td>[Ticket, Parch]</td>\n",
              "      <td>0.972551</td>\n",
              "    </tr>\n",
              "    <tr>\n",
              "      <th>1</th>\n",
              "      <td>44</td>\n",
              "      <td>[Fare, Sex]</td>\n",
              "      <td>0.501122</td>\n",
              "    </tr>\n",
              "    <tr>\n",
              "      <th>2</th>\n",
              "      <td>44</td>\n",
              "      <td>[SibSp, Age, Sex]</td>\n",
              "      <td>0.001122</td>\n",
              "    </tr>\n",
              "    <tr>\n",
              "      <th>3</th>\n",
              "      <td>117</td>\n",
              "      <td>[Fare, Survived, Sex]</td>\n",
              "      <td>0.990484</td>\n",
              "    </tr>\n",
              "    <tr>\n",
              "      <th>4</th>\n",
              "      <td>117</td>\n",
              "      <td>[Age, Ticket]</td>\n",
              "      <td>0.001122</td>\n",
              "    </tr>\n",
              "    <tr>\n",
              "      <th>5</th>\n",
              "      <td>117</td>\n",
              "      <td>[Age, Ticket]</td>\n",
              "      <td>0.001122</td>\n",
              "    </tr>\n",
              "    <tr>\n",
              "      <th>6</th>\n",
              "      <td>180</td>\n",
              "      <td>[Age, Fare]</td>\n",
              "      <td>0.001122</td>\n",
              "    </tr>\n",
              "    <tr>\n",
              "      <th>7</th>\n",
              "      <td>180</td>\n",
              "      <td>[Ticket, Age, Survived, Fare]</td>\n",
              "      <td>0.501122</td>\n",
              "    </tr>\n",
              "    <tr>\n",
              "      <th>8</th>\n",
              "      <td>180</td>\n",
              "      <td>[Age, Ticket, Fare]</td>\n",
              "      <td>0.001122</td>\n",
              "    </tr>\n",
              "    <tr>\n",
              "      <th>9</th>\n",
              "      <td>272</td>\n",
              "      <td>[Ticket, Pclass]</td>\n",
              "      <td>0.991948</td>\n",
              "    </tr>\n",
              "    <tr>\n",
              "      <th>10</th>\n",
              "      <td>272</td>\n",
              "      <td>[Ticket, Sex, Survived, Age]</td>\n",
              "      <td>0.924199</td>\n",
              "    </tr>\n",
              "    <tr>\n",
              "      <th>11</th>\n",
              "      <td>272</td>\n",
              "      <td>[Ticket]</td>\n",
              "      <td>0.996775</td>\n",
              "    </tr>\n",
              "    <tr>\n",
              "      <th>12</th>\n",
              "      <td>281</td>\n",
              "      <td>[Fare, Age]</td>\n",
              "      <td>0.001122</td>\n",
              "    </tr>\n",
              "    <tr>\n",
              "      <th>13</th>\n",
              "      <td>281</td>\n",
              "      <td>[Age, Fare]</td>\n",
              "      <td>0.001122</td>\n",
              "    </tr>\n",
              "    <tr>\n",
              "      <th>14</th>\n",
              "      <td>281</td>\n",
              "      <td>[Age, Ticket, Fare]</td>\n",
              "      <td>0.001122</td>\n",
              "    </tr>\n",
              "    <tr>\n",
              "      <th>15</th>\n",
              "      <td>361</td>\n",
              "      <td>[Age, Fare, Parch]</td>\n",
              "      <td>0.001122</td>\n",
              "    </tr>\n",
              "    <tr>\n",
              "      <th>16</th>\n",
              "      <td>361</td>\n",
              "      <td>[Age, Parch]</td>\n",
              "      <td>0.001122</td>\n",
              "    </tr>\n",
              "    <tr>\n",
              "      <th>17</th>\n",
              "      <td>361</td>\n",
              "      <td>[Fare, Parch, Age]</td>\n",
              "      <td>0.501122</td>\n",
              "    </tr>\n",
              "    <tr>\n",
              "      <th>18</th>\n",
              "      <td>374</td>\n",
              "      <td>[Ticket, Pclass]</td>\n",
              "      <td>0.985497</td>\n",
              "    </tr>\n",
              "    <tr>\n",
              "      <th>19</th>\n",
              "      <td>374</td>\n",
              "      <td>[Ticket]</td>\n",
              "      <td>0.996775</td>\n",
              "    </tr>\n",
              "    <tr>\n",
              "      <th>20</th>\n",
              "      <td>374</td>\n",
              "      <td>[Fare, Age]</td>\n",
              "      <td>0.001122</td>\n",
              "    </tr>\n",
              "    <tr>\n",
              "      <th>21</th>\n",
              "      <td>470</td>\n",
              "      <td>[Age, SibSp, Ticket]</td>\n",
              "      <td>0.501122</td>\n",
              "    </tr>\n",
              "    <tr>\n",
              "      <th>22</th>\n",
              "      <td>470</td>\n",
              "      <td>[Age, Ticket, SibSp]</td>\n",
              "      <td>0.501122</td>\n",
              "    </tr>\n",
              "    <tr>\n",
              "      <th>23</th>\n",
              "      <td>470</td>\n",
              "      <td>[Fare, Age]</td>\n",
              "      <td>0.501122</td>\n",
              "    </tr>\n",
              "    <tr>\n",
              "      <th>24</th>\n",
              "      <td>484</td>\n",
              "      <td>[Age, Fare]</td>\n",
              "      <td>0.001122</td>\n",
              "    </tr>\n",
              "    <tr>\n",
              "      <th>25</th>\n",
              "      <td>484</td>\n",
              "      <td>[SibSp, Age, Sex]</td>\n",
              "      <td>0.001122</td>\n",
              "    </tr>\n",
              "    <tr>\n",
              "      <th>26</th>\n",
              "      <td>484</td>\n",
              "      <td>[Age, Survived, Pclass]</td>\n",
              "      <td>0.001122</td>\n",
              "    </tr>\n",
              "    <tr>\n",
              "      <th>27</th>\n",
              "      <td>546</td>\n",
              "      <td>[Fare, Ticket]</td>\n",
              "      <td>0.001122</td>\n",
              "    </tr>\n",
              "    <tr>\n",
              "      <th>28</th>\n",
              "      <td>546</td>\n",
              "      <td>[Cabin, Age]</td>\n",
              "      <td>0.001122</td>\n",
              "    </tr>\n",
              "    <tr>\n",
              "      <th>29</th>\n",
              "      <td>546</td>\n",
              "      <td>[Ticket, Age]</td>\n",
              "      <td>0.001122</td>\n",
              "    </tr>\n",
              "    <tr>\n",
              "      <th>30</th>\n",
              "      <td>558</td>\n",
              "      <td>[Ticket, Sex]</td>\n",
              "      <td>0.994671</td>\n",
              "    </tr>\n",
              "    <tr>\n",
              "      <th>31</th>\n",
              "      <td>558</td>\n",
              "      <td>[Age, Survived, Fare, Pclass]</td>\n",
              "      <td>0.001122</td>\n",
              "    </tr>\n",
              "    <tr>\n",
              "      <th>32</th>\n",
              "      <td>558</td>\n",
              "      <td>[Ticket, Survived]</td>\n",
              "      <td>0.994080</td>\n",
              "    </tr>\n",
              "    <tr>\n",
              "      <th>33</th>\n",
              "      <td>611</td>\n",
              "      <td>[Fare, Age, SibSp]</td>\n",
              "      <td>0.501122</td>\n",
              "    </tr>\n",
              "    <tr>\n",
              "      <th>34</th>\n",
              "      <td>611</td>\n",
              "      <td>[Age, Parch, Ticket, Fare]</td>\n",
              "      <td>0.501122</td>\n",
              "    </tr>\n",
              "    <tr>\n",
              "      <th>35</th>\n",
              "      <td>611</td>\n",
              "      <td>[Age, Fare, Ticket]</td>\n",
              "      <td>0.501122</td>\n",
              "    </tr>\n",
              "    <tr>\n",
              "      <th>36</th>\n",
              "      <td>634</td>\n",
              "      <td>[Cabin, Fare, Age, Pclass]</td>\n",
              "      <td>0.001122</td>\n",
              "    </tr>\n",
              "    <tr>\n",
              "      <th>37</th>\n",
              "      <td>634</td>\n",
              "      <td>[Ticket, Fare, Survived]</td>\n",
              "      <td>0.801122</td>\n",
              "    </tr>\n",
              "    <tr>\n",
              "      <th>38</th>\n",
              "      <td>634</td>\n",
              "      <td>[Age, Pclass, Survived, Embarked]</td>\n",
              "      <td>0.910213</td>\n",
              "    </tr>\n",
              "    <tr>\n",
              "      <th>39</th>\n",
              "      <td>645</td>\n",
              "      <td>[Age, SibSp, Embarked]</td>\n",
              "      <td>0.501122</td>\n",
              "    </tr>\n",
              "    <tr>\n",
              "      <th>40</th>\n",
              "      <td>645</td>\n",
              "      <td>[Embarked, Fare, SibSp, Survived]</td>\n",
              "      <td>0.667789</td>\n",
              "    </tr>\n",
              "    <tr>\n",
              "      <th>41</th>\n",
              "      <td>645</td>\n",
              "      <td>[Age, Ticket, Fare]</td>\n",
              "      <td>0.501122</td>\n",
              "    </tr>\n",
              "    <tr>\n",
              "      <th>42</th>\n",
              "      <td>775</td>\n",
              "      <td>[Age, Fare, Parch, Ticket]</td>\n",
              "      <td>0.001122</td>\n",
              "    </tr>\n",
              "    <tr>\n",
              "      <th>43</th>\n",
              "      <td>775</td>\n",
              "      <td>[Ticket, Age]</td>\n",
              "      <td>0.001122</td>\n",
              "    </tr>\n",
              "    <tr>\n",
              "      <th>44</th>\n",
              "      <td>775</td>\n",
              "      <td>[Sex, Age, Parch, Ticket]</td>\n",
              "      <td>0.001122</td>\n",
              "    </tr>\n",
              "    <tr>\n",
              "      <th>45</th>\n",
              "      <td>828</td>\n",
              "      <td>[SibSp, Fare]</td>\n",
              "      <td>0.001122</td>\n",
              "    </tr>\n",
              "    <tr>\n",
              "      <th>46</th>\n",
              "      <td>828</td>\n",
              "      <td>[Ticket]</td>\n",
              "      <td>0.996775</td>\n",
              "    </tr>\n",
              "    <tr>\n",
              "      <th>47</th>\n",
              "      <td>828</td>\n",
              "      <td>[SibSp, Fare, Sex]</td>\n",
              "      <td>0.001122</td>\n",
              "    </tr>\n",
              "  </tbody>\n",
              "</table>\n",
              "</div>"
            ],
            "text/plain": [
              "    PassengerId                          Variables    Result\n",
              "0            44                    [Ticket, Parch]  0.972551\n",
              "1            44                        [Fare, Sex]  0.501122\n",
              "2            44                  [SibSp, Age, Sex]  0.001122\n",
              "3           117              [Fare, Survived, Sex]  0.990484\n",
              "4           117                      [Age, Ticket]  0.001122\n",
              "5           117                      [Age, Ticket]  0.001122\n",
              "6           180                        [Age, Fare]  0.001122\n",
              "7           180      [Ticket, Age, Survived, Fare]  0.501122\n",
              "8           180                [Age, Ticket, Fare]  0.001122\n",
              "9           272                   [Ticket, Pclass]  0.991948\n",
              "10          272       [Ticket, Sex, Survived, Age]  0.924199\n",
              "11          272                           [Ticket]  0.996775\n",
              "12          281                        [Fare, Age]  0.001122\n",
              "13          281                        [Age, Fare]  0.001122\n",
              "14          281                [Age, Ticket, Fare]  0.001122\n",
              "15          361                 [Age, Fare, Parch]  0.001122\n",
              "16          361                       [Age, Parch]  0.001122\n",
              "17          361                 [Fare, Parch, Age]  0.501122\n",
              "18          374                   [Ticket, Pclass]  0.985497\n",
              "19          374                           [Ticket]  0.996775\n",
              "20          374                        [Fare, Age]  0.001122\n",
              "21          470               [Age, SibSp, Ticket]  0.501122\n",
              "22          470               [Age, Ticket, SibSp]  0.501122\n",
              "23          470                        [Fare, Age]  0.501122\n",
              "24          484                        [Age, Fare]  0.001122\n",
              "25          484                  [SibSp, Age, Sex]  0.001122\n",
              "26          484            [Age, Survived, Pclass]  0.001122\n",
              "27          546                     [Fare, Ticket]  0.001122\n",
              "28          546                       [Cabin, Age]  0.001122\n",
              "29          546                      [Ticket, Age]  0.001122\n",
              "30          558                      [Ticket, Sex]  0.994671\n",
              "31          558      [Age, Survived, Fare, Pclass]  0.001122\n",
              "32          558                 [Ticket, Survived]  0.994080\n",
              "33          611                 [Fare, Age, SibSp]  0.501122\n",
              "34          611         [Age, Parch, Ticket, Fare]  0.501122\n",
              "35          611                [Age, Fare, Ticket]  0.501122\n",
              "36          634         [Cabin, Fare, Age, Pclass]  0.001122\n",
              "37          634           [Ticket, Fare, Survived]  0.801122\n",
              "38          634  [Age, Pclass, Survived, Embarked]  0.910213\n",
              "39          645             [Age, SibSp, Embarked]  0.501122\n",
              "40          645  [Embarked, Fare, SibSp, Survived]  0.667789\n",
              "41          645                [Age, Ticket, Fare]  0.501122\n",
              "42          775         [Age, Fare, Parch, Ticket]  0.001122\n",
              "43          775                      [Ticket, Age]  0.001122\n",
              "44          775          [Sex, Age, Parch, Ticket]  0.001122\n",
              "45          828                      [SibSp, Fare]  0.001122\n",
              "46          828                           [Ticket]  0.996775\n",
              "47          828                 [SibSp, Fare, Sex]  0.001122"
            ]
          },
          "execution_count": 22,
          "metadata": {},
          "output_type": "execute_result"
        }
      ],
      "source": [
        "df_output"
      ]
    },
    {
      "cell_type": "code",
      "execution_count": 23,
      "metadata": {
        "colab": {
          "base_uri": "https://localhost:8080/",
          "height": 206
        },
        "id": "w-yVvQ20DRAf",
        "outputId": "810853a1-55db-4dea-aa18-85357a2dba14"
      },
      "outputs": [
        {
          "data": {
            "text/html": [
              "<div>\n",
              "<style scoped>\n",
              "    .dataframe tbody tr th:only-of-type {\n",
              "        vertical-align: middle;\n",
              "    }\n",
              "\n",
              "    .dataframe tbody tr th {\n",
              "        vertical-align: top;\n",
              "    }\n",
              "\n",
              "    .dataframe thead th {\n",
              "        text-align: right;\n",
              "    }\n",
              "</style>\n",
              "<table border=\"1\" class=\"dataframe\">\n",
              "  <thead>\n",
              "    <tr style=\"text-align: right;\">\n",
              "      <th></th>\n",
              "      <th>PassengerId</th>\n",
              "      <th>Variables</th>\n",
              "    </tr>\n",
              "  </thead>\n",
              "  <tbody>\n",
              "    <tr>\n",
              "      <th>0</th>\n",
              "      <td>44</td>\n",
              "      <td>[Sex]</td>\n",
              "    </tr>\n",
              "    <tr>\n",
              "      <th>1</th>\n",
              "      <td>117</td>\n",
              "      <td>[Age, Ticket]</td>\n",
              "    </tr>\n",
              "    <tr>\n",
              "      <th>2</th>\n",
              "      <td>180</td>\n",
              "      <td>[Age, Fare, Ticket]</td>\n",
              "    </tr>\n",
              "    <tr>\n",
              "      <th>3</th>\n",
              "      <td>272</td>\n",
              "      <td>[Ticket]</td>\n",
              "    </tr>\n",
              "    <tr>\n",
              "      <th>4</th>\n",
              "      <td>281</td>\n",
              "      <td>[Age, Fare]</td>\n",
              "    </tr>\n",
              "    <tr>\n",
              "      <th>5</th>\n",
              "      <td>361</td>\n",
              "      <td>[Age, Parch, Fare]</td>\n",
              "    </tr>\n",
              "    <tr>\n",
              "      <th>6</th>\n",
              "      <td>374</td>\n",
              "      <td>[Ticket]</td>\n",
              "    </tr>\n",
              "    <tr>\n",
              "      <th>7</th>\n",
              "      <td>470</td>\n",
              "      <td>[Age, SibSp, Ticket]</td>\n",
              "    </tr>\n",
              "    <tr>\n",
              "      <th>8</th>\n",
              "      <td>484</td>\n",
              "      <td>[Age]</td>\n",
              "    </tr>\n",
              "    <tr>\n",
              "      <th>9</th>\n",
              "      <td>546</td>\n",
              "      <td>[Age, Ticket]</td>\n",
              "    </tr>\n",
              "    <tr>\n",
              "      <th>10</th>\n",
              "      <td>558</td>\n",
              "      <td>[Survived, Ticket]</td>\n",
              "    </tr>\n",
              "    <tr>\n",
              "      <th>11</th>\n",
              "      <td>611</td>\n",
              "      <td>[Age, Fare, Ticket]</td>\n",
              "    </tr>\n",
              "    <tr>\n",
              "      <th>12</th>\n",
              "      <td>634</td>\n",
              "      <td>[Age, Fare, Pclass, Survived]</td>\n",
              "    </tr>\n",
              "    <tr>\n",
              "      <th>13</th>\n",
              "      <td>645</td>\n",
              "      <td>[Age, Embarked, Fare, SibSp]</td>\n",
              "    </tr>\n",
              "    <tr>\n",
              "      <th>14</th>\n",
              "      <td>775</td>\n",
              "      <td>[Age, Ticket, Parch]</td>\n",
              "    </tr>\n",
              "    <tr>\n",
              "      <th>15</th>\n",
              "      <td>828</td>\n",
              "      <td>[Fare, SibSp]</td>\n",
              "    </tr>\n",
              "  </tbody>\n",
              "</table>\n",
              "</div>"
            ],
            "text/plain": [
              "    PassengerId                      Variables\n",
              "0            44                          [Sex]\n",
              "1           117                  [Age, Ticket]\n",
              "2           180            [Age, Fare, Ticket]\n",
              "3           272                       [Ticket]\n",
              "4           281                    [Age, Fare]\n",
              "5           361             [Age, Parch, Fare]\n",
              "6           374                       [Ticket]\n",
              "7           470           [Age, SibSp, Ticket]\n",
              "8           484                          [Age]\n",
              "9           546                  [Age, Ticket]\n",
              "10          558             [Survived, Ticket]\n",
              "11          611            [Age, Fare, Ticket]\n",
              "12          634  [Age, Fare, Pclass, Survived]\n",
              "13          645   [Age, Embarked, Fare, SibSp]\n",
              "14          775           [Age, Ticket, Parch]\n",
              "15          828                  [Fare, SibSp]"
            ]
          },
          "execution_count": 23,
          "metadata": {},
          "output_type": "execute_result"
        }
      ],
      "source": [
        "#explode lists into rows for each row\n",
        "df_final = df_output.explode('Variables')\n",
        "\n",
        "#group the df by employee number and count the number of times the variable comes up\n",
        "df_final = df_final.groupby(['PassengerId', 'Variables']).size().reset_index(name='Count')\n",
        "\n",
        "#sort by employee number then by count (descending)\n",
        "df_final = df_final.sort_values(['PassengerId', 'Count'], ascending = [True, False ])\n",
        "\n",
        "#drop rows where count < 2\n",
        "df_final = df_final[df_final.Count > 1]\n",
        "\n",
        "#group by EmployeeNumber and create list of variables, in rank order by highest frequency to lowest\n",
        "df_final = df_final.groupby('PassengerId')['Variables'].apply(list).reset_index()\n",
        "\n",
        "\n",
        "df_final"
      ]
    },
    {
      "cell_type": "code",
      "execution_count": null,
      "metadata": {},
      "outputs": [],
      "source": []
    }
  ],
  "metadata": {
    "colab": {
      "collapsed_sections": [],
      "name": "Final Isolation Trees_IBM Attrition Data.ipynb",
      "provenance": []
    },
    "kernelspec": {
      "display_name": "Python 3.10.6 64-bit",
      "language": "python",
      "name": "python3"
    },
    "language_info": {
      "codemirror_mode": {
        "name": "ipython",
        "version": 3
      },
      "file_extension": ".py",
      "mimetype": "text/x-python",
      "name": "python",
      "nbconvert_exporter": "python",
      "pygments_lexer": "ipython3",
      "version": "3.10.6"
    },
    "vscode": {
      "interpreter": {
        "hash": "369f2c481f4da34e4445cda3fffd2e751bd1c4d706f27375911949ba6bb62e1c"
      }
    }
  },
  "nbformat": 4,
  "nbformat_minor": 0
}
